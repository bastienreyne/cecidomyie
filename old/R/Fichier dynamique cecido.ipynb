{
 "cells": [
  {
   "cell_type": "markdown",
   "metadata": {},
   "source": [
    "# OBJECTIF : \n",
    "\n",
    "On récupère les données du fichier dynamique cecido, on regarde ce qu'on obtient de ces données. Les résultats obtenus sont commentés dans le fichier RESULTATS EXTRAITS DU FICHIER DYNAMIQUE.docx"
   ]
  },
  {
   "cell_type": "markdown",
   "metadata": {},
   "source": [
    "## Importation des librairies"
   ]
  },
  {
   "cell_type": "code",
   "execution_count": 1,
   "metadata": {},
   "outputs": [
    {
     "name": "stderr",
     "output_type": "stream",
     "text": [
      "\n",
      "Attaching package: ‘dplyr’\n",
      "\n",
      "The following objects are masked from ‘package:plyr’:\n",
      "\n",
      "    arrange, count, desc, failwith, id, mutate, rename, summarise,\n",
      "    summarize\n",
      "\n",
      "The following objects are masked from ‘package:stats’:\n",
      "\n",
      "    filter, lag\n",
      "\n",
      "The following objects are masked from ‘package:base’:\n",
      "\n",
      "    intersect, setdiff, setequal, union\n",
      "\n",
      "Loading required package: rJava\n"
     ]
    }
   ],
   "source": [
    "library (plyr)\n",
    "library (dplyr)\n",
    "library (readr)\n",
    "library (xlsxjars)\n",
    "library (xlsx)\n",
    "library (float)"
   ]
  },
  {
   "cell_type": "code",
   "execution_count": 3,
   "metadata": {},
   "outputs": [
    {
     "data": {
      "text/html": [
       "'/home/laurie/Dropbox/Cecidomyie/R'"
      ],
      "text/latex": [
       "'/home/laurie/Dropbox/Cecidomyie/R'"
      ],
      "text/markdown": [
       "'/home/laurie/Dropbox/Cecidomyie/R'"
      ],
      "text/plain": [
       "[1] \"/home/laurie/Dropbox/Cecidomyie/R\""
      ]
     },
     "metadata": {},
     "output_type": "display_data"
    }
   ],
   "source": [
    "getwd()"
   ]
  },
  {
   "cell_type": "markdown",
   "metadata": {},
   "source": [
    "## On se place dans le fichier dynamique cecido"
   ]
  },
  {
   "cell_type": "code",
   "execution_count": 4,
   "metadata": {},
   "outputs": [],
   "source": [
    "#setwd(\"../Fichiers de donnees/Donnees brutes\")\n",
    "\n",
    "# Lecture du fichier dynamique cecido\n",
    "data1 = read.xlsx2(\"../Fichiers de donnees/Donnees brutes/dynamique.cecido.modif0.xlsx\", 1)\n",
    "\n",
    "# On change les dates en \"DD/MM/YYYY\"\n",
    "unique_date = as.character(unique(data1$date))\n",
    "date = c('01/09/2017','06/09/2017','08/09/2017','13/09/2017','15/09/2017','20/09/2017','22/09/2017','26/09/2017','29/09/2017',\n",
    "         '03/10/2017','06/10/2017')\n",
    "data1$date = as.character(as.numeric(as.character(data1$date)))\n",
    "for (i in 1:length(date))\n",
    "    data1$date[data1$date==unique_date[i]] = date[i] "
   ]
  },
  {
   "cell_type": "markdown",
   "metadata": {},
   "source": [
    "## Durée des stades phénologiques (thèse de Paul)"
   ]
  },
  {
   "cell_type": "code",
   "execution_count": 10,
   "metadata": {},
   "outputs": [],
   "source": [
    "# Durée cumulée entre chaque stade (estimations faites à partir des données de notre fichier dynamique.cecido)\n",
    "stade = c('C','D1','D2','E','F','G')\n",
    "debut_stade = cumsum(c(0,1,4,4,7,28,7))\n",
    "fin_stade = rev(cumsum(rev(c(1,4,4,7,28,7,0))))"
   ]
  },
  {
   "cell_type": "markdown",
   "metadata": {},
   "source": [
    "## Duree de vie des inflorescences"
   ]
  },
  {
   "cell_type": "code",
   "execution_count": 6,
   "metadata": {},
   "outputs": [],
   "source": [
    "# On enlève les stades phénos non observés et les stades végétatifs\n",
    "data1_0 = data1[data1$stade!='NA' & data1$stade!='V',]\n",
    "\n",
    "# On sépare selon le bloc, le traitement du sol, l'arbre, le piège, et le numéro d'étiquette afin d'avoir toutes les \n",
    "# étiquettes suivies séparées \n",
    "data1_split = split(data1_0, list(data1_0$bloc,data1_0$trait,data1_0$arbre,data1_0$piege,data1_0$num.etiq))\n",
    "\n",
    "# Nombre d'étiquettes suivies avec des stades phénos observés\n",
    "NbGroup = length(data1_split)\n",
    "\n",
    "# Initisalisation\n",
    "cecido = c()\n",
    "birth = structure(rep(NA_real_, 130), class=\"Date\")\n",
    "dead  = structure(rep(NA_real_, 130), class=\"Date\")\n",
    "\n",
    "jj = 1\n",
    "\n",
    "# Pour chaque étiquette :\n",
    "    # On récupère la date de naissance de l'inflo (premier stade phéno observé si c'est le stade C,\n",
    "    # sinon estimation de la date d'apparition du stade C avec duree_stade et debut_stade).\n",
    "    # On récupère la date de mort de l'inflo (premier 5 dans le niveau de déssechement, signifie qu'elle est sèche à 100%).\n",
    "    # Si elle n'atteint pas l'état de déssèchement 5, on estime sa date de mort avec les durées des stades.\n",
    "for (i in 1:NbGroup) {\n",
    "    tmp = data.frame(data1_split[i])\n",
    "    colnames(tmp) = colnames(data1_0)\n",
    "    tmp$date = as.Date(tmp$date, '%d/%m/%Y')\n",
    "    tmp$date = as.Date(strptime(tmp$date, format = \"%Y-%m-%d\"))\n",
    "    tmp$stade = as.character(tmp$stade)\n",
    "    if (dim(tmp)[1]!=0) {\n",
    "        premier_stade = tmp$stade[1]\n",
    "        ii = which(stade == premier_stade)\n",
    "        birth[jj] = tmp$date[1] - debut_stade[ii]\n",
    "        if (1 %in% tmp$cecido) \n",
    "            cecido = c(cecido,1)\n",
    "        else\n",
    "            cecido = c(cecido,0)\n",
    "        if (5 %in% tmp$etat.panicule) {\n",
    "            j = min(which(tmp$etat.panicule == 5))\n",
    "            dead[jj] = tmp$date[j]\n",
    "        }\n",
    "        else {\n",
    "            dernier_stade = tmp$stade[dim(tmp)[1]]\n",
    "            ii = which(stade == dernier_stade)\n",
    "            dead[jj] = tmp$date[dim(tmp)[1]] + fin_stade[ii]\n",
    "        }\n",
    "        jj = jj+1\n",
    "    }\n",
    "}\n",
    "diff = dead-birth"
   ]
  },
  {
   "cell_type": "code",
   "execution_count": 8,
   "metadata": {
    "scrolled": true
   },
   "outputs": [],
   "source": [
    "# On crée un fichier contenant newdata1\n",
    "newdata1 = data.frame(birth, dead, diff)\n",
    "write.xlsx(newdata1, \"..//Fichiers de donnees/Donnees re organisees/Fichier dynamique cecido/dynamique_cecido_data.xls\", sheetName=\"1\")"
   ]
  },
  {
   "cell_type": "code",
   "execution_count": 9,
   "metadata": {
    "scrolled": false
   },
   "outputs": [
    {
     "data": {
      "image/png": "[encoded data removed]",
      "text/plain": [
       "Plot with title “Histogram of as.numeric(diff)”"
      ]
     },
     "metadata": {},
     "output_type": "display_data"
    }
   ],
   "source": [
    "# Histogramme des durées de vie des inflorescences (On a récupéré toutes les durées de vie des inflos que nous avons et \n",
    "# on les a mises dans un histogramme)\n",
    "hist(as.numeric(diff),freq=F)\n",
    "# Densité de proba d'une loi normale de moyenne, la durée de vie moyenne des inflos et de variance, la variance des inflos\n",
    "curve(dnorm(x,mean(diff),sd(diff)),from=-10,to=70,add=T,col=\"red\")"
   ]
  },
  {
   "cell_type": "markdown",
   "metadata": {},
   "source": [
    "## A quel stade phénologique, l'inflo meurt-elle? "
   ]
  },
  {
   "cell_type": "code",
   "execution_count": 11,
   "metadata": {},
   "outputs": [
    {
     "name": "stdout",
     "output_type": "stream",
     "text": [
      "[1] \"Proportion d'inflos qui meurent à l'état phénologique C : \"\n",
      "[1] 0\n",
      "[1] \"\"\n",
      "[1] \"Proportion d'inflos qui meurent à l'état phénologique D1 : \"\n",
      "[1] 0\n",
      "[1] \"\"\n",
      "[1] \"Proportion d'inflos qui meurent à l'état phénologique D2 : \"\n",
      "[1] 0.04\n",
      "[1] \"\"\n",
      "[1] \"Proportion d'inflos qui meurent à l'état phénologique E : \"\n",
      "[1] 0.1466667\n",
      "[1] \"\"\n",
      "[1] \"Proportion d'inflos qui meurent à l'état phénologique F : \"\n",
      "[1] 0.72\n",
      "[1] \"\"\n",
      "[1] \"Proportion d'inflos qui meurent à l'état phénologique G : \"\n",
      "[1] 0.09333333\n"
     ]
    }
   ],
   "source": [
    "# On enlève les stades phénos non observés et les stades végétatifs\n",
    "data1_0 = data1[data1$stade!='NA' & data1$stade!='V' & data1$cecido=='1',]\n",
    "\n",
    "# On sépare selon le bloc, le traitement du sol, l'arbre, le piège, et le numéro d'étiquette afin d'avoir toutes les \n",
    "# étiquettes suivies séparées \n",
    "data1_split = split(data1_0, list(data1_0$bloc,data1_0$trait,data1_0$arbre,data1_0$piege,data1_0$num.etiq))\n",
    "\n",
    "# Nombre d'étiquettes suivies avec des stades phénos observés\n",
    "NbGroup = length(data1_split)\n",
    "\n",
    "# Initialisation \n",
    "stade_fin = c()\n",
    "\n",
    "jj = 1\n",
    "\n",
    "# Pour chaque étiquette :\n",
    "    # Si l'inflo atteint l'état de déssèchement 5, on garde le stade phénologique durant lequel elle est morte\n",
    "for (i in 1:NbGroup) {\n",
    "    tmp = data.frame(data1_split[i])\n",
    "    colnames(tmp) = colnames(data1_0)\n",
    "    tmp$date = as.Date(tmp$date, '%d/%m/%Y')\n",
    "    tmp$date = as.Date(strptime(tmp$date, format = \"%Y-%m-%d\"))\n",
    "    tmp$stade = as.character(tmp$stade)\n",
    "    if (dim(tmp)[1]!=0) {\n",
    "        if (5 %in% tmp$etat.panicule) {\n",
    "            j = min(which(tmp$etat.panicule == 5))\n",
    "            stade_fin = c(stade_fin, tmp$stade[j])\n",
    "            \n",
    "        }\n",
    "    }\n",
    "}\n",
    "\n",
    "print(\"Proportion d'inflos qui meurent à l'état phénologique C : \")\n",
    "print(sum(stade_fin=='C')/length(stade_fin))\n",
    "print(\"\")\n",
    "print(\"Proportion d'inflos qui meurent à l'état phénologique D1 : \")\n",
    "print(sum(stade_fin=='D1')/length(stade_fin))\n",
    "print(\"\")\n",
    "print(\"Proportion d'inflos qui meurent à l'état phénologique D2 : \")\n",
    "print(sum(stade_fin=='D2')/length(stade_fin))\n",
    "print(\"\")\n",
    "print(\"Proportion d'inflos qui meurent à l'état phénologique E : \")\n",
    "print(sum(stade_fin=='E')/length(stade_fin))\n",
    "print(\"\")\n",
    "print(\"Proportion d'inflos qui meurent à l'état phénologique F : \")\n",
    "print(sum(stade_fin=='F')/length(stade_fin))\n",
    "print(\"\")\n",
    "print(\"Proportion d'inflos qui meurent à l'état phénologique G : \")\n",
    "print(sum(stade_fin=='G')/length(stade_fin))"
   ]
  },
  {
   "cell_type": "markdown",
   "metadata": {},
   "source": [
    "## Stade atteint "
   ]
  },
  {
   "cell_type": "code",
   "execution_count": 12,
   "metadata": {},
   "outputs": [
    {
     "data": {
      "text/html": [
       "<table>\n",
       "<thead><tr><th></th><th scope=col>C</th><th scope=col>D1</th><th scope=col>D2</th><th scope=col>E</th><th scope=col>F</th><th scope=col>G</th></tr></thead>\n",
       "<tbody>\n",
       "\t<tr><th scope=row>Atteint</th><td>128      </td><td>128      </td><td>128.000  </td><td>124.00000</td><td>103.00000</td><td>27.00000 </td></tr>\n",
       "\t<tr><th scope=row>Mort</th><td>  0      </td><td>  0      </td><td>  4.000  </td><td> 21.00000</td><td> 76.00000</td><td> 7.00000 </td></tr>\n",
       "\t<tr><th scope=row>Sain_p</th><td>  0      </td><td>  0      </td><td>  3.125  </td><td> 16.93548</td><td> 73.78641</td><td>25.92593 </td></tr>\n",
       "\t<tr><th scope=row>Mort_p</th><td>100      </td><td>100      </td><td> 96.875  </td><td> 83.06452</td><td> 26.21359</td><td>74.07407 </td></tr>\n",
       "</tbody>\n",
       "</table>\n"
      ],
      "text/latex": [
       "\\begin{tabular}{r|llllll}\n",
       "  & C & D1 & D2 & E & F & G\\\\\n",
       "\\hline\n",
       "\tAtteint & 128       & 128       & 128.000   & 124.00000 & 103.00000 & 27.00000 \\\\\n",
       "\tMort &   0       &   0       &   4.000   &  21.00000 &  76.00000 &  7.00000 \\\\\n",
       "\tSain\\_p &   0       &   0       &   3.125   &  16.93548 &  73.78641 & 25.92593 \\\\\n",
       "\tMort\\_p & 100       & 100       &  96.875   &  83.06452 &  26.21359 & 74.07407 \\\\\n",
       "\\end{tabular}\n"
      ],
      "text/markdown": [
       "\n",
       "| <!--/--> | C | D1 | D2 | E | F | G | \n",
       "|---|---|---|---|\n",
       "| Atteint | 128       | 128       | 128.000   | 124.00000 | 103.00000 | 27.00000  | \n",
       "| Mort |   0       |   0       |   4.000   |  21.00000 |  76.00000 |  7.00000  | \n",
       "| Sain_p |   0       |   0       |   3.125   |  16.93548 |  73.78641 | 25.92593  | \n",
       "| Mort_p | 100       | 100       |  96.875   |  83.06452 |  26.21359 | 74.07407  | \n",
       "\n",
       "\n"
      ],
      "text/plain": [
       "        C   D1  D2      E         F         G       \n",
       "Atteint 128 128 128.000 124.00000 103.00000 27.00000\n",
       "Mort      0   0   4.000  21.00000  76.00000  7.00000\n",
       "Sain_p    0   0   3.125  16.93548  73.78641 25.92593\n",
       "Mort_p  100 100  96.875  83.06452  26.21359 74.07407"
      ]
     },
     "metadata": {},
     "output_type": "display_data"
    }
   ],
   "source": [
    "# On enlève les stades phénos non observés et les stades végétatifs\n",
    "data1_0 = data1[data1$stade!='NA' & data1$stade!='Fruit',]\n",
    "\n",
    "# On sépare selon le bloc, le traitement du sol, l'arbre, le piège, et le numéro d'étiquette afin d'avoir toutes\n",
    "# les étiquettes suivies séparées \n",
    "data1_split = split(data1_0, list(data1_0$bloc,data1_0$trait,data1_0$arbre,data1_0$piege,data1_0$num.etiq))\n",
    "\n",
    "# Nombre d'étiquettes suivies avec des stades phénos observés\n",
    "NbGroup = length(data1_split)\n",
    "\n",
    "# Initialisation\n",
    "stade_atteint_mort=matrix(rep(0,24),4,6)\n",
    "colnames(stade_atteint_mort) = c('C','D1','D2','E','F','G')\n",
    "rownames(stade_atteint_mort) = c(\"Atteint\",\"Mort\",\"Sain_p\",\"Mort_p\")\n",
    "\n",
    "# Pour chaque étiquette :\n",
    "    # On cherche le stade phénologique maximal que l'inflo atteint, on connait donc tous les stades par lesquels \n",
    "    # elle est passée. Et on regarde si elle meurt pendant ce stade.\n",
    "for (i in 1:NbGroup) {\n",
    "    tmp = data.frame(data1_split[i])\n",
    "    colnames(tmp) = colnames(data1_0)\n",
    "    tmp$date = as.Date(tmp$date, '%d/%m/%Y')\n",
    "    tmp$date = as.Date(strptime(tmp$date, format = \"%Y-%m-%d\"))\n",
    "    tmp$stade = as.character(tmp$stade)\n",
    "    if (sum(tmp$stade=='V')==0 & dim(tmp)[1]!=0) {\n",
    "        dd = unique(tmp$stade)\n",
    "        stade_max = dd[length(dd)]\n",
    "        stade_max_i = which(stade_max==stade)\n",
    "        stade_atteint_mort[1,1:stade_max_i] = stade_atteint_mort[1,1:stade_max_i] + 1\n",
    "        if (stade_max!='G')\n",
    "            stade_atteint_mort[2,stade_max] = stade_atteint_mort[2,stade_max] + 1\n",
    "        else {\n",
    "            if ('5' %in% tmp$etat.panicule)\n",
    "                stade_atteint_mort[2,stade_max] = stade_atteint_mort[2,stade_max] + 1\n",
    "        }\n",
    "    }\n",
    "}\n",
    "\n",
    "stade_atteint_mort[3,] = stade_atteint_mort[2,]/stade_atteint_mort[1,] * 100\n",
    "stade_atteint_mort[4,] = (1 - stade_atteint_mort[2,]/stade_atteint_mort[1,]) * 100 \n",
    "\n",
    "stade_atteint_mort"
   ]
  },
  {
   "cell_type": "markdown",
   "metadata": {},
   "source": [
    "## Nombre de piqûres moyen lorsque l'inflo meurt en fonction du stade phénologique atteint"
   ]
  },
  {
   "cell_type": "code",
   "execution_count": 13,
   "metadata": {
    "scrolled": false
   },
   "outputs": [],
   "source": [
    "# On enlève les stades phénos non observés et les stades végétatifs\n",
    "data1_0 = data1[data1$stade!='NA',]\n",
    "\n",
    "# On sépare selon le bloc, le traitement du sol, l'arbre, le piège, et le numéro d'étiquette afin d'avoir toutes les \n",
    "# étiquettes suivies séparées \n",
    "data1_split = split(data1_0, list(data1_0$bloc,data1_0$trait,data1_0$arbre,data1_0$piege,data1_0$num.etiq))\n",
    "\n",
    "# Nombre d'étiquettes suivies avec des stades phénos observés\n",
    "NbGroup = length(data1_split)\n",
    "\n",
    "# Initialisation\n",
    "larves_D2 = c()\n",
    "larves_E  = c()\n",
    "larves_F  = c()\n",
    "larves_G  = c()\n",
    "\n",
    "# Pour chaque étiquette : \n",
    "    # On cherche le stade phénologique où l'inflorescence meurt et le nombre de piqûres au moment où elle meurt\n",
    "for (i in 1:NbGroup) {\n",
    "    tmp = data.frame(data1_split[i])\n",
    "    colnames(tmp) = colnames(data1_0)\n",
    "    tmp$stade = as.character(tmp$stade)\n",
    "    N = dim(tmp)[1]\n",
    "    if (sum(tmp$stade=='V')==0 & sum(tmp$stade=='Fruit')==0 & dim(tmp)[1]!=0) {\n",
    "        dd = unique(tmp$stade)\n",
    "        stade_max = dd[length(dd)]\n",
    "        stade_max_i = which(stade_max==stade)\n",
    "        if (stade_max!='G') {\n",
    "            piqures = tmp$nb.piqures[tmp$nb.piqures!='NA']\n",
    "            piqures = as.numeric(as.character(piqures))\n",
    "            piqure = max(piqures)\n",
    "            if (stade_max_i==3) \n",
    "                larves_D2 = c(larves_D2, piqure)\n",
    "            if (stade_max_i==4)\n",
    "                larves_E  = c(larves_E, piqure)\n",
    "            if (stade_max_i==5) \n",
    "                larves_F  = c(larves_F, piqure)\n",
    "        }\n",
    "        else {\n",
    "            if ('5' %in% tmp$etat.panicule) {          \n",
    "                piqures = tmp$nb.piqures[tmp$nb.piqures!='NA']\n",
    "                piqures = as.numeric(as.character(piqures))\n",
    "                piqure = max(piqures)\n",
    "                larves_G  = c(larves_G, piqure)\n",
    "            }\n",
    "        }\n",
    "    }\n",
    "}"
   ]
  },
  {
   "cell_type": "code",
   "execution_count": 14,
   "metadata": {},
   "outputs": [
    {
     "name": "stdout",
     "output_type": "stream",
     "text": [
      "[1] \"D2\"\n",
      "[1] 4.75\n",
      "[1] 2.362908\n",
      "[1] 4\n",
      "[1] \"\"\n",
      "[1] \"E\"\n",
      "[1] 3.619048\n",
      "[1] 2.479439\n",
      "[1] 21\n",
      "[1] \"\"\n",
      "[1] \"F\"\n",
      "[1] 10.28\n",
      "[1] 10.12831\n",
      "[1] 75\n",
      "[1] \"\"\n",
      "[1] \"G\"\n",
      "[1] 10.28571\n",
      "[1] 9.068522\n",
      "[1] 7\n"
     ]
    },
    {
     "data": {
      "image/png": "[encoded data removed]",
      "text/plain": [
       "plot without title"
      ]
     },
     "metadata": {},
     "output_type": "display_data"
    }
   ],
   "source": [
    "# Moyenne variance du nombre de piqûre par stade phénologique de mort\n",
    "# Effectif du nombre d'inflorescence mortes par stade \n",
    "print (\"D2\")\n",
    "print (mean(larves_D2))\n",
    "print (sd(larves_D2))\n",
    "print (length(larves_D2))\n",
    "print (\"\")\n",
    "print (\"E\")\n",
    "print (mean(larves_E))\n",
    "print (sd(larves_E))\n",
    "print (length(larves_E))\n",
    "print (\"\")\n",
    "print (\"F\")\n",
    "print (mean(larves_F))\n",
    "print (sd(larves_F))\n",
    "print (length(larves_F))\n",
    "print (\"\")\n",
    "print (\"G\")\n",
    "print (mean(larves_G))\n",
    "print (sd(larves_G))\n",
    "print (length(larves_G))\n",
    "\n",
    "boxplot(larves_D2, larves_E, larves_F, larves_G)"
   ]
  },
  {
   "cell_type": "code",
   "execution_count": 15,
   "metadata": {},
   "outputs": [
    {
     "name": "stdout",
     "output_type": "stream",
     "text": [
      "[1] \"D2\"\n",
      "[1] 4.75\n",
      "[1] 2.362908\n",
      "[1] 4\n",
      "[1] \"\"\n",
      "[1] \"E\"\n",
      "[1] 3.619048\n",
      "[1] 2.479439\n",
      "[1] 21\n",
      "[1] \"\"\n",
      "[1] \"F\"\n",
      "[1] 9.191781\n",
      "[1] 7.591401\n",
      "[1] 73\n",
      "[1] \"\"\n",
      "[1] \"G\"\n",
      "[1] 10.28571\n",
      "[1] 9.068522\n",
      "[1] 7\n"
     ]
    },
    {
     "data": {
      "image/png": "[encoded data removed]",
      "text/plain": [
       "plot without title"
      ]
     },
     "metadata": {},
     "output_type": "display_data"
    }
   ],
   "source": [
    "larves_F = larves_F[-which(larves_F==60)]\n",
    "larves_F = larves_F[-which(larves_F==40)]\n",
    "\n",
    "# Moyenne variance du nombre de piqûre par stade phénologique de mort\n",
    "# Effectif du nombre d'inflorescence mortes par stade \n",
    "print (\"D2\")\n",
    "print (mean(larves_D2))\n",
    "print (sd(larves_D2))\n",
    "print (length(larves_D2))\n",
    "print (\"\")\n",
    "print (\"E\")\n",
    "print (mean(larves_E))\n",
    "print (sd(larves_E))\n",
    "print (length(larves_E))\n",
    "print (\"\")\n",
    "print (\"F\")\n",
    "print (mean(larves_F))\n",
    "print (sd(larves_F))\n",
    "print (length(larves_F))\n",
    "print (\"\")\n",
    "print (\"G\")\n",
    "print (mean(larves_G))\n",
    "print (sd(larves_G))\n",
    "print (length(larves_G))\n",
    "\n",
    "boxplot(larves_D2, larves_E, larves_F, larves_G)"
   ]
  },
  {
   "cell_type": "markdown",
   "metadata": {},
   "source": [
    "## Graphe du nombre d'inflorescences en fonction du temps. Couleurs pour le stade phénologique. "
   ]
  },
  {
   "cell_type": "code",
   "execution_count": 16,
   "metadata": {},
   "outputs": [
    {
     "ename": "ERROR",
     "evalue": "Error in loadWorkbook(file, password = password): Cannot find ../Donnees brutes/dynamique.cecido.modif0.xlsx\n",
     "output_type": "error",
     "traceback": [
      "Error in loadWorkbook(file, password = password): Cannot find ../Donnees brutes/dynamique.cecido.modif0.xlsx\nTraceback:\n",
      "1. read.xlsx2(\"../Donnees brutes/dynamique.cecido.modif0.xlsx\", \n .     1)",
      "2. loadWorkbook(file, password = password)",
      "3. stop(\"Cannot find \", path.expand(file))"
     ]
    }
   ],
   "source": [
    "# Lecture du fichier dynamique cecido\n",
    "data1 = read.xlsx2(\"../Donnees brutes/dynamique.cecido.modif0.xlsx\", 1)"
   ]
  },
  {
   "cell_type": "code",
   "execution_count": null,
   "metadata": {},
   "outputs": [],
   "source": [
    "# On change les dates en \"DD/MM/YYYY\"\n",
    "unique_date = as.character(unique(data1$date))\n",
    "date = c('01/09/2017','06/09/2017','08/09/2017','13/09/2017','15/09/2017','20/09/2017','22/09/2017','26/09/2017','29/09/2017',\n",
    "         '03/10/2017','06/10/2017')\n",
    "data1$date = as.character(as.numeric(as.character(data1$date)))\n",
    "for (i in 1:length(date))\n",
    "    data1$date[data1$date==unique_date[i]] = date[i] \n",
    "\n",
    "stade = c('C','D1','D2','E','F','G')\n",
    "debut_stade = cumsum(c(0,1,4,4,6,12,11))\n",
    "fin_stade = rev(cumsum(rev(c(1,4,4,6,12,11,0))))\n",
    "\n",
    "date = c('2017-09-01','2017-09-06','2017-09-08','2017-09-13','2017-09-15','2017-09-20','2017-09-22','2017-09-26','2017-09-29',\n",
    "         '2017-10-03','2017-10-06')"
   ]
  },
  {
   "cell_type": "code",
   "execution_count": null,
   "metadata": {
    "scrolled": false
   },
   "outputs": [],
   "source": [
    "# Cette fonction renvoie le nombre d'inflorescences en fonction du stades phnéologiques pour chaque date dse relevé\n",
    "# Et fait un graphe \n",
    "\n",
    "stade_inflo = function(bloc_) {\n",
    "\n",
    "    data1_0 = data1[data1$bloc==bloc_ & data1$stade!='NA',]\n",
    "    data1_split = split(data1_0, list(data1_0$bloc,data1_0$trait,data1_0$arbre,data1_0$piege,data1_0$num.etiq))\n",
    "    NbGroup = length(data1_split)\n",
    "    STADES = array(,c(NbGroup,length(date)))\n",
    "    colnames(STADES) = date\n",
    "    jj = 1\n",
    "\n",
    "    # Pour chaque étiquette :\n",
    "    # On récupère les dates de chaque stade phénologique C, D1, D2, E, F et G \n",
    "\n",
    "    for (i in 1:NbGroup) {\n",
    "        tmp = data.frame(data1_split[i])\n",
    "        colnames(tmp) = colnames(data1_0)\n",
    "        tmp$date = as.Date(tmp$date, '%d/%m/%Y')\n",
    "        tmp$date = as.Date(strptime(tmp$date, format = \"%Y-%m-%d\"))\n",
    "        tmp$stade = as.character(tmp$stade)\n",
    "        if (dim(tmp)[1]!=0) {\n",
    "            k = 1\n",
    "            if (5 %in% tmp$etat.panicule)\n",
    "                j = min(which(tmp$etat.panicule == 5))\n",
    "            else\n",
    "                j = dim(tmp)[1]\n",
    "            while (k <= j) {\n",
    "                date_stade = tmp$date[k]\n",
    "                STADES[jj,as.character(date_stade)] = tmp$stade[k]\n",
    "                k = k+1\n",
    "            }\n",
    "            jj = jj+1\n",
    "        }\n",
    "    }\n",
    "    \n",
    "    STADES = STADES[1:jj-1,]\n",
    "\n",
    "    stade = c('C','D1','D2','E','F','G','V')\n",
    "    STADES = as.data.frame(STADES)\n",
    "    STADES_ = array(0,c(length(stade),length(date)))\n",
    "    colnames(STADES_) = date\n",
    "    rownames(STADES_) = stade\n",
    "    for (i in 1:length(date)) {\n",
    "        for (j in 1:length(stade))\n",
    "            STADES_[j,i] = length(which(STADES[date[i]]==stade[j]))\n",
    "    }\n",
    "\n",
    "    m  = STADES_\n",
    "    m  = t(apply(m,2,cumsum))\n",
    "    n1 = dim(m)[1]\n",
    "    n2 = dim(m)[2]\n",
    "    plot.new()\n",
    "    plot.window(xlim=c(1,n1), ylim=c(min(m),max(m)))\n",
    "    axis(1, 1:n1, date[1:n1])\n",
    "    axis(2)\n",
    "    col = c(\"chartreuse1\",\"yellow\",\"coral\",\"darkorange\",\"red\",\"cadetblue\",\"darkolivegreen\",\"darkgrey\")\n",
    "    for (i in n2:1)\n",
    "        polygon(c(1:n1,n1,1), c(m[,i],0,0), col=col[i])\n",
    "    legend(\"topright\", legend=stade, fill=col)\n",
    "    \n",
    "    return (STADES_)\n",
    "\n",
    "}"
   ]
  },
  {
   "cell_type": "code",
   "execution_count": null,
   "metadata": {},
   "outputs": [],
   "source": [
    "# BLOC 1 \n",
    "\n",
    "stade_Bloc1 = stade_inflo(1)\n",
    "print (stade_Bloc1)"
   ]
  },
  {
   "cell_type": "code",
   "execution_count": null,
   "metadata": {},
   "outputs": [],
   "source": [
    "# BLOC 2\n",
    "\n",
    "stade_Bloc2 = stade_inflo(2)\n",
    "print (stade_Bloc2)"
   ]
  },
  {
   "cell_type": "markdown",
   "metadata": {},
   "source": [
    "## A partir de la date du stade F, on veut essayer de reconstruire les dates de tous les stades précédents et voir les cinétiques obtenues"
   ]
  },
  {
   "cell_type": "code",
   "execution_count": null,
   "metadata": {},
   "outputs": [],
   "source": [
    "tmp = data1$date\n",
    "tmp = as.Date(tmp, '%d/%m/%Y')\n",
    "tmp = as.Date(strptime(tmp, format = \"%Y-%m-%d\"))\n",
    "date = sort(unique(tmp))\n",
    "\n",
    "data1_0 = data1[data1$etat.panicule!='5',]\n",
    "data1_split = split(data1_0, list(data1_0$bloc,data1_0$trait,data1_0$arbre,data1_0$piege,data1_0$num.etiq))\n",
    "NbGroup = length(data1_split)\n",
    "\n",
    "nb = length(date)\n",
    "\n",
    "m = matrix(0,3,nb)\n",
    "\n",
    "stadeD = c('C', 'D1', 'D2')\n",
    "stadeE = c('E')\n",
    "stadeF = c('F','G')\n",
    "\n",
    "for (i in 1:NbGroup) {\n",
    "    tmp = data.frame(data1_split[i])\n",
    "    colnames(tmp) = colnames(data1_0)\n",
    "    tmp$date = as.Date(tmp$date, '%d/%m/%Y')\n",
    "    tmp$date = as.Date(strptime(tmp$date, format = \"%Y-%m-%d\"))\n",
    "    N = dim(tmp)[1]\n",
    "    if (N!=0) {\n",
    "        for (j in 1:N) {\n",
    "            tmp_ = tmp[j,]\n",
    "            k = which(tmp_$date==date)\n",
    "            if (tmp_$stade %in% stadeD) \n",
    "                m[1,k] = m[1,k] + 1\n",
    "            if (tmp_$stade %in% stadeE) \n",
    "                m[2,k] = m[2,k] + 1\n",
    "            if (tmp_$stade %in% stadeF) \n",
    "                m[3,k] = m[3,k] + 1\n",
    "        }\n",
    "    }\n",
    "}\n",
    "\n",
    "m  = apply(m,2,cumsum)\n",
    "n1 = dim(m)[1]\n",
    "n2 = dim(m)[2]\n",
    "plot.new()\n",
    "plot.window(xlim=c(1,n2), ylim=c(min(m),max(m)))\n",
    "axis(1, 1:n2, date[1:n2])\n",
    "axis(2)\n",
    "col = c(\"chartreuse1\",\"yellow\",\"coral\",\"darkorange\",\"red\")\n",
    "for (i in n1:1)\n",
    "    polygon(c(1:n2,n2,1), c(m[i,],0,0), col=col[i])\n",
    "legend(\"topright\", legend=c('D','E','F'), fill=col)\n",
    "title(\"OBSERVATIONS\")\n",
    "\n",
    "data1_0 = data1[data1$stade=='F',]\n",
    "data1_split = split(data1_0, list(data1_0$bloc,data1_0$trait,data1_0$arbre,data1_0$piege,data1_0$num.etiq))\n",
    "NbGroup = length(data1_split)\n",
    "\n",
    "date_F = structure(rep(NA_real_, 0), class=\"Date\")\n",
    "\n",
    "for (i in 1:NbGroup) {\n",
    "    tmp = data.frame(data1_split[i])\n",
    "    colnames(tmp) = colnames(data1_0)\n",
    "    tmp$date = as.Date(tmp$date, '%d/%m/%Y')\n",
    "    tmp$date = as.Date(strptime(tmp$date, format = \"%Y-%m-%d\"))\n",
    "    if (dim(tmp)[1]!=0)\n",
    "        date_F = c(date_F, tmp[1,]$date)\n",
    "}\n",
    "\n",
    "#date_G = date_F + 28\n",
    "date_E = date_F - 7\n",
    "date_D = date_E - 7\n",
    "\n",
    "date = sort(unique(c(date_D, date_E, date_F)))#, date_G)))\n",
    "\n",
    "nb = length(date)\n",
    "\n",
    "m = matrix(0,3,nb)\n",
    "\n",
    "for (j in 1:nb) {\n",
    "    D = length(which(date_D==date[j]))\n",
    "    E = length(which(date_E==date[j]))\n",
    "    F = length(which(date_F==date[j]))\n",
    "    m[1,j:min(nb,(j+7))] = m[1,j:min(nb,(j+7))] + D\n",
    "    m[2,j:min(nb,(j+7))] = m[2,j:min(nb,(j+7))] + E\n",
    "    m[3,j:min(nb,(j+28))] = m[3,j:min(nb,(j+28))] + F     \n",
    "}\n",
    "\n",
    "a = which(date=='2017-09-01')\n",
    "m = m[,5:dim(m)[2]]\n",
    "m  = apply(m,2,cumsum)\n",
    "n1 = dim(m)[1]\n",
    "n2 = dim(m)[2]\n",
    "plot.new()\n",
    "plot.window(xlim=c(1,n2), ylim=c(min(m),max(m)))\n",
    "axis(1, 1:(n2-a+1), date[a:n2])\n",
    "axis(2)\n",
    "col = c(\"chartreuse1\",\"yellow\",\"coral\",\"darkorange\",\"red\")\n",
    "for (i in n1:1)\n",
    "    polygon(c(1:n2,n2,1), c(m[i,],0,0), col=col[i])\n",
    "legend(\"topright\", legend=c('D','E','F'), fill=col)\n",
    "title(\"DUREES DE PAUL\")\n",
    "\n",
    "data1_0 = data1[data1$stade=='F',]\n",
    "data1_split = split(data1_0, list(data1_0$bloc,data1_0$trait,data1_0$arbre,data1_0$piege,data1_0$num.etiq))\n",
    "NbGroup = length(data1_split)\n",
    "\n",
    "date_F = structure(rep(NA_real_, 0), class=\"Date\")\n",
    "\n",
    "for (i in 1:NbGroup) {\n",
    "    tmp = data.frame(data1_split[i])\n",
    "    colnames(tmp) = colnames(data1_0)\n",
    "    tmp$date = as.Date(tmp$date, '%d/%m/%Y')\n",
    "    tmp$date = as.Date(strptime(tmp$date, format = \"%Y-%m-%d\"))\n",
    "    if (dim(tmp)[1]!=0)\n",
    "        date_F = c(date_F, tmp[1,]$date)\n",
    "}\n",
    "\n",
    "#date_G = date_F + 48\n",
    "date_E = date_F - 9\n",
    "date_D = date_E - 7\n",
    "\n",
    "date = sort(unique(c(date_D, date_E, date_F)))#, date_G)))\n",
    "\n",
    "nb = length(date)\n",
    "\n",
    "m = matrix(0,3,nb)\n",
    "\n",
    "for (j in 1:nb) {\n",
    "    D = length(which(date_D==date[j]))\n",
    "    E = length(which(date_E==date[j]))\n",
    "    F = length(which(date_F==date[j]))\n",
    "    m[1,j:min(nb,(j+9))] = m[1,j:min(nb,(j+9))] + D\n",
    "    m[2,j:min(nb,(j+7))] = m[2,j:min(nb,(j+7))] + E\n",
    "    m[3,j:min(nb,(j+48))] = m[3,j:min(nb,(j+48))] + F\n",
    "}\n",
    "\n",
    "a = which(date=='2017-09-01')\n",
    "m = m[,5:dim(m)[2]]\n",
    "m  = apply(m,2,cumsum)\n",
    "n1 = dim(m)[1]\n",
    "n2 = dim(m)[2]\n",
    "plot.new()\n",
    "plot.window(xlim=c(1,n2), ylim=c(min(m),max(m)))\n",
    "axis(1, 1:(n2-a+1), date[a:n2])\n",
    "axis(2)\n",
    "col = c(\"chartreuse1\",\"yellow\",\"coral\",\"darkorange\",\"red\")\n",
    "for (i in n1:1)\n",
    "    polygon(c(1:n2,n2,1), c(m[i,],0,0), col=col[i])\n",
    "legend(\"topright\", legend=c('D','E','F'), fill=col)\n",
    "title(\"DUREES D'ANNE SARAH\")"
   ]
  },
  {
   "cell_type": "code",
   "execution_count": 113,
   "metadata": {},
   "outputs": [
    {
     "data": {
      "image/png": "[encoded data removed]",
      "text/plain": [
       "Plot with title “OBSERVATIONS”"
      ]
     },
     "metadata": {},
     "output_type": "display_data"
    },
    {
     "ename": "ERROR",
     "evalue": "Error in m[1, j:min(nb, (j + 7))]: subscript out of bounds\n",
     "output_type": "error",
     "traceback": [
      "Error in m[1, j:min(nb, (j + 7))]: subscript out of bounds\nTraceback:\n"
     ]
    },
    {
     "data": {
      "image/png": "[encoded data removed]",
      "text/plain": [
       "Plot with title “DUREES DE PAUL”"
      ]
     },
     "metadata": {},
     "output_type": "display_data"
    }
   ],
   "source": [
    "tmp = data1$date\n",
    "tmp = as.Date(tmp, '%d/%m/%Y')\n",
    "tmp = as.Date(strptime(tmp, format = \"%Y-%m-%d\"))\n",
    "date = sort(unique(tmp))\n",
    "\n",
    "data1_0 = data1[data1$etat.panicule!='5',]\n",
    "data1_split = split(data1_0, list(data1_0$bloc,data1_0$trait,data1_0$arbre,data1_0$piege,data1_0$num.etiq))\n",
    "NbGroup = length(data1_split)\n",
    "\n",
    "nb = length(date)\n",
    "\n",
    "m = matrix(0,2,nb)\n",
    "\n",
    "stadeE = c('E')\n",
    "stadeF = c('F','G')\n",
    "\n",
    "for (i in 1:NbGroup) {\n",
    "    tmp = data.frame(data1_split[i])\n",
    "    colnames(tmp) = colnames(data1_0)\n",
    "    tmp$date = as.Date(tmp$date, '%d/%m/%Y')\n",
    "    tmp$date = as.Date(strptime(tmp$date, format = \"%Y-%m-%d\"))\n",
    "    N = dim(tmp)[1]\n",
    "    if (N!=0) {\n",
    "        for (j in 1:N) {\n",
    "            tmp_ = tmp[j,]\n",
    "            k = which(tmp_$date==date)\n",
    "            if (tmp_$stade %in% stadeE) \n",
    "                m[1,k] = m[1,k] + 1\n",
    "            if (tmp_$stade %in% stadeF) \n",
    "                m[2,k] = m[2,k] + 1\n",
    "        }\n",
    "    }\n",
    "}\n",
    "\n",
    "m  = apply(m,2,cumsum)\n",
    "n1 = dim(m)[1]\n",
    "n2 = dim(m)[2]\n",
    "plot.new()\n",
    "plot.window(xlim=c(1,n2), ylim=c(min(m),max(m)))\n",
    "axis(1, 1:n2, date[1:n2])\n",
    "axis(2)\n",
    "col = c(\"yellow\",\"coral\",\"darkorange\",\"red\")\n",
    "for (i in n1:1)\n",
    "    polygon(c(1:n2,n2,1), c(m[i,],0,0), col=col[i])\n",
    "legend(\"topright\", legend=c('E','F'), fill=col)\n",
    "title(\"OBSERVATIONS\")\n",
    "\n",
    "data1_0 = data1[data1$stade=='F',]\n",
    "data1_split = split(data1_0, list(data1_0$bloc,data1_0$trait,data1_0$arbre,data1_0$piege,data1_0$num.etiq))\n",
    "NbGroup = length(data1_split)\n",
    "\n",
    "date_F = structure(rep(NA_real_, 0), class=\"Date\")\n",
    "\n",
    "for (i in 1:NbGroup) {\n",
    "    tmp = data.frame(data1_split[i])\n",
    "    colnames(tmp) = colnames(data1_0)\n",
    "    tmp$date = as.Date(tmp$date, '%d/%m/%Y')\n",
    "    tmp$date = as.Date(strptime(tmp$date, format = \"%Y-%m-%d\"))\n",
    "    if (dim(tmp)[1]!=0)\n",
    "        date_F = c(date_F, tmp[1,]$date)\n",
    "}\n",
    "\n",
    "#date_G = date_F + 28\n",
    "date_E = date_F - 7\n",
    "\n",
    "date = sort(unique(c(date_E, date_F)))#, date_G)))\n",
    "\n",
    "nb = length(date)\n",
    "\n",
    "m = matrix(0,3,nb)\n",
    "\n",
    "for (j in 1:nb) {\n",
    "    E = length(which(date_E==date[j]))\n",
    "    F = length(which(date_F==date[j]))\n",
    "    m[1,j:min(nb,(j+7))] = m[1,j:min(nb,(j+7))] + E\n",
    "    m[2,j:min(nb,(j+28))] = m[2,j:min(nb,(j+28))] + F     \n",
    "}\n",
    "\n",
    "a = which(date=='2017-09-01')\n",
    "m = m[,5:dim(m)[2]]\n",
    "m  = apply(m,2,cumsum)\n",
    "n1 = dim(m)[1]\n",
    "n2 = dim(m)[2]\n",
    "plot.new()\n",
    "plot.window(xlim=c(1,n2), ylim=c(min(m),max(m)))\n",
    "axis(1, 1:(n2-a+1), date[a:n2])\n",
    "axis(2)\n",
    "col = c(\"yellow\",\"coral\",\"darkorange\",\"red\")\n",
    "for (i in n1:1)\n",
    "    polygon(c(1:n2,n2,1), c(m[i,],0,0), col=col[i])\n",
    "legend(\"topright\", legend=c('E','F'), fill=col)\n",
    "title(\"DUREES DE PAUL\")\n",
    "\n",
    "data1_0 = data1[data1$stade=='F',]\n",
    "data1_split = split(data1_0, list(data1_0$bloc,data1_0$trait,data1_0$arbre,data1_0$piege,data1_0$num.etiq))\n",
    "NbGroup = length(data1_split)\n",
    "\n",
    "date_F = structure(rep(NA_real_, 0), class=\"Date\")\n",
    "\n",
    "for (i in 1:NbGroup) {\n",
    "    tmp = data.frame(data1_split[i])\n",
    "    colnames(tmp) = colnames(data1_0)\n",
    "    tmp$date = as.Date(tmp$date, '%d/%m/%Y')\n",
    "    tmp$date = as.Date(strptime(tmp$date, format = \"%Y-%m-%d\"))\n",
    "    if (dim(tmp)[1]!=0)\n",
    "        date_F = c(date_F, tmp[1,]$date)\n",
    "}\n",
    "\n",
    "#date_G = date_F + 48\n",
    "date_E = date_F - 7\n",
    "\n",
    "date = sort(unique(c(date_E, date_F)))#, date_G)))\n",
    "\n",
    "nb = length(date)\n",
    "\n",
    "m = matrix(0,nb)\n",
    "\n",
    "for (j in 1:nb) {\n",
    "    E = length(which(date_E==date[j]))\n",
    "    F = length(which(date_F==date[j]))\n",
    "    m[1,j:min(nb,(j+7))] = m[1,j:min(nb,(j+7))] + E\n",
    "    m[2,j:min(nb,(j+48))] = m[2,j:min(nb,(j+48))] + F\n",
    "}\n",
    "\n",
    "a = which(date=='2017-09-01')\n",
    "m = m[,5:dim(m)[2]]\n",
    "m  = apply(m,2,cumsum)\n",
    "n1 = dim(m)[1]\n",
    "n2 = dim(m)[2]\n",
    "plot.new()\n",
    "plot.window(xlim=c(1,n2), ylim=c(min(m),max(m)))\n",
    "axis(1, 1:(n2-a+1), date[a:n2])\n",
    "axis(2)\n",
    "col = c(\"yellow\",\"coral\",\"darkorange\",\"red\")\n",
    "for (i in n1:1)\n",
    "    polygon(c(1:n2,n2,1), c(m[i,],0,0), col=col[i])\n",
    "legend(\"topright\", legend=c('E','F'), fill=col)\n",
    "title(\"DUREES D'ANNE SARAH\")"
   ]
  },
  {
   "cell_type": "markdown",
   "metadata": {},
   "source": [
    "## Lien entre stade phéno / état de dessechement et nombre de piqûres"
   ]
  },
  {
   "cell_type": "code",
   "execution_count": 19,
   "metadata": {},
   "outputs": [],
   "source": [
    "# On enlève les données non observés\n",
    "data1_1 = data1[data1$etat.panicule!='NA' & data1$stade!='NA' & data1$stade!='V' & data1$stade!='Fruit',]\n",
    "\n",
    "data1_split = split(data1_1, list(data1_1$bloc,data1_1$trait,data1_1$arbre,data1_1$piege,data1_1$num.etiq))\n",
    "\n",
    "# NbGroup est le nombre de groupe (stade phéno et état panicule)\n",
    "NbGroup = length(data1_split)\n",
    "\n",
    "\n",
    "stade_pheno = c(\"C\",\"D1\",\"D2\",\"E\",\"F\",\"G\")\n",
    "nivo = c(\"0\",\"1\",\"2\",\"3\",\"4\",\"5\")\n",
    "\n",
    "mat1 = matrix(rep(0,36),6,6)\n",
    "mat1_bis = matrix(rep(0,36),6,6)\n",
    "\n",
    "for (i in 1:NbGroup) {\n",
    "    tmp = data.frame(data1_split[i])\n",
    "    colnames(tmp) = colnames(data1_0)\n",
    "    N = dim(tmp)[1]\n",
    "    if (N!=0) {\n",
    "        ok = c()\n",
    "        for (j in 1:N) {\n",
    "            ii = which(tmp$stade[j]==stade_pheno)\n",
    "            jj = which(tmp$etat.panicule[j]==nivo)              \n",
    "            if (tmp$nb.piqures[j]=='NA') {\n",
    "                if (length(ok)!=0) {\n",
    "                    mat1[ii,jj] = mat1[ii,jj] + max(ok)\n",
    "                    mat1_bis[ii,jj] = mat1_bis[ii,jj] + 1\n",
    "                }\n",
    "            }\n",
    "            else {\n",
    "                ok = c(ok,as.numeric(as.character(tmp$nb.piqures[j])))\n",
    "                mat1[ii,jj] = mat1[ii,jj] + as.numeric(as.character(tmp$nb.piqures[j]))\n",
    "                mat1_bis[ii,jj] = mat1_bis[ii,jj] + 1\n",
    "            }\n",
    "        }\n",
    "    }\n",
    "}\n",
    "\n",
    "rownames(mat1) = c(\"C\",\"D1\",\"D2\",\"E\",\"F\",\"G\")\n",
    "colnames(mat1) = c(\"0\",\"1\",\"2\",\"3\",\"4\",\"5\")"
   ]
  },
  {
   "cell_type": "code",
   "execution_count": 20,
   "metadata": {},
   "outputs": [
    {
     "data": {
      "text/html": [
       "<table>\n",
       "<thead><tr><th></th><th scope=col>0</th><th scope=col>1</th><th scope=col>2</th><th scope=col>3</th><th scope=col>4</th><th scope=col>5</th></tr></thead>\n",
       "<tbody>\n",
       "\t<tr><th scope=row>C</th><td> 0  </td><td> 0  </td><td>  0 </td><td>  0 </td><td>   0</td><td>   0</td></tr>\n",
       "\t<tr><th scope=row>D1</th><td> 0  </td><td> 0  </td><td>  0 </td><td>  0 </td><td>   0</td><td>   0</td></tr>\n",
       "\t<tr><th scope=row>D2</th><td> 0  </td><td>36  </td><td>  6 </td><td>  6 </td><td>   0</td><td>  44</td></tr>\n",
       "\t<tr><th scope=row>E</th><td> 4  </td><td>80  </td><td>237 </td><td>203 </td><td>  76</td><td> 415</td></tr>\n",
       "\t<tr><th scope=row>F</th><td>10  </td><td>30  </td><td>450 </td><td>906 </td><td>1442</td><td>2356</td></tr>\n",
       "\t<tr><th scope=row>G</th><td> 0  </td><td> 0  </td><td> 27 </td><td>240 </td><td> 479</td><td>  89</td></tr>\n",
       "</tbody>\n",
       "</table>\n"
      ],
      "text/latex": [
       "\\begin{tabular}{r|llllll}\n",
       "  & 0 & 1 & 2 & 3 & 4 & 5\\\\\n",
       "\\hline\n",
       "\tC &  0   &  0   &   0  &   0  &    0 &    0\\\\\n",
       "\tD1 &  0   &  0   &   0  &   0  &    0 &    0\\\\\n",
       "\tD2 &  0   & 36   &   6  &   6  &    0 &   44\\\\\n",
       "\tE &  4   & 80   & 237  & 203  &   76 &  415\\\\\n",
       "\tF & 10   & 30   & 450  & 906  & 1442 & 2356\\\\\n",
       "\tG &  0   &  0   &  27  & 240  &  479 &   89\\\\\n",
       "\\end{tabular}\n"
      ],
      "text/markdown": [
       "\n",
       "| <!--/--> | 0 | 1 | 2 | 3 | 4 | 5 | \n",
       "|---|---|---|---|---|---|\n",
       "| C |  0   |  0   |   0  |   0  |    0 |    0 | \n",
       "| D1 |  0   |  0   |   0  |   0  |    0 |    0 | \n",
       "| D2 |  0   | 36   |   6  |   6  |    0 |   44 | \n",
       "| E |  4   | 80   | 237  | 203  |   76 |  415 | \n",
       "| F | 10   | 30   | 450  | 906  | 1442 | 2356 | \n",
       "| G |  0   |  0   |  27  | 240  |  479 |   89 | \n",
       "\n",
       "\n"
      ],
      "text/plain": [
       "   0  1  2   3   4    5   \n",
       "C   0  0   0   0    0    0\n",
       "D1  0  0   0   0    0    0\n",
       "D2  0 36   6   6    0   44\n",
       "E   4 80 237 203   76  415\n",
       "F  10 30 450 906 1442 2356\n",
       "G   0  0  27 240  479   89"
      ]
     },
     "metadata": {},
     "output_type": "display_data"
    }
   ],
   "source": [
    "mat1"
   ]
  },
  {
   "cell_type": "code",
   "execution_count": 21,
   "metadata": {},
   "outputs": [
    {
     "data": {
      "text/html": [
       "<table>\n",
       "<tbody>\n",
       "\t<tr><td> 9 </td><td> 0 </td><td> 0 </td><td> 0 </td><td>  0</td><td>  0</td></tr>\n",
       "\t<tr><td>17 </td><td> 0 </td><td> 0 </td><td> 0 </td><td>  0</td><td>  0</td></tr>\n",
       "\t<tr><td>22 </td><td> 9 </td><td> 2 </td><td> 3 </td><td>  0</td><td> 10</td></tr>\n",
       "\t<tr><td>41 </td><td>28 </td><td>54 </td><td>37 </td><td> 17</td><td> 99</td></tr>\n",
       "\t<tr><td> 7 </td><td>10 </td><td>63 </td><td>76 </td><td>144</td><td>275</td></tr>\n",
       "\t<tr><td> 0 </td><td> 0 </td><td> 3 </td><td>28 </td><td> 54</td><td> 14</td></tr>\n",
       "</tbody>\n",
       "</table>\n"
      ],
      "text/latex": [
       "\\begin{tabular}{llllll}\n",
       "\t  9  &  0  &  0  &  0  &   0 &   0\\\\\n",
       "\t 17  &  0  &  0  &  0  &   0 &   0\\\\\n",
       "\t 22  &  9  &  2  &  3  &   0 &  10\\\\\n",
       "\t 41  & 28  & 54  & 37  &  17 &  99\\\\\n",
       "\t  7  & 10  & 63  & 76  & 144 & 275\\\\\n",
       "\t  0  &  0  &  3  & 28  &  54 &  14\\\\\n",
       "\\end{tabular}\n"
      ],
      "text/markdown": [
       "\n",
       "|  9  |  0  |  0  |  0  |   0 |   0 | \n",
       "| 17  |  0  |  0  |  0  |   0 |   0 | \n",
       "| 22  |  9  |  2  |  3  |   0 |  10 | \n",
       "| 41  | 28  | 54  | 37  |  17 |  99 | \n",
       "|  7  | 10  | 63  | 76  | 144 | 275 | \n",
       "|  0  |  0  |  3  | 28  |  54 |  14 | \n",
       "\n",
       "\n"
      ],
      "text/plain": [
       "     [,1] [,2] [,3] [,4] [,5] [,6]\n",
       "[1,]  9    0    0    0     0    0 \n",
       "[2,] 17    0    0    0     0    0 \n",
       "[3,] 22    9    2    3     0   10 \n",
       "[4,] 41   28   54   37    17   99 \n",
       "[5,]  7   10   63   76   144  275 \n",
       "[6,]  0    0    3   28    54   14 "
      ]
     },
     "metadata": {},
     "output_type": "display_data"
    }
   ],
   "source": [
    "mat1_bis"
   ]
  },
  {
   "cell_type": "code",
   "execution_count": 22,
   "metadata": {},
   "outputs": [
    {
     "data": {
      "text/html": [
       "<table>\n",
       "<thead><tr><th></th><th scope=col>0</th><th scope=col>1</th><th scope=col>2</th><th scope=col>3</th><th scope=col>4</th><th scope=col>5</th></tr></thead>\n",
       "<tbody>\n",
       "\t<tr><th scope=row>C</th><td>0.00000000</td><td>     NaN  </td><td>     NaN  </td><td>      NaN </td><td>      NaN </td><td>     NaN  </td></tr>\n",
       "\t<tr><th scope=row>D1</th><td>0.00000000</td><td>     NaN  </td><td>     NaN  </td><td>      NaN </td><td>      NaN </td><td>     NaN  </td></tr>\n",
       "\t<tr><th scope=row>D2</th><td>0.00000000</td><td>4.000000  </td><td>3.000000  </td><td> 2.000000 </td><td>      NaN </td><td>4.400000  </td></tr>\n",
       "\t<tr><th scope=row>E</th><td>0.09756098</td><td>2.857143  </td><td>4.388889  </td><td> 5.486486 </td><td> 4.470588 </td><td>4.191919  </td></tr>\n",
       "\t<tr><th scope=row>F</th><td>1.42857143</td><td>3.000000  </td><td>7.142857  </td><td>11.921053 </td><td>10.013889 </td><td>8.567273  </td></tr>\n",
       "\t<tr><th scope=row>G</th><td>       NaN</td><td>     NaN  </td><td>9.000000  </td><td> 8.571429 </td><td> 8.870370 </td><td>6.357143  </td></tr>\n",
       "</tbody>\n",
       "</table>\n"
      ],
      "text/latex": [
       "\\begin{tabular}{r|llllll}\n",
       "  & 0 & 1 & 2 & 3 & 4 & 5\\\\\n",
       "\\hline\n",
       "\tC & 0.00000000 &      NaN   &      NaN   &       NaN  &       NaN  &      NaN  \\\\\n",
       "\tD1 & 0.00000000 &      NaN   &      NaN   &       NaN  &       NaN  &      NaN  \\\\\n",
       "\tD2 & 0.00000000 & 4.000000   & 3.000000   &  2.000000  &       NaN  & 4.400000  \\\\\n",
       "\tE & 0.09756098 & 2.857143   & 4.388889   &  5.486486  &  4.470588  & 4.191919  \\\\\n",
       "\tF & 1.42857143 & 3.000000   & 7.142857   & 11.921053  & 10.013889  & 8.567273  \\\\\n",
       "\tG &        NaN &      NaN   & 9.000000   &  8.571429  &  8.870370  & 6.357143  \\\\\n",
       "\\end{tabular}\n"
      ],
      "text/markdown": [
       "\n",
       "| <!--/--> | 0 | 1 | 2 | 3 | 4 | 5 | \n",
       "|---|---|---|---|---|---|\n",
       "| C | 0.00000000 |      NaN   |      NaN   |       NaN  |       NaN  |      NaN   | \n",
       "| D1 | 0.00000000 |      NaN   |      NaN   |       NaN  |       NaN  |      NaN   | \n",
       "| D2 | 0.00000000 | 4.000000   | 3.000000   |  2.000000  |       NaN  | 4.400000   | \n",
       "| E | 0.09756098 | 2.857143   | 4.388889   |  5.486486  |  4.470588  | 4.191919   | \n",
       "| F | 1.42857143 | 3.000000   | 7.142857   | 11.921053  | 10.013889  | 8.567273   | \n",
       "| G |        NaN |      NaN   | 9.000000   |  8.571429  |  8.870370  | 6.357143   | \n",
       "\n",
       "\n"
      ],
      "text/plain": [
       "   0          1        2        3         4         5       \n",
       "C  0.00000000      NaN      NaN       NaN       NaN      NaN\n",
       "D1 0.00000000      NaN      NaN       NaN       NaN      NaN\n",
       "D2 0.00000000 4.000000 3.000000  2.000000       NaN 4.400000\n",
       "E  0.09756098 2.857143 4.388889  5.486486  4.470588 4.191919\n",
       "F  1.42857143 3.000000 7.142857 11.921053 10.013889 8.567273\n",
       "G         NaN      NaN 9.000000  8.571429  8.870370 6.357143"
      ]
     },
     "metadata": {},
     "output_type": "display_data"
    }
   ],
   "source": [
    "mat1/mat1_bis"
   ]
  },
  {
   "cell_type": "markdown",
   "metadata": {},
   "source": [
    "## Lien entre le stade phéno / état de dessèchement et nombre de larves piégées"
   ]
  },
  {
   "cell_type": "code",
   "execution_count": 23,
   "metadata": {
    "scrolled": true
   },
   "outputs": [],
   "source": [
    "mat2=matrix(rep(0,36),6,6)\n",
    "mat2_bis=matrix(rep(0,36),6,6)\n",
    "\n",
    "stade_pheno = c(\"C\",\"D1\",\"D2\",\"E\",\"F\",\"G\")\n",
    "nivo = c(\"0\",\"1\",\"2\",\"3\",\"4\",\"5\")\n",
    "rownames(mat2)=stade_pheno\n",
    "colnames(mat2) = nivo\n",
    "\n",
    "# On enlève les données non observées\n",
    "data1_1 = data1[data1$nb.larves!='NA' & data1$etat.panicule!='NA' & data1$stade!='NA' & data1$stade!='V' & data1$stade!='Fruit',]\n",
    "\n",
    "data1_split = split(data1_1, list(data1_1$bloc,data1_1$trait,data1_1$arbre,data1_1$piege))\n",
    "\n",
    "# NbGroup est le nombre de groupe (stade phéno et état panicule)\n",
    "NbGroup = length(data1_split)\n",
    "\n",
    "for (i in 1:NbGroup) {\n",
    "    tmp = data.frame(data1_split[i])\n",
    "    colnames(tmp) = colnames(data1_0)\n",
    "    if (dim(tmp)[1]!=0) {\n",
    "        nb_etiq = length(unique(tmp$num.etiq))\n",
    "        tmp_bis = split(tmp, list(tmp$num.etiq))\n",
    "        for (j in 1:nb_etiq) {\n",
    "            a = data.frame(tmp_bis[j])\n",
    "            colnames(a) = colnames(data1_0)\n",
    "            for (k in 1:dim(a)[1]) {\n",
    "                b = a[k,]\n",
    "                ii = which(b$stade==stade_pheno)\n",
    "                jj = which(b$etat.panicule==nivo)\n",
    "                mat2[ii,jj] = mat2[ii,jj] + as.numeric(as.character(b$nb.larves))/nb_etiq\n",
    "                mat2_bis[ii,jj] = mat2_bis[ii,jj] + 1\n",
    "            }\n",
    "        }\n",
    "    }\n",
    "}\n",
    "\n",
    "mat2 = mat2/mat2_bis"
   ]
  },
  {
   "cell_type": "code",
   "execution_count": 24,
   "metadata": {
    "scrolled": true
   },
   "outputs": [
    {
     "data": {
      "text/html": [
       "<table>\n",
       "<thead><tr><th></th><th scope=col>0</th><th scope=col>1</th><th scope=col>2</th><th scope=col>3</th><th scope=col>4</th><th scope=col>5</th></tr></thead>\n",
       "<tbody>\n",
       "\t<tr><th scope=row>C</th><td>0.2133333</td><td>     NaN </td><td>      NaN</td><td>      NaN</td><td>      NaN</td><td>      NaN</td></tr>\n",
       "\t<tr><th scope=row>D1</th><td>0.2416667</td><td>     NaN </td><td>      NaN</td><td>      NaN</td><td>      NaN</td><td>      NaN</td></tr>\n",
       "\t<tr><th scope=row>D2</th><td>0.5333333</td><td>1.541667 </td><td>0.1000000</td><td>0.0000000</td><td>      NaN</td><td>0.0000000</td></tr>\n",
       "\t<tr><th scope=row>E</th><td>1.8895833</td><td>1.139394 </td><td>4.9731884</td><td>5.3666667</td><td>0.0750000</td><td>1.3030864</td></tr>\n",
       "\t<tr><th scope=row>F</th><td>2.2500000</td><td>0.875000 </td><td>2.1644231</td><td>1.3139303</td><td>0.5671533</td><td>0.3083333</td></tr>\n",
       "\t<tr><th scope=row>G</th><td>      NaN</td><td>     NaN </td><td>0.5555556</td><td>0.4398148</td><td>0.2444444</td><td>0.0000000</td></tr>\n",
       "</tbody>\n",
       "</table>\n"
      ],
      "text/latex": [
       "\\begin{tabular}{r|llllll}\n",
       "  & 0 & 1 & 2 & 3 & 4 & 5\\\\\n",
       "\\hline\n",
       "\tC & 0.2133333 &      NaN  &       NaN &       NaN &       NaN &       NaN\\\\\n",
       "\tD1 & 0.2416667 &      NaN  &       NaN &       NaN &       NaN &       NaN\\\\\n",
       "\tD2 & 0.5333333 & 1.541667  & 0.1000000 & 0.0000000 &       NaN & 0.0000000\\\\\n",
       "\tE & 1.8895833 & 1.139394  & 4.9731884 & 5.3666667 & 0.0750000 & 1.3030864\\\\\n",
       "\tF & 2.2500000 & 0.875000  & 2.1644231 & 1.3139303 & 0.5671533 & 0.3083333\\\\\n",
       "\tG &       NaN &      NaN  & 0.5555556 & 0.4398148 & 0.2444444 & 0.0000000\\\\\n",
       "\\end{tabular}\n"
      ],
      "text/markdown": [
       "\n",
       "| <!--/--> | 0 | 1 | 2 | 3 | 4 | 5 | \n",
       "|---|---|---|---|---|---|\n",
       "| C | 0.2133333 |      NaN  |       NaN |       NaN |       NaN |       NaN | \n",
       "| D1 | 0.2416667 |      NaN  |       NaN |       NaN |       NaN |       NaN | \n",
       "| D2 | 0.5333333 | 1.541667  | 0.1000000 | 0.0000000 |       NaN | 0.0000000 | \n",
       "| E | 1.8895833 | 1.139394  | 4.9731884 | 5.3666667 | 0.0750000 | 1.3030864 | \n",
       "| F | 2.2500000 | 0.875000  | 2.1644231 | 1.3139303 | 0.5671533 | 0.3083333 | \n",
       "| G |       NaN |      NaN  | 0.5555556 | 0.4398148 | 0.2444444 | 0.0000000 | \n",
       "\n",
       "\n"
      ],
      "text/plain": [
       "   0         1        2         3         4         5        \n",
       "C  0.2133333      NaN       NaN       NaN       NaN       NaN\n",
       "D1 0.2416667      NaN       NaN       NaN       NaN       NaN\n",
       "D2 0.5333333 1.541667 0.1000000 0.0000000       NaN 0.0000000\n",
       "E  1.8895833 1.139394 4.9731884 5.3666667 0.0750000 1.3030864\n",
       "F  2.2500000 0.875000 2.1644231 1.3139303 0.5671533 0.3083333\n",
       "G        NaN      NaN 0.5555556 0.4398148 0.2444444 0.0000000"
      ]
     },
     "metadata": {},
     "output_type": "display_data"
    }
   ],
   "source": [
    "# Le nombre de larves en fonction du stade phénologique de l'inflorescence et de son état d'assechement.\n",
    "# Une ligne correspond à un stade phéno (C, D1, D2, E, F, G)\n",
    "# Une colonne correspond à un état d'assechement (0, 1, 2, 3, 4, 5)\n",
    "\n",
    "mat2"
   ]
  },
  {
   "cell_type": "code",
   "execution_count": null,
   "metadata": {},
   "outputs": [],
   "source": []
  }
 ],
 "metadata": {
  "kernelspec": {
   "display_name": "R",
   "language": "R",
   "name": "ir"
  },
  "language_info": {
   "codemirror_mode": "r",
   "file_extension": ".r",
   "mimetype": "text/x-r-source",
   "name": "R",
   "pygments_lexer": "r",
   "version": "3.5.2"
  }
 },
 "nbformat": 4,
 "nbformat_minor": 2
}
