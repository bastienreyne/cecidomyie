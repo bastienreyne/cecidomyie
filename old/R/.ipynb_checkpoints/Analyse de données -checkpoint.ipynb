{
 "cells": [
  {
   "cell_type": "markdown",
   "metadata": {},
   "source": [
    "# Données"
   ]
  },
  {
   "cell_type": "code",
   "execution_count": 5,
   "metadata": {},
   "outputs": [],
   "source": [
    "# IMPORTATION DES LIBRAIRIES \n",
    "library (plyr)\n",
    "library (dplyr)\n",
    "library (readr)\n",
    "library (xlsxjars)\n",
    "library (xlsx)\n",
    "library (float)"
   ]
  },
  {
   "cell_type": "markdown",
   "metadata": {},
   "source": [
    "## Fichier piege"
   ]
  },
  {
   "cell_type": "code",
   "execution_count": 6,
   "metadata": {},
   "outputs": [],
   "source": [
    "# Lecture du fichier piege \n",
    "setwd(\"C:/Users/saintcriq/Dropbox/Cécidomyie/Fichiers de données/Données brutes\")\n",
    "data0 = read.xlsx2(\"C:/Users/saintcriq/Dropbox/Cécidomyie/Fichiers de données/Données brutes/piege0.xlsx\", 3)"
   ]
  },
  {
   "cell_type": "code",
   "execution_count": 7,
   "metadata": {},
   "outputs": [],
   "source": [
    "# On enlève l'arbre 19 du bloc2 de la couverte sol nu car cet arbre a commencé à être suivi seulement en septembre\n",
    "data0 = data0[-which(data0$bloc==2 & data0$trait=='enh.ras' & data0$arbre==19,),]"
   ]
  },
  {
   "cell_type": "markdown",
   "metadata": {},
   "source": [
    "### Fonction de récupération de données"
   ]
  },
  {
   "cell_type": "code",
   "execution_count": 8,
   "metadata": {},
   "outputs": [],
   "source": [
    "# La fonction suivante renvoie un dataframe pour chaque date de relevé contenant \n",
    "# le nombre de larves piégées, le nombre d'inflos vivantes et mortes à l'échelle de l'arbre\n",
    "\n",
    "donnees_piege = function (Bloc, Trait, Modalité, nbArbreTot) {\n",
    "    \n",
    "    # Arguments en entrée :\n",
    "        ## Bloc : Un entier 1 ou 2 pour désigner le bloc choisi\n",
    "        ## Trait : Un entier 0 ou 1\n",
    "        ##         0 si on veut désigner la parcelle en entier\n",
    "        ##         1 si on désigne une sous-parcelle/modalité\n",
    "        ## Modalité : Si Trait vaut1, Modalité est une chaine de caractère \"bache\", \"enh_haut\" ou \"enh_ras\"\n",
    "        ## nbArbreTot : Nombre d'arbres dans la (sous) parcelle concernée\n",
    "    \n",
    "    # On récupère les données, en fonction du bloc et de la modalité\n",
    "    if (Trait==0)\n",
    "        B = subset(data0[data0$bloc==Bloc,], \n",
    "           select=c(bloc, trait, arbre, piege, date, nb.larves, nb.inflo.piege, nb.inflo, nb.inflo.morte, nb.jours))\n",
    "    else \n",
    "        B = subset(data0[data0$bloc==Bloc & data0$trait==Modalité,], \n",
    "           select=c(bloc, trait, arbre, piege, date, nb.larves, nb.inflo.piege, nb.inflo, nb.inflo.morte, nb.jours))\n",
    "    \n",
    "    # On rentre les dates de relevés\n",
    "    date = c('18/07/2017','25/07/2017',\n",
    "             '01/08/2017','08/08/2017','16/08/2017','18/08/2017','23/08/2017','25/08/2017','29/08/2017',\n",
    "             '01/09/2017','06/09/2017','08/09/2017','13/09/2017','15/09/2017','20/09/2017','22/09/2017','26/09/2017','29/09/2017',\n",
    "             '03/10/2017','06/10/2017')\n",
    "    \n",
    "    date_bis = unique(B$date)\n",
    "    \n",
    "    # On rentre le nombre de jours entre chaque relevé\n",
    "    nb_jours = c(0,7,7,7,8,2,5,2,4,3,5,2,5,2,5,2,4,3,4,3)\n",
    "    \n",
    "    # Initialisation\n",
    "    larves = array(0, length(date))\n",
    "    inflos_vivantes = array(0, length(date))\n",
    "    inflos_mortes = array(0, length(date))\n",
    "    \n",
    "    # On parcourt les données pour chaque date de relevé\n",
    "    for (i in 1:length(date)) {\n",
    "\n",
    "        # On récupère les données pour la date i\n",
    "        tmp = B[B$date==date_bis[i],]\n",
    "        \n",
    "        # On enlève les lignes avec des NA pour le nombre de larves, les inflos vivantes ou mortes\n",
    "        tmp = tmp[which(tmp$nb.larves!='NA'),]\n",
    "        tmp = tmp[which(tmp$nb.inflo!='NA'),]\n",
    "        tmp = tmp[which(tmp$nb.inflo.piege!='NA'),]\n",
    "        \n",
    "        # On change le type des facteurs pour pouvoir faire des opérations\n",
    "        tmp$nb.larves = as.numeric(as.character(tmp$nb.larves))\n",
    "        tmp$nb.inflo = as.numeric(as.character(tmp$nb.inflo))\n",
    "        tmp$nb.inflo.piege = as.numeric(as.character(tmp$nb.inflo.piege))\n",
    "\n",
    "        # j permet de parcourir, pour une date donnée, tous les pièges avec des relevés\n",
    "        j = 1\n",
    "        # AB vaut 0 tant qu'on n'est pas passé dans la boucle avec deux pièges, c'est à dire avant qu'ils posent le piège B\n",
    "        # AB vaut 1 si on passe dans la boucle avec deux pièges, c'est à dire après le 16/08\n",
    "        AB = 0\n",
    "        # nbArbrePiege est un compteur pour connaître le nombre d'arbres ayant des pièges dessous\n",
    "        nbArbrePiege = 0\n",
    "        \n",
    "        # Tant qu'on n'a pas parcouru toutes les dates de relevé\n",
    "        while (j<dim(tmp)[1]) {\n",
    "            \n",
    "            # Si l'arbre possède deux pièges A et B, on calcule le nombre de larves piégées à l'échelle de l'arbre piégé\n",
    "            # et on récupère le nombre d'inflos vivantes dans l'arbre piégé\n",
    "            if (tmp[j,]$trait==tmp[j+1,]$trait & tmp[j,]$arbre==tmp[j+1,]$arbre) {\n",
    "                if (tmp$nb.inflo.piege[j]+tmp$nb.inflo.piege[j+1]!=0) {\n",
    "                    larves[i] = larves[i] + (tmp$nb.larves[j]+tmp$nb.larves[j+1])*tmp$nb.inflo[j]/(tmp$nb.inflo.piege[j]+tmp$nb.inflo.piege[j+1])\n",
    "                }\n",
    "                inflos_vivantes[i] = inflos_vivantes[i] + tmp$nb.inflo[j]\n",
    "                j = j+2\n",
    "                nbArbrePiege = nbArbrePiege + 1\n",
    "                AB = 1\n",
    "            }\n",
    "            \n",
    "            # Si l'arbre ne possède que le piège A, on calcule le nombre de larves piégées à l'échelle de l'arbre piégé\n",
    "            # et on récupère le nombre d'inflos vivantes dans l'arbre piégé\n",
    "            else {\n",
    "                if (tmp$nb.inflo.piege[j]!=0) {\n",
    "                    larves[i] = larves[i] + tmp$nb.larves[j]*tmp$nb.inflo[j]/tmp$nb.inflo.piege[j]\n",
    "                }\n",
    "                inflos_vivantes[i] = inflos_vivantes[i] + tmp$nb.inflo[j]\n",
    "                j = j+1\n",
    "                nbArbrePiege = nbArbrePiege + 1\n",
    "            }\n",
    "            \n",
    "        }\n",
    "        \n",
    "        if (AB==0)\n",
    "            nbArbrePiege = nbArbrePiege + 1\n",
    "        \n",
    "        # On met le nombre de larves piégées et le nombre d'inflorescences des arbres piégées à l'échelle du verger\n",
    "        coefArbre = nbArbreTot/nbArbrePiege\n",
    "        inflos_vivantes[i] = inflos_vivantes[i] * coefArbre\n",
    "        larves[i] = larves[i] * coefArbre\n",
    "    }\n",
    "    \n",
    "    # On parcourt les données pour chaque date de relevé\n",
    "    for (i in 1:length(date)) {\n",
    "        \n",
    "         # On récupère les données pour la date i\n",
    "        tmp = B[B$date==date_bis[i],]\n",
    "        \n",
    "        # On enlève les lignes avec des NA pour le nombre d'inflos mortes\n",
    "        tmp = tmp[which(tmp$nb.inflo.morte!='NA'),]\n",
    "        \n",
    "        # On change le type des facteurs pour pouvoir faire des opérations\n",
    "        tmp$nb.inflo.morte = as.numeric(as.character(tmp$nb.inflo.morte))\n",
    "        \n",
    "        # j permet de parcourir, pour une date donnée, tous les pièges avec des relevés.\n",
    "        j = 1\n",
    "        # AB vaut 0 tant qu'on n'est pas passé dans la boucle avec deux pièges, c'est à dire avant qu'ils posent le piège B\n",
    "        # AB vaut 1 si on passe dans la boucle avec deux pièges, c'est à dire après le 16/08\n",
    "        AB = 0\n",
    "        # nbArbrePiege est un compteur pour connaître le nombre d'arbres ayant des pièges dessous\n",
    "        nbArbrePiege = 0 \n",
    "        \n",
    "        # Tant qu'on n'a pas parcouru toutes les dates de relevé\n",
    "        while (j<dim(tmp)[1]) {\n",
    "            \n",
    "            # Si l'arbre possède deux pièges A et B, on récupère le nombre d'inflos mortes de l'arbre piégé\n",
    "            if (tmp[j,]$trait==tmp[j+1,]$trait & tmp[j,]$arbre==tmp[j+1,]$arbre) {\n",
    "                inflos_mortes[i] = inflos_mortes[i] + tmp$nb.inflo.morte[j]\n",
    "                j = j+2\n",
    "                nbArbrePiege = nbArbrePiege + 1\n",
    "                AB = 1\n",
    "            }\n",
    "            \n",
    "            # Si l'arbre ne possède que le piège A, on récupère le nombre d'inflos mortes de l'arbre piégé\n",
    "            else {\n",
    "                inflos_mortes[i] = inflos_mortes[i] + tmp$nb.inflo.morte[j]\n",
    "                j = j+1\n",
    "                nbArbrePiege = nbArbrePiege + 1\n",
    "            }\n",
    "        }\n",
    "        \n",
    "        if (AB==0)\n",
    "            nbArbrePiege = nbArbrePiege + 1\n",
    "        \n",
    "        # On met le nombre d'inflorescences mortes des arbres piégées à l'échelle du verger\n",
    "        coefArbre = nbArbreTot/nbArbrePiege\n",
    "        inflos_mortes[i] = inflos_mortes[i] * coefArbre\n",
    "        \n",
    "    }\n",
    "    \n",
    "    larves_inflos = larves/inflos_vivantes \n",
    "    \n",
    "    # On met toutes les données récupérées dans un dataframe\n",
    "    BB = data.frame(date, larves, inflos_vivantes, inflos_mortes, larves_inflos, nb_jours)\n",
    "    \n",
    "    return (BB)\n",
    "}"
   ]
  },
  {
   "cell_type": "code",
   "execution_count": 9,
   "metadata": {},
   "outputs": [],
   "source": [
    "# La fonction suivante renvoie un dataframe et le met dans un fichier excel en estimant le nombre de larves piégées, \n",
    "# le nombre d'inflos vivantes et le nombre d'inflos mortes pour deux dates par semaine (le mardi et le vendredi)\n",
    "\n",
    "donnees_piege_semaine = function (Bloc, Trait, Modalité, Nom, nbArbreTot) {\n",
    "    \n",
    "     # Arguments en entrée :\n",
    "        ## Bloc : Un entier 1 ou 2 pour désigner le bloc choisi\n",
    "        ## Trait : Un entier 0 ou 1. 0 si on veut désigner la parcelle en entier. 1 si on désigne une sous-parcelle/modalité\n",
    "        ## Modalité : Si Trait vaut1, Modalité est une chaine de caractère \"bache\", \"enh_haut\" ou \"enh_ras\"\n",
    "        ## Nom : Chaine de caractère pour choisir le nom du fichier excel sur lequel on écrit\n",
    "        ## nbArbreTot : Nombre d'arbres dans la (sous) parcelle concernée\n",
    "    \n",
    "    # On récupère les données du dataframe\n",
    "    Parcelle = donnees_piege(Bloc, Trait, Modalité, nbArbreTot)\n",
    "    larves = Parcelle$larves\n",
    "    inflos_vivantes = Parcelle$inflos_vivantes\n",
    "    inflos_mortes = Parcelle$inflos_mortes\n",
    "    nb_jours = Parcelle$nb_jours\n",
    "    \n",
    "    # Dates des relevés réels\n",
    "    date = c('18/07/2017','25/07/2017',\n",
    "             '01/08/2017','08/08/2017','16/08/2017','18/08/2017','23/08/2017','25/08/2017','29/08/2017',\n",
    "             '01/09/2017','06/09/2017','08/09/2017','13/09/2017','15/09/2017','20/09/2017','22/09/2017','26/09/2017','29/09/2017',\n",
    "             '03/10/2017','06/10/2017')    \n",
    "    \n",
    "    # Dates qu'on impose, deux fois par semaine, le mardi et le vendredi\n",
    "    date_ = c('18/07/2017','21/07/2017','25/07/2017','28/07/2017',\n",
    "             '01/08/2017','04/08/2017','08/08/2017','11/08/2017', '15/08/2017','18/08/2017','22/08/2017','25/08/2017','29/08/2017',\n",
    "             '01/09/2017','05/09/2017','08/09/2017','12/09/2017','15/09/2017','19/09/2017','22/09/2017','26/09/2017','29/09/2017',\n",
    "             '03/10/2017','06/10/2017')\n",
    "    \n",
    "    nb_jours_ = c(0,rep(3:4,11),3)\n",
    "    \n",
    "    # Initialisation\n",
    "    larves_jour = array(0, length(date))\n",
    "    larves_ = array(0, length(date_))\n",
    "    inflos_vivantes_jour = array(0, length(date))\n",
    "    inflos_vivantes_ = array(0, length(date_))\n",
    "    inflos_mortes_jour = array(0, length(date))\n",
    "    inflos_mortes_ = array(0, length(date_))\n",
    "    \n",
    "    # On calcule le nombre de larves piégées, d'inflos vivantes, d'inflos mortes par jour\n",
    "    for (i in 2:length(date)) {\n",
    "        larves_jour[i] = larves[i]/nb_jours[i]\n",
    "        inflos_vivantes_jour[i] = inflos_vivantes[i]/nb_jours[i]\n",
    "        inflos_mortes_jour[i] = inflos_mortes[i]/nb_jours[i]\n",
    "    }\n",
    "    \n",
    "    \n",
    "    # On calcule le nombre de larves piégées, d'inflos vivantes, d'inflos mortes par jour tous les 3-4 jours\n",
    "    j = 2\n",
    "    cpt_jours = nb_jours[2]\n",
    "    cpt_jours_ = nb_jours_[2]\n",
    "    zz = 0\n",
    "    for (i in 2:length(date_)) {\n",
    "    \n",
    "        if (j<length(date)) {\n",
    "        \n",
    "            if (zz==0) {\n",
    "            \n",
    "                if (cpt_jours == cpt_jours_) {\n",
    "                    larves_[i] = larves_jour[j] * nb_jours_[i]\n",
    "                    inflos_vivantes_[i] = inflos_vivantes_jour[j] * nb_jours_[i]\n",
    "                    inflos_mortes_[i] = inflos_mortes_jour[j] * nb_jours_[i]\n",
    "                    j = j+1\n",
    "                    cpt_jours = cpt_jours + nb_jours[j]\n",
    "                }\n",
    "        \n",
    "                else if (cpt_jours > cpt_jours_ & cpt_jours < cpt_jours_ + 3) {\n",
    "                    larves_[i] = larves_jour[j] * nb_jours_[i]\n",
    "                    inflos_vivantes_[i] = inflos_vivantes_jour[j] * nb_jours_[i]\n",
    "                    inflos_mortes_[i] = inflos_mortes_jour[j] * nb_jours_[i]\n",
    "                    zz = 1\n",
    "                }\n",
    "        \n",
    "                else {\n",
    "                    larves_[i] = larves_jour[j] * nb_jours_[i]\n",
    "                    inflos_vivantes_[i] = inflos_vivantes_jour[j] * nb_jours_[i]\n",
    "                    inflos_mortes_[i] = inflos_mortes_jour[j] * nb_jours_[i]\n",
    "                }\n",
    "            }\n",
    "        \n",
    "            else {\n",
    "                zz = 0\n",
    "                larves_[i] = larves_jour[j] * (nb_jours_[i]-(cpt_jours_ - cpt_jours)) + larves_jour[j+1] * (cpt_jours_ - cpt_jours)\n",
    "                inflos_vivantes_[i] = inflos_vivantes_jour[j] * (nb_jours_[i]-(cpt_jours_ - cpt_jours)) + inflos_vivantes_jour[j+1] * (cpt_jours_ - cpt_jours)\n",
    "                inflos_mortes_[i] = inflos_mortes_jour[j] * (nb_jours_[i]-(cpt_jours_ - cpt_jours)) + inflos_mortes_jour[j+1] * (cpt_jours_ - cpt_jours)\n",
    "                \n",
    "                j = j+1\n",
    "                cpt_jours = cpt_jours + nb_jours[j]\n",
    "                if (cpt_jours == cpt_jours_) {\n",
    "                    j = j+1\n",
    "                    cpt_jours = cpt_jours + nb_jours[j]\n",
    "                }\n",
    "            }\n",
    "\n",
    "            if (i<length(date_))\n",
    "                cpt_jours_ = cpt_jours_ + nb_jours_[i+1]   \n",
    "        }\n",
    "\n",
    "    }\n",
    "    \n",
    "     # On met toutes les données récupérées dans un dataframe, puis dans un fichier excel\n",
    "    date_ = as.Date(date_, '%d/%m/%Y')\n",
    "    date = as.Date(strptime(date_, format = \"%Y-%m-%d\"))\n",
    "    \n",
    "    larves = larves_\n",
    "    inflos_vivantes = inflos_vivantes_\n",
    "    inflos_mortes = inflos_mortes_\n",
    "    nb_jours = nb_jours_\n",
    "    larves_inflos = larves/inflos_vivantes\n",
    "    \n",
    "    BB = data.frame(date, larves, inflos_vivantes, inflos_mortes, larves_inflos, nb_jours)\n",
    "    \n",
    "    write.xlsx(BB, paste0(\"C:/Users/saintcriq/Dropbox/Cécidomyie/Fichiers de données/Données ré organisées/Fichier piège/\",Nom,\"_semaine.xls\"), sheetName=\"1\")\n",
    "    \n",
    "    return (BB)\n",
    "}"
   ]
  },
  {
   "cell_type": "code",
   "execution_count": 10,
   "metadata": {},
   "outputs": [],
   "source": [
    "# La fonction suivante renvoie un dataframe et le met dans un fichier excel en estimant le nombre de larves piégées, \n",
    "# le nombre d'inflos vivantes et le nombre d'inflos mortes tous les jours\n",
    "\n",
    "donnees_piege_jour = function (Bloc, Trait, Modalité, Nom, nbArbreTot) {\n",
    "    \n",
    "    \n",
    "    # Arguments en entrée :\n",
    "        ## Bloc : Un entier 1 ou 2 pour désigner le bloc choisi\n",
    "        ## Trait : Un entier 0 ou 1. 0 si on veut désigner la parcelle en entier. 1 si on désigne une sous-parcelle/modalité\n",
    "        ## Modalité : Si Trait vaut1, Modalité est une chaine de caractère \"bache\", \"enh_haut\" ou \"enh_ras\"\n",
    "        ## nbArbreTot : Nombre d'arbres dans la (sous) parcelle concernée\n",
    "\n",
    "    # On récupère les données du dataframe\n",
    "    Parcelle = donnees_piege (Bloc, Trait, Modalité, nbArbreTot)\n",
    "    \n",
    "    # On rentre les dates de relevés\n",
    "    date_ = c('18/07/2017','25/07/2017',\n",
    "             '01/08/2017','08/08/2017','16/08/2017','18/08/2017','23/08/2017','25/08/2017','29/08/2017',\n",
    "             '01/09/2017','06/09/2017','08/09/2017','13/09/2017','15/09/2017','20/09/2017','22/09/2017','26/09/2017','29/09/2017',\n",
    "             '03/10/2017','06/10/2017')\n",
    "    \n",
    "    # On met les dates au bon format\n",
    "    date_ = as.Date(date_, '%d/%m/%Y')\n",
    "    date_ = as.Date(strptime(date_, format = \"%Y-%m-%d\"))\n",
    "    diff = as.double(difftime(date_[length(date_)],date_[1], units = \"days\"))\n",
    "    \n",
    "    # On rentre le nombre de jours entre chaque relevé\n",
    "    nb_jours = c(7,7,7,7,8,2,5,2,4,3,5,2,5,2,5,2,4,3,4,3)\n",
    "    \n",
    "    # Initialisation\n",
    "    larves = array(0, diff)\n",
    "    inflos_vivantes = array(0, diff)\n",
    "    inflos_mortes = array(0, diff)\n",
    "    larves_inflos = array(0, diff)\n",
    "    date = structure(rep(NA_real_, diff), class=\"Date\")\n",
    "    \n",
    "    # On récupères les données pour chaque date de passage et on les transforme en données journalières\n",
    "    larves[1] = Parcelle$larves[1]/nb_jours[1]\n",
    "    inflos_vivantes[1] = Parcelle$inflos_vivantes[1]/nb_jours[1]\n",
    "    inflos_mortes[1] = Parcelle$inflos_mortes[1]/nb_jours[1]\n",
    "    larves[1] = Parcelle$larves[1]/nb_jours[1]\n",
    "    larves[1] = Parcelle$larves[1]/nb_jours[1]\n",
    "    date[1] = date_[1]\n",
    "    ii = 2\n",
    "    for (i in 2:length(nb_jours)) {\n",
    "        larves[ii:(ii+nb_jours[i]-1)] = (Parcelle$larves[i]/nb_jours[i])*array(1,nb_jours[i])\n",
    "        inflos_vivantes[ii:(ii+nb_jours[i]-1)] = (Parcelle$inflos_vivantes[i]/nb_jours[i])*array(1,nb_jours[i])\n",
    "        inflos_mortes[ii:(ii+nb_jours[i]-1)] = (Parcelle$inflos_mortes[i]/nb_jours[i])*array(1,nb_jours[i])\n",
    "        larves_inflos[ii:(ii+nb_jours[i]-1)] = (Parcelle$larves_inflos[i]/nb_jours[i])*array(1,nb_jours[i])\n",
    "        date[ii:(ii+nb_jours[i]-1)] = date_[i-1] + (1:nb_jours[i])\n",
    "        ii = ii + nb_jours[i]\n",
    "    }\n",
    "    \n",
    "    BB = data.frame(date, larves, inflos_vivantes, inflos_mortes, larves_inflos)\n",
    "    \n",
    "    write.xlsx(BB, paste0(\"C:/Users/saintcriq/Dropbox/Cécidomyie/Fichiers de données/Données ré organisées/Fichier piège/\",Nom,\"_jour.xls\"), sheetName=\"1\")\n",
    "    \n",
    "    return (BB)\n",
    "}"
   ]
  },
  {
   "cell_type": "markdown",
   "metadata": {},
   "source": [
    "### On récupère les données du fichier piège "
   ]
  },
  {
   "cell_type": "code",
   "execution_count": 11,
   "metadata": {},
   "outputs": [],
   "source": [
    "# Pour deux dates par semaine \n",
    "Bloc1_donnees_piege = donnees_piege_semaine (1, 0, \"Modalité\", \"Bloc1\", 153)\n",
    "Bloc1_bache_donnees_piege = donnees_piege_semaine (1, 1, \"bache\", \"Bloc1_bache\", 45)\n",
    "Bloc1_enh_haut_donnees_piege = donnees_piege_semaine (1, 1, \"enh.haut\", \"Bloc1_enh_haut\", 59)\n",
    "Bloc1_enh_ras_donnees_piege = donnees_piege_semaine (1, 1, \"enh.ras\", \"Bloc1_enh_ras\", 49)\n",
    "Bloc2_donnees_piege = donnees_piege_semaine (2, 0, \"Modalité\", \"Bloc2\", 150)\n",
    "Bloc2_bache_donnees_piege = donnees_piege_semaine (2, 1, \"bache\", \"Bloc2_bache\", 51)\n",
    "Bloc2_enh_haut_donnees_piege = donnees_piege_semaine (2, 1, \"enh.haut\", \"Bloc2_enh_haut\", 46)\n",
    "Bloc2_enh_ras_donnees_piege = donnees_piege_semaine (2, 1, \"enh.ras\", \"Bloc2_enh_ras\", 53)"
   ]
  },
  {
   "cell_type": "code",
   "execution_count": 12,
   "metadata": {},
   "outputs": [],
   "source": [
    "# Pour tous les jours \n",
    "Bloc1_donnees_piege = donnees_piege_jour (1, 0, \"Modalité\", \"Bloc1\", 153)\n",
    "Bloc1_bache_donnees_piege = donnees_piege_jour (1, 1, \"bache\", \"Bloc1_bache\", 45)\n",
    "Bloc1_enh_haut_donnees_piege = donnees_piege_jour (1, 1, \"enh.haut\", \"Bloc1_enh_haut\", 59)\n",
    "Bloc1_enh_ras_donnees_piege = donnees_piege_jour (1, 1, \"enh.ras\", \"Bloc1_enh_ras\", 49)\n",
    "Bloc2_donnees_piege = donnees_piege_jour (2, 0, \"Modalité\", \"Bloc2\", 150)\n",
    "Bloc2_bache_donnees_piege = donnees_piege_jour (2, 1, \"bache\", \"Bloc2_bache\", 51)\n",
    "Bloc2_enh_haut_donnees_piege = donnees_piege_jour (2, 1, \"enh.haut\", \"Bloc2_enh_haut\", 46)\n",
    "Bloc2_enh_ras_donnees_piege = donnees_piege_jour (2, 1, \"enh.ras\", \"Bloc2_enh_ras\", 53)"
   ]
  },
  {
   "cell_type": "markdown",
   "metadata": {},
   "source": [
    "## Fichier Dynamique cecido"
   ]
  },
  {
   "cell_type": "code",
   "execution_count": 13,
   "metadata": {},
   "outputs": [],
   "source": [
    "# Lecture du fichier dynamique cecido\n",
    "setwd(\"C:/Users/saintcriq/Dropbox/Cécidomyie/Fichiers de données/Données brutes\")\n",
    "data1 = read.xlsx2(\"C:/Users/saintcriq/Dropbox/Cécidomyie/Fichiers de données/Données brutes/dynamique.cecido.modif0.xlsx\", 1)"
   ]
  },
  {
   "cell_type": "code",
   "execution_count": 14,
   "metadata": {},
   "outputs": [],
   "source": [
    "# On change les dates en \"DD/MM/YYYY\"\n",
    "unique_date = as.character(unique(data1$date))\n",
    "date = c('01/09/2017','06/09/2017','08/09/2017','13/09/2017','15/09/2017','20/09/2017','22/09/2017','26/09/2017','29/09/2017',\n",
    "         '03/10/2017','06/10/2017')\n",
    "data1$date = as.character(as.numeric(as.character(data1$date)))\n",
    "for (i in 1:length(date))\n",
    "    data1$date[data1$date==unique_date[i]] = date[i] "
   ]
  },
  {
   "cell_type": "code",
   "execution_count": 15,
   "metadata": {},
   "outputs": [],
   "source": [
    "# Durée cumulée entre chaque stade (estimations faites à partir des données de notre fichier dynamique.cecido)\n",
    "stade = c('C','D1','D2','E','F','G','Fruit')\n",
    "debut_stade = cumsum(c(0,1,4,4,6,12,11))\n",
    "fin_stade = rev(cumsum(rev(c(1,4,4,6,12,11,0))))"
   ]
  },
  {
   "cell_type": "markdown",
   "metadata": {},
   "source": [
    "### Duree de vie des inflorescences"
   ]
  },
  {
   "cell_type": "code",
   "execution_count": 16,
   "metadata": {},
   "outputs": [],
   "source": [
    "# On enlève les stades phénos non observés et les stades végétatifs\n",
    "data1_0 = data1[data1$stade!='NA' & data1$stade!='V',]\n",
    "\n",
    "# On sépare selon le bloc, le traitement du sol, l'arbre, le piège, et le numéro d'étiquette afin d'avoir toutes les \n",
    "# étiquettes suivies séparées \n",
    "data1_split = split(data1_0, list(data1_0$bloc,data1_0$trait,data1_0$arbre,data1_0$piege,data1_0$num.etiq))\n",
    "\n",
    "# Nombre d'étiquettes suivies avec des stades phénos observés\n",
    "NbGroup = length(data1_split)\n",
    "\n",
    "# Initisalisation\n",
    "cecido = c()\n",
    "birth = structure(rep(NA_real_, 130), class=\"Date\")\n",
    "dead  = structure(rep(NA_real_, 130), class=\"Date\")\n",
    "\n",
    "jj = 1\n",
    "\n",
    "# Pour chaque étiquette :\n",
    "    # On récupère la date de naissance de l'inflo (premier stade phéno observé si c'est le stade C,\n",
    "    # sinon estimation de la date d'apparition du stade C avec duree_stade et debut_stade).\n",
    "    # On récupère la date de mort de l'inflo (premier 5 dans le niveau de déssechement, signifie qu'elle est sèche à 100%).\n",
    "    # Si elle n'atteint pas l'état de déssèchement 5, on estime sa date de mort avec les durées des stades.\n",
    "for (i in 1:NbGroup) {\n",
    "    tmp = data.frame(data1_split[i])\n",
    "    colnames(tmp) = colnames(data1_0)\n",
    "    tmp$date = as.Date(tmp$date, '%d/%m/%Y')\n",
    "    tmp$date = as.Date(strptime(tmp$date, format = \"%Y-%m-%d\"))\n",
    "    tmp$stade = as.character(tmp$stade)\n",
    "    if (dim(tmp)[1]!=0) {\n",
    "        premier_stade = tmp$stade[1]\n",
    "        ii = which(stade == premier_stade)\n",
    "        birth[jj] = tmp$date[1] - debut_stade[ii]\n",
    "        if (1 %in% tmp$cecido) \n",
    "            cecido = c(cecido,1)\n",
    "        else\n",
    "            cecido = c(cecido,0)\n",
    "        if (5 %in% tmp$etat.panicule) {\n",
    "            j = min(which(tmp$etat.panicule == 5))\n",
    "            dead[jj] = tmp$date[j]\n",
    "        }\n",
    "        else {\n",
    "            dernier_stade = tmp$stade[dim(tmp)[1]]\n",
    "            ii = which(stade == dernier_stade)\n",
    "            dead[jj] = tmp$date[dim(tmp)[1]] + fin_stade[ii]\n",
    "        }\n",
    "        jj = jj+1\n",
    "    }\n",
    "}\n",
    "diff = dead-birth"
   ]
  },
  {
   "cell_type": "code",
   "execution_count": 17,
   "metadata": {
    "scrolled": true
   },
   "outputs": [],
   "source": [
    "# On crée un fichier contenant newdata1\n",
    "newdata1 = data.frame(birth, dead, diff)\n",
    "write.xlsx(newdata1, \"C:/Users/saintcriq/Dropbox/Cécidomyie/Fichiers de données/Données ré organisées/Fichier dynamique cecido/dynamique_cecido_data.xls\", sheetName=\"1\")"
   ]
  },
  {
   "cell_type": "code",
   "execution_count": 18,
   "metadata": {
    "scrolled": false
   },
   "outputs": [
    {
     "data": {
      "image/png": "[encoded data removed]",
      "text/plain": [
       "Plot with title \"Histogram of as.numeric(diff)\""
      ]
     },
     "metadata": {},
     "output_type": "display_data"
    }
   ],
   "source": [
    "# Histogramme des durées de vie des inflorescences (On a récupéré toutes les durées de vie des inflos que nous avons et \n",
    "# on les a mises dans un histogramme)\n",
    "hist(as.numeric(diff),freq=F)\n",
    "# Densité de proba d'une loi normale de moyenne, la durée de vie moyenne des inflos et de variance, la variance des inflos\n",
    "curve(dnorm(x,mean(diff),sd(diff)),from=-10,to=70,add=T,col=\"red\")"
   ]
  },
  {
   "cell_type": "markdown",
   "metadata": {},
   "source": [
    "### A quel stade phénologique, l'inflo meurt-elle? "
   ]
  },
  {
   "cell_type": "code",
   "execution_count": 19,
   "metadata": {},
   "outputs": [
    {
     "name": "stdout",
     "output_type": "stream",
     "text": [
      "[1] \"Proportion d'inflos qui meurent à l'état phénologique C : \"\n",
      "[1] 0\n",
      "[1] \"\"\n",
      "[1] \"Proportion d'inflos qui meurent à l'état phénologique D1 : \"\n",
      "[1] 0\n",
      "[1] \"\"\n",
      "[1] \"Proportion d'inflos qui meurent à l'état phénologique D2 : \"\n",
      "[1] 0.03529412\n",
      "[1] \"\"\n",
      "[1] \"Proportion d'inflos qui meurent à l'état phénologique E : \"\n",
      "[1] 0.1764706\n",
      "[1] \"\"\n",
      "[1] \"Proportion d'inflos qui meurent à l'état phénologique F : \"\n",
      "[1] 0.7058824\n",
      "[1] \"\"\n",
      "[1] \"Proportion d'inflos qui meurent à l'état phénologique G : \"\n",
      "[1] 0.08235294\n"
     ]
    }
   ],
   "source": [
    "# On enlève les stades phénos non observés et les stades végétatifs\n",
    "data1_0 = data1[data1$stade!='NA' & data1$stade!='V',]\n",
    "\n",
    "# On sépare selon le bloc, le traitement du sol, l'arbre, le piège, et le numéro d'étiquette afin d'avoir toutes les \n",
    "# étiquettes suivies séparées \n",
    "data1_split = split(data1_0, list(data1_0$bloc,data1_0$trait,data1_0$arbre,data1_0$piege,data1_0$num.etiq))\n",
    "\n",
    "# Nombre d'étiquettes suivies avec des stades phénos observés\n",
    "NbGroup = length(data1_split)\n",
    "\n",
    "# Initialisation \n",
    "stade_fin = c()\n",
    "\n",
    "jj = 1\n",
    "\n",
    "# Pour chaque étiquette :\n",
    "    # Si l'inflo atteint l'état de déssèchement 5, on garde le stade phénologique durant lequel elle est morte\n",
    "for (i in 1:NbGroup) {\n",
    "    tmp = data.frame(data1_split[i])\n",
    "    colnames(tmp) = colnames(data1_0)\n",
    "    tmp$date = as.Date(tmp$date, '%d/%m/%Y')\n",
    "    tmp$date = as.Date(strptime(tmp$date, format = \"%Y-%m-%d\"))\n",
    "    tmp$stade = as.character(tmp$stade)\n",
    "    if (dim(tmp)[1]!=0) {\n",
    "        if (5 %in% tmp$etat.panicule) {\n",
    "            j = min(which(tmp$etat.panicule == 5))\n",
    "            stade_fin = c(stade_fin, tmp$stade[j])\n",
    "            \n",
    "        }\n",
    "    }\n",
    "}\n",
    "\n",
    "print(\"Proportion d'inflos qui meurent à l'état phénologique C : \")\n",
    "print(sum(stade_fin=='C')/length(stade_fin))\n",
    "print(\"\")\n",
    "print(\"Proportion d'inflos qui meurent à l'état phénologique D1 : \")\n",
    "print(sum(stade_fin=='D1')/length(stade_fin))\n",
    "print(\"\")\n",
    "print(\"Proportion d'inflos qui meurent à l'état phénologique D2 : \")\n",
    "print(sum(stade_fin=='D2')/length(stade_fin))\n",
    "print(\"\")\n",
    "print(\"Proportion d'inflos qui meurent à l'état phénologique E : \")\n",
    "print(sum(stade_fin=='E')/length(stade_fin))\n",
    "print(\"\")\n",
    "print(\"Proportion d'inflos qui meurent à l'état phénologique F : \")\n",
    "print(sum(stade_fin=='F')/length(stade_fin))\n",
    "print(\"\")\n",
    "print(\"Proportion d'inflos qui meurent à l'état phénologique G : \")\n",
    "print(sum(stade_fin=='G')/length(stade_fin))"
   ]
  },
  {
   "cell_type": "markdown",
   "metadata": {},
   "source": [
    "### Stade atteint "
   ]
  },
  {
   "cell_type": "code",
   "execution_count": 76,
   "metadata": {},
   "outputs": [
    {
     "data": {
      "text/html": [
       "<table>\n",
       "<thead><tr><th></th><th scope=col>C</th><th scope=col>D1</th><th scope=col>D2</th><th scope=col>E</th><th scope=col>F</th><th scope=col>G</th></tr></thead>\n",
       "<tbody>\n",
       "\t<tr><th scope=row>Atteint</th><td>128      </td><td>128      </td><td>128.000  </td><td>124.00000</td><td>103.00000</td><td>27.00000 </td></tr>\n",
       "\t<tr><th scope=row>Mort</th><td>  0      </td><td>  0      </td><td>  4.000  </td><td> 21.00000</td><td> 76.00000</td><td> 7.00000 </td></tr>\n",
       "\t<tr><th scope=row>Sain_p</th><td>  0      </td><td>  0      </td><td>  3.125  </td><td> 16.93548</td><td> 73.78641</td><td>25.92593 </td></tr>\n",
       "\t<tr><th scope=row>Mort_p</th><td>100      </td><td>100      </td><td> 96.875  </td><td> 83.06452</td><td> 26.21359</td><td>74.07407 </td></tr>\n",
       "</tbody>\n",
       "</table>\n"
      ],
      "text/latex": [
       "\\begin{tabular}{r|llllll}\n",
       "  & C & D1 & D2 & E & F & G\\\\\n",
       "\\hline\n",
       "\tAtteint & 128       & 128       & 128.000   & 124.00000 & 103.00000 & 27.00000 \\\\\n",
       "\tMort &   0       &   0       &   4.000   &  21.00000 &  76.00000 &  7.00000 \\\\\n",
       "\tSain\\_p &   0       &   0       &   3.125   &  16.93548 &  73.78641 & 25.92593 \\\\\n",
       "\tMort\\_p & 100       & 100       &  96.875   &  83.06452 &  26.21359 & 74.07407 \\\\\n",
       "\\end{tabular}\n"
      ],
      "text/markdown": [
       "\n",
       "| <!--/--> | C | D1 | D2 | E | F | G | \n",
       "|---|---|---|---|\n",
       "| Atteint | 128       | 128       | 128.000   | 124.00000 | 103.00000 | 27.00000  | \n",
       "| Mort |   0       |   0       |   4.000   |  21.00000 |  76.00000 |  7.00000  | \n",
       "| Sain_p |   0       |   0       |   3.125   |  16.93548 |  73.78641 | 25.92593  | \n",
       "| Mort_p | 100       | 100       |  96.875   |  83.06452 |  26.21359 | 74.07407  | \n",
       "\n",
       "\n"
      ],
      "text/plain": [
       "        C   D1  D2      E         F         G       \n",
       "Atteint 128 128 128.000 124.00000 103.00000 27.00000\n",
       "Mort      0   0   4.000  21.00000  76.00000  7.00000\n",
       "Sain_p    0   0   3.125  16.93548  73.78641 25.92593\n",
       "Mort_p  100 100  96.875  83.06452  26.21359 74.07407"
      ]
     },
     "metadata": {},
     "output_type": "display_data"
    }
   ],
   "source": [
    "# On enlève les stades phénos non observés et les stades végétatifs\n",
    "data1_0 = data1[data1$stade!='NA' & data1$stade!='Fruit',]\n",
    "\n",
    "# On sépare selon le bloc, le traitement du sol, l'arbre, le piège, et le numéro d'étiquette afin d'avoir toutes les \n",
    "# étiquettes suivies séparées \n",
    "data1_split = split(data1_0, list(data1_0$bloc,data1_0$trait,data1_0$arbre,data1_0$piege,data1_0$num.etiq))\n",
    "\n",
    "# Nombre d'étiquettes suivies avec des stades phénos observés\n",
    "NbGroup = length(data1_split)\n",
    "\n",
    "# Initialisation\n",
    "stade_atteint_mort = matrix(rep(0,24),nrow=4, ncol=6)\n",
    "colnames(stade_atteint_mort) = c('C', 'D1', 'D2', 'E', 'F', 'G')\n",
    "rownames(stade_atteint_mort) = c(\"Atteint\", \"Mort\",\"Sain_p\", \"Mort_p\")\n",
    "\n",
    "# Pour chaque étiquette :\n",
    "    # On cherche le stade phénologique maximal que l'inflo atteint, on connait donc tous les stades par lesquels \n",
    "    # elle est passée. Et on regarde si elle meurt pendant ce stade.\n",
    "for (i in 1:NbGroup) {\n",
    "    tmp = data.frame(data1_split[i])\n",
    "    colnames(tmp) = colnames(data1_0)\n",
    "    tmp$date = as.Date(tmp$date, '%d/%m/%Y')\n",
    "    tmp$date = as.Date(strptime(tmp$date, format = \"%Y-%m-%d\"))\n",
    "    tmp$stade = as.character(tmp$stade)\n",
    "    if (sum(tmp$stade=='V')==0 & dim(tmp)[1]!=0) {\n",
    "        dd = unique(tmp$stade)\n",
    "        stade_max = dd[length(dd)\n",
    "        stade_max_i = which(stade_max==stade)\n",
    "        stade_atteint_mort[1,1:stade_max_i] = stade_atteint_mort[1,1:stade_max_i] + 1\n",
    "        if (stade_max!='G')\n",
    "            stade_atteint_mort[2,stade_max] = stade_atteint_mort[2,stade_max] + 1\n",
    "        else {\n",
    "            if ('5' %in% tmp$etat.panicule)\n",
    "                stade_atteint_mort[2,stade_max] = stade_atteint_mort[2,stade_max] + 1\n",
    "        }\n",
    "    }\n",
    "}\n",
    "\n",
    "stade_atteint_mort[3,] = stade_atteint_mort[2,]/stade_atteint_mort[1,] * 100\n",
    "stade_atteint_mort[4,] = (1 - stade_atteint_mort[2,]/stade_atteint_mort[1,]) * 100 \n",
    "\n",
    "stade_atteint_mort"
   ]
  },
  {
   "cell_type": "markdown",
   "metadata": {},
   "source": [
    "### Nombre de piqûres moyen lorsque l'inflo meurt en fonction du stade phénologique atteint"
   ]
  },
  {
   "cell_type": "code",
   "execution_count": 105,
   "metadata": {
    "scrolled": false
   },
   "outputs": [],
   "source": [
    "# On enlève les stades phénos non observés et les stades végétatifs\n",
    "data1_0 = data1[data1$stade!='NA',]\n",
    "\n",
    "# On sépare selon le bloc, le traitement du sol, l'arbre, le piège, et le numéro d'étiquette afin d'avoir toutes les \n",
    "# étiquettes suivies séparées \n",
    "data1_split = split(data1_0, list(data1_0$bloc,data1_0$trait,data1_0$arbre,data1_0$piege,data1_0$num.etiq))\n",
    "\n",
    "# Nombre d'étiquettes suivies avec des stades phénos observés\n",
    "NbGroup = length(data1_split)\n",
    "\n",
    "# Initialisation\n",
    "larves_D2 = c()\n",
    "larves_E  = c()\n",
    "larves_F  = c()\n",
    "larves_G  = c()\n",
    "\n",
    "# Pour chaque étiquette : \n",
    "    # On cherche le stade phénologique où l'inflorescence meurt et le nombre de piqûres au moment où elle meurt\n",
    "for (i in 1:NbGroup) {\n",
    "    tmp = data.frame(data1_split[i])\n",
    "    colnames(tmp) = colnames(data1_0)\n",
    "    tmp$stade = as.character(tmp$stade)\n",
    "    N = dim(tmp)[1]\n",
    "    if (sum(tmp$stade=='V')==0 & sum(tmp$stade=='Fruit')==0 & dim(tmp)[1]!=0) {\n",
    "        dd = unique(tmp$stade)\n",
    "        stade_max = dd[length(dd)]\n",
    "        stade_max_i = which(stade_max==stade)\n",
    "        if (stade_max!='G') {\n",
    "            piqures = tmp$nb.piqures[tmp$nb.piqures!='NA']\n",
    "            piqures = as.numeric(as.character(piqures))\n",
    "            piqure = max(piqures)\n",
    "            if (stade_max_i==3) \n",
    "                larves_D2 = c(larves_D2, piqure)\n",
    "            if (stade_max_i==4)\n",
    "                larves_E  = c(larves_E, piqure)\n",
    "            if (stade_max_i==5) \n",
    "                larves_F  = c(larves_F, piqure)\n",
    "        }\n",
    "        else {\n",
    "            if ('5' %in% tmp$etat.panicule) {          \n",
    "                piqures = tmp$nb.piqures[tmp$nb.piqures!='NA']\n",
    "                piqures = as.numeric(as.character(piqures))\n",
    "                piqure = max(piqures)\n",
    "                larves_G  = c(larves_G, piqure)\n",
    "            }\n",
    "        }\n",
    "    }\n",
    "}"
   ]
  },
  {
   "cell_type": "code",
   "execution_count": 106,
   "metadata": {},
   "outputs": [
    {
     "name": "stdout",
     "output_type": "stream",
     "text": [
      "[1] \"D2\"\n",
      "[1] 4.75\n",
      "[1] 2.362908\n",
      "[1] 4\n",
      "[1] \"\"\n",
      "[1] \"E\"\n",
      "[1] 3.619048\n",
      "[1] 2.479439\n",
      "[1] 21\n",
      "[1] \"\"\n",
      "[1] \"F\"\n",
      "[1] 10.28\n",
      "[1] 10.12831\n",
      "[1] 75\n",
      "[1] \"\"\n",
      "[1] \"G\"\n",
      "[1] 10.28571\n",
      "[1] 9.068522\n",
      "[1] 7\n"
     ]
    },
    {
     "data": {
      "image/png": "[encoded data removed]",
      "text/plain": [
       "plot without title"
      ]
     },
     "metadata": {},
     "output_type": "display_data"
    }
   ],
   "source": [
    "# Moyenne variance du nombre de piqûre par stade phénologique de mort\n",
    "# Effectif du nombre d'inflorescence mortes par stade \n",
    "print (\"D2\")\n",
    "print (mean(larves_D2))\n",
    "print (sd(larves_D2))\n",
    "print (length(larves_D2))\n",
    "print (\"\")\n",
    "print (\"E\")\n",
    "print (mean(larves_E))\n",
    "print (sd(larves_E))\n",
    "print (length(larves_E))\n",
    "print (\"\")\n",
    "print (\"F\")\n",
    "print (mean(larves_F))\n",
    "print (sd(larves_F))\n",
    "print (length(larves_F))\n",
    "print (\"\")\n",
    "print (\"G\")\n",
    "print (mean(larves_G))\n",
    "print (sd(larves_G))\n",
    "print (length(larves_G))\n",
    "\n",
    "boxplot(larves_D2, larves_E, larves_F, larves_G)"
   ]
  },
  {
   "cell_type": "code",
   "execution_count": 107,
   "metadata": {},
   "outputs": [
    {
     "name": "stdout",
     "output_type": "stream",
     "text": [
      "[1] \"D2\"\n",
      "[1] 4.75\n",
      "[1] 2.362908\n",
      "[1] 4\n",
      "[1] \"\"\n",
      "[1] \"E\"\n",
      "[1] 3.619048\n",
      "[1] 2.479439\n",
      "[1] 21\n",
      "[1] \"\"\n",
      "[1] \"F\"\n",
      "[1] 9.191781\n",
      "[1] 7.591401\n",
      "[1] 73\n",
      "[1] \"\"\n",
      "[1] \"G\"\n",
      "[1] 10.28571\n",
      "[1] 9.068522\n",
      "[1] 7\n"
     ]
    },
    {
     "data": {
      "image/png": "[encoded data removed]",
      "text/plain": [
       "plot without title"
      ]
     },
     "metadata": {},
     "output_type": "display_data"
    }
   ],
   "source": [
    "larves_F = larves_F[-which(larves_F==60)]\n",
    "larves_F = larves_F[-which(larves_F==40)]\n",
    "\n",
    "# Moyenne variance du nombre de piqûre par stade phénologique de mort\n",
    "# Effectif du nombre d'inflorescence mortes par stade \n",
    "print (\"D2\")\n",
    "print (mean(larves_D2))\n",
    "print (sd(larves_D2))\n",
    "print (length(larves_D2))\n",
    "print (\"\")\n",
    "print (\"E\")\n",
    "print (mean(larves_E))\n",
    "print (sd(larves_E))\n",
    "print (length(larves_E))\n",
    "print (\"\")\n",
    "print (\"F\")\n",
    "print (mean(larves_F))\n",
    "print (sd(larves_F))\n",
    "print (length(larves_F))\n",
    "print (\"\")\n",
    "print (\"G\")\n",
    "print (mean(larves_G))\n",
    "print (sd(larves_G))\n",
    "print (length(larves_G))\n",
    "\n",
    "boxplot(larves_D2, larves_E, larves_F, larves_G)"
   ]
  },
  {
   "cell_type": "markdown",
   "metadata": {},
   "source": [
    "### Graphe du nombre d'inflorescences en fonction du temps. Couleurs pour le stade phénologique. "
   ]
  },
  {
   "cell_type": "code",
   "execution_count": 135,
   "metadata": {},
   "outputs": [],
   "source": [
    "# Lecture du fichier dynamique cecido\n",
    "setwd(\"C:/Users/saintcriq/Dropbox/Cécidomyie/Fichiers de données/Données brutes\")\n",
    "data1 = read.xlsx2(\"C:/Users/saintcriq/Dropbox/Cécidomyie/Fichiers de données/Données brutes/dynamique.cecido.modif0.xlsx\", 1)"
   ]
  },
  {
   "cell_type": "code",
   "execution_count": 136,
   "metadata": {},
   "outputs": [],
   "source": [
    "# On change les dates en \"DD/MM/YYYY\"\n",
    "unique_date = as.character(unique(data1$date))\n",
    "date = c('01/09/2017','06/09/2017','08/09/2017','13/09/2017','15/09/2017','20/09/2017','22/09/2017','26/09/2017','29/09/2017',\n",
    "         '03/10/2017','06/10/2017')\n",
    "data1$date = as.character(as.numeric(as.character(data1$date)))\n",
    "for (i in 1:length(date))\n",
    "    data1$date[data1$date==unique_date[i]] = date[i] \n",
    "\n",
    "stade = c('C','D1','D2','E','F','G')\n",
    "debut_stade = cumsum(c(0,1,4,4,6,12,11))\n",
    "fin_stade = rev(cumsum(rev(c(1,4,4,6,12,11,0))))\n",
    "\n",
    "date = c('2017-09-01','2017-09-06','2017-09-08','2017-09-13','2017-09-15','2017-09-20','2017-09-22','2017-09-26','2017-09-29',\n",
    "         '2017-10-03','2017-10-06')"
   ]
  },
  {
   "cell_type": "code",
   "execution_count": 137,
   "metadata": {
    "scrolled": false
   },
   "outputs": [],
   "source": [
    "# Cette fonction renvoie le nombre d'inflorescences en fonction du stades phnéologiques pour chaque date dse relevé\n",
    "# Et fait un graphe \n",
    "\n",
    "stade_inflo = function(bloc_) {\n",
    "\n",
    "    data1_0 = data1[data1$bloc==bloc_ & data1$stade!='NA',]\n",
    "    data1_split = split(data1_0, list(data1_0$bloc,data1_0$trait,data1_0$arbre,data1_0$piege,data1_0$num.etiq))\n",
    "    NbGroup = length(data1_split)\n",
    "    STADES = array(,c(NbGroup,length(date)))\n",
    "    colnames(STADES) = date\n",
    "    jj = 1\n",
    "\n",
    "    # Pour chaque étiquette :\n",
    "    # On récupère les dates de chaque stade phénologique C, D1, D2, E, F et G \n",
    "\n",
    "    for (i in 1:NbGroup) {\n",
    "        tmp = data.frame(data1_split[i])\n",
    "        colnames(tmp) = colnames(data1_0)\n",
    "        tmp$date = as.Date(tmp$date, '%d/%m/%Y')\n",
    "        tmp$date = as.Date(strptime(tmp$date, format = \"%Y-%m-%d\"))\n",
    "        tmp$stade = as.character(tmp$stade)\n",
    "        if (dim(tmp)[1]!=0) {\n",
    "            k = 1\n",
    "            if (5 %in% tmp$etat.panicule)\n",
    "                j = min(which(tmp$etat.panicule == 5))\n",
    "            else\n",
    "                j = dim(tmp)[1]\n",
    "            while (k <= j) {\n",
    "                date_stade = tmp$date[k]\n",
    "                STADES[jj,as.character(date_stade)] = tmp$stade[k]\n",
    "                k = k+1\n",
    "            }\n",
    "            jj = jj+1\n",
    "        }\n",
    "    }\n",
    "    \n",
    "    STADES = STADES[1:jj-1,]\n",
    "\n",
    "    stade = c('C','D1','D2','E','F','G','V')\n",
    "    STADES = as.data.frame(STADES)\n",
    "    STADES_ = array(0,c(length(stade),length(date)))\n",
    "    colnames(STADES_) = date\n",
    "    rownames(STADES_) = stade\n",
    "    for (i in 1:length(date)) {\n",
    "        for (j in 1:length(stade))\n",
    "            STADES_[j,i] = length(which(STADES[date[i]]==stade[j]))\n",
    "    }\n",
    "\n",
    "    m  = STADES_\n",
    "    m  = t(apply(m,2,cumsum))\n",
    "    n1 = dim(m)[1]\n",
    "    n2 = dim(m)[2]\n",
    "    plot.new()\n",
    "    plot.window(xlim=c(1,n1), ylim=c(min(m),max(m)))\n",
    "    axis(1)\n",
    "    axis(2)\n",
    "    col = c(\"chartreuse1\",\"yellow\",\"coral\",\"darkorange\",\"red\",\"cadetblue\",\"darkolivegreen\",\"darkgrey\")\n",
    "    for (i in n2:1)\n",
    "        polygon(c(1:n1,n1,1), c(m[,i],0,0), col=col[i])\n",
    "    legend(\"topright\", legend=stade, fill=col)\n",
    "    \n",
    "    return (STADES_)\n",
    "\n",
    "}"
   ]
  },
  {
   "cell_type": "code",
   "execution_count": 138,
   "metadata": {},
   "outputs": [
    {
     "name": "stdout",
     "output_type": "stream",
     "text": [
      "   2017-09-01 2017-09-06 2017-09-08 2017-09-13 2017-09-15 2017-09-20 2017-09-22\n",
      "C           0          3          6          1          1          0          0\n",
      "D1          5          2          1          2          1          2          1\n",
      "D2          7          3          1          0          1          2          0\n",
      "E          13         29         27         20         18          3          4\n",
      "F           2          8          3         25         26         44         37\n",
      "G           0          0          0          1          1          0          3\n",
      "V           0          0          0          2          2          2          2\n",
      "   2017-09-26 2017-09-29 2017-10-03 2017-10-06\n",
      "C           0          0          0          0\n",
      "D1          0          0          0          0\n",
      "D2          1          1          0          0\n",
      "E           3          1          2          0\n",
      "F          26         22         19         10\n",
      "G          15         15         15         12\n",
      "V           0          0          0          0\n"
     ]
    },
    {
     "data": {
      "image/png": "[encoded data removed]",
      "text/plain": [
       "plot without title"
      ]
     },
     "metadata": {},
     "output_type": "display_data"
    }
   ],
   "source": [
    "# BLOC 1 \n",
    "\n",
    "stade_Bloc1 = stade_inflo(1)\n",
    "print (stade_Bloc1)"
   ]
  },
  {
   "cell_type": "code",
   "execution_count": 139,
   "metadata": {},
   "outputs": [
    {
     "name": "stdout",
     "output_type": "stream",
     "text": [
      "   2017-09-01 2017-09-06 2017-09-08 2017-09-13 2017-09-15 2017-09-20 2017-09-22\n",
      "C           0          0          1          1          1          0          0\n",
      "D1          1          0          1          1          1          0          0\n",
      "D2          4          1          8          4          3          3          2\n",
      "E           9         14          8         13         13         10          5\n",
      "F          10          9         14         20         16         20         14\n",
      "G           0          6          4          5          6          1          0\n",
      "V           0          0          0          0          0          0          0\n",
      "   2017-09-26 2017-09-29 2017-10-03 2017-10-06\n",
      "C           0          0          0          0\n",
      "D1          0          0          0          0\n",
      "D2          2          2          2          0\n",
      "E           2          1          1          1\n",
      "F          17         11          5          2\n",
      "G           0          0          3          5\n",
      "V           0          0          0          0\n"
     ]
    },
    {
     "data": {
      "image/png": "[encoded data removed]",
      "text/plain": [
       "plot without title"
      ]
     },
     "metadata": {},
     "output_type": "display_data"
    }
   ],
   "source": [
    "# BLOC 2\n",
    "\n",
    "stade_Bloc2 = stade_inflo(2)\n",
    "print (stade_Bloc2)"
   ]
  },
  {
   "cell_type": "markdown",
   "metadata": {},
   "source": [
    "### LIEN ENTRE STADE PHENO / ETAT DE DESSECHEMENT ET NOMBRE DE PIQURES"
   ]
  },
  {
   "cell_type": "code",
   "execution_count": 28,
   "metadata": {},
   "outputs": [],
   "source": [
    "# On enlève les données non observés\n",
    "data1_1 = data1[data1$nb.piqures!='NA' & data1$etat.panicule!='NA' & data1$stade!='NA' & data1$stade!='V' & data1$stade!='Fruit',]\n",
    "\n",
    "data1_split = split(data1_1, list(data1_1$stade,data1_1$etat.panicule))\n",
    "\n",
    "# NbGroup est le nombre de groupe (stade phéno et état panicule)\n",
    "NbGroup = length(data1_split)\n",
    "\n",
    "mat1 = matrix(nrow=6, ncol=6)\n",
    "\n",
    "# Stade \n",
    "stade_ = c(1,2,3,4,5,7)\n",
    "\n",
    "# Pour chaque groupe  :\n",
    "    # On récupère le nombre de piqures\n",
    "ii = 1\n",
    "jj = 1\n",
    "cpt = 0\n",
    "i = 1\n",
    "\n",
    "while (cpt<36) {\n",
    "    if (ii %in% c(1,2,3,4,5,7)) {\n",
    "        cpt = cpt + 1\n",
    "        tmp = data.frame(data1_split[i])\n",
    "        colnames(tmp) = colnames(data1_0)\n",
    "        if (dim(tmp)[1]!=0)\n",
    "            if (ii==7)\n",
    "                mat1[ii-1,jj] = mean(as.numeric(as.character(tmp$nb.piqures)))\n",
    "            else\n",
    "                mat1[ii,jj]   = mean(as.numeric(as.character(tmp$nb.piqures)))\n",
    "    }\n",
    "    ii = ii+1\n",
    "    if (ii>9) {\n",
    "        ii = 1\n",
    "        jj = jj+1\n",
    "    }\n",
    "    i = i + 1\n",
    "}\n",
    "\n",
    "rownames(mat1) = c(\"C\", \"D1\", \"D2\", \"E\", \"F\", \"G\")\n",
    "colnames(mat1) = c(\"0\",  \"1\",  \"2\", \"3\", \"4\", \"5\")"
   ]
  },
  {
   "cell_type": "code",
   "execution_count": 29,
   "metadata": {},
   "outputs": [
    {
     "data": {
      "text/html": [
       "<table>\n",
       "<thead><tr><th></th><th scope=col>0</th><th scope=col>1</th><th scope=col>2</th><th scope=col>3</th><th scope=col>4</th><th scope=col>5</th></tr></thead>\n",
       "<tbody>\n",
       "\t<tr><th scope=row>C</th><td>0.0000000</td><td>      NA </td><td>      NA </td><td>       NA</td><td>       NA</td><td>  NA     </td></tr>\n",
       "\t<tr><th scope=row>D1</th><td>0.0000000</td><td>      NA </td><td>      NA </td><td>       NA</td><td>       NA</td><td>  NA     </td></tr>\n",
       "\t<tr><th scope=row>D2</th><td>0.0000000</td><td>4.000000 </td><td>3.000000 </td><td> 2.000000</td><td>       NA</td><td>  NA     </td></tr>\n",
       "\t<tr><th scope=row>E</th><td>0.1025641</td><td>2.857143 </td><td>4.388889 </td><td> 5.486486</td><td> 4.470588</td><td> 5.0     </td></tr>\n",
       "\t<tr><th scope=row>F</th><td>1.4285714</td><td>3.000000 </td><td>7.142857 </td><td>11.921053</td><td>10.048951</td><td>11.5     </td></tr>\n",
       "\t<tr><th scope=row>G</th><td>       NA</td><td>      NA </td><td>9.000000 </td><td> 8.571429</td><td> 9.037736</td><td>  NA     </td></tr>\n",
       "</tbody>\n",
       "</table>\n"
      ],
      "text/latex": [
       "\\begin{tabular}{r|llllll}\n",
       "  & 0 & 1 & 2 & 3 & 4 & 5\\\\\n",
       "\\hline\n",
       "\tC & 0.0000000 &       NA  &       NA  &        NA &        NA &   NA     \\\\\n",
       "\tD1 & 0.0000000 &       NA  &       NA  &        NA &        NA &   NA     \\\\\n",
       "\tD2 & 0.0000000 & 4.000000  & 3.000000  &  2.000000 &        NA &   NA     \\\\\n",
       "\tE & 0.1025641 & 2.857143  & 4.388889  &  5.486486 &  4.470588 &  5.0     \\\\\n",
       "\tF & 1.4285714 & 3.000000  & 7.142857  & 11.921053 & 10.048951 & 11.5     \\\\\n",
       "\tG &        NA &       NA  & 9.000000  &  8.571429 &  9.037736 &   NA     \\\\\n",
       "\\end{tabular}\n"
      ],
      "text/markdown": [
       "\n",
       "| <!--/--> | 0 | 1 | 2 | 3 | 4 | 5 | \n",
       "|---|---|---|---|---|---|\n",
       "| C | 0.0000000 |       NA  |       NA  |        NA |        NA |   NA      | \n",
       "| D1 | 0.0000000 |       NA  |       NA  |        NA |        NA |   NA      | \n",
       "| D2 | 0.0000000 | 4.000000  | 3.000000  |  2.000000 |        NA |   NA      | \n",
       "| E | 0.1025641 | 2.857143  | 4.388889  |  5.486486 |  4.470588 |  5.0      | \n",
       "| F | 1.4285714 | 3.000000  | 7.142857  | 11.921053 | 10.048951 | 11.5      | \n",
       "| G |        NA |       NA  | 9.000000  |  8.571429 |  9.037736 |   NA      | \n",
       "\n",
       "\n"
      ],
      "text/plain": [
       "   0         1        2        3         4         5   \n",
       "C  0.0000000       NA       NA        NA        NA   NA\n",
       "D1 0.0000000       NA       NA        NA        NA   NA\n",
       "D2 0.0000000 4.000000 3.000000  2.000000        NA   NA\n",
       "E  0.1025641 2.857143 4.388889  5.486486  4.470588  5.0\n",
       "F  1.4285714 3.000000 7.142857 11.921053 10.048951 11.5\n",
       "G         NA       NA 9.000000  8.571429  9.037736   NA"
      ]
     },
     "metadata": {},
     "output_type": "display_data"
    }
   ],
   "source": [
    "# Le nombre de piqûres en fonction du stade phénologique de l'inflorescence et de son état d'assechement.\n",
    "# Une ligne correspond à un stade phéno (C, D1, D2, E, F, G)\n",
    "# Une colonne correspond à un état d'assechement (0, 1, 2, 3, 4, 5)\n",
    "\n",
    "mat1"
   ]
  },
  {
   "cell_type": "markdown",
   "metadata": {},
   "source": [
    "### LIEN ENTRE STADE PHENO / ETAT DE DESSECHEMENT ET NOMBRE DE LARVES PIEGEES "
   ]
  },
  {
   "cell_type": "code",
   "execution_count": 30,
   "metadata": {
    "scrolled": true
   },
   "outputs": [],
   "source": [
    "mat2 = matrix(0,nrow=6, ncol=6)\n",
    "mat2_bis = matrix(0,nrow=6, ncol=6)\n",
    "\n",
    "stade_pheno = c(\"C\", \"D1\", \"D2\", \"E\", \"F\", \"G\")\n",
    "nivo = c(\"0\", \"1\", \"2\", \"3\", \"4\", \"5\")\n",
    "rownames(mat2) = stade_pheno\n",
    "colnames(mat2) = nivo\n",
    "\n",
    "# On enlève les données non observées\n",
    "data1_1 = data1[data1$nb.larves!='NA' & data1$etat.panicule!='NA' & data1$stade!='NA' & data1$stade!='V' & data1$stade!='Fruit',]\n",
    "\n",
    "data1_split = split(data1_1, list(data1_1$bloc,data1_1$trait,data1_1$arbre,data1_1$piege))\n",
    "\n",
    "# NbGroup est le nombre de groupe (stade phéno et état panicule)\n",
    "NbGroup = length(data1_split)\n",
    "\n",
    "for (i in 1:NbGroup) {\n",
    "    tmp = data.frame(data1_split[i])\n",
    "    colnames(tmp) = colnames(data1_0)\n",
    "    if (dim(tmp)[1]!=0) {\n",
    "        nb_etiq = length(unique(tmp$num.etiq))\n",
    "        tmp_bis = split(tmp, list(tmp$num.etiq))\n",
    "        for (j in 1:nb_etiq) {\n",
    "            a = data.frame(tmp_bis[j])\n",
    "            colnames(a) = colnames(data1_0)\n",
    "            for (k in 1:dim(a)[1]) {\n",
    "                b = a[k,]\n",
    "                ii = which(b$stade==stade_pheno)\n",
    "                jj = which(b$etat.panicule==nivo)\n",
    "                mat2[ii,jj] = mat2[ii,jj] + as.numeric(as.character(b$nb.larves))/nb_etiq\n",
    "                mat2_bis[ii,jj] = mat2_bis[ii,jj] + 1\n",
    "            }\n",
    "        }\n",
    "    }\n",
    "}\n",
    "\n",
    "mat2 = mat2/mat2_bis"
   ]
  },
  {
   "cell_type": "code",
   "execution_count": 31,
   "metadata": {
    "scrolled": true
   },
   "outputs": [
    {
     "data": {
      "text/html": [
       "<table>\n",
       "<thead><tr><th></th><th scope=col>0</th><th scope=col>1</th><th scope=col>2</th><th scope=col>3</th><th scope=col>4</th><th scope=col>5</th></tr></thead>\n",
       "<tbody>\n",
       "\t<tr><th scope=row>C</th><td>0.2133333</td><td>     NaN </td><td>      NaN</td><td>      NaN</td><td>      NaN</td><td>      NaN</td></tr>\n",
       "\t<tr><th scope=row>D1</th><td>0.2416667</td><td>     NaN </td><td>      NaN</td><td>      NaN</td><td>      NaN</td><td>      NaN</td></tr>\n",
       "\t<tr><th scope=row>D2</th><td>0.5333333</td><td>1.541667 </td><td>0.1000000</td><td>0.0000000</td><td>      NaN</td><td>0.0000000</td></tr>\n",
       "\t<tr><th scope=row>E</th><td>1.8895833</td><td>1.139394 </td><td>4.9731884</td><td>5.3666667</td><td>0.0750000</td><td>1.3030864</td></tr>\n",
       "\t<tr><th scope=row>F</th><td>2.2500000</td><td>0.875000 </td><td>2.1644231</td><td>1.3139303</td><td>0.5671533</td><td>0.3083333</td></tr>\n",
       "\t<tr><th scope=row>G</th><td>      NaN</td><td>     NaN </td><td>0.5555556</td><td>0.4398148</td><td>0.2444444</td><td>0.0000000</td></tr>\n",
       "</tbody>\n",
       "</table>\n"
      ],
      "text/latex": [
       "\\begin{tabular}{r|llllll}\n",
       "  & 0 & 1 & 2 & 3 & 4 & 5\\\\\n",
       "\\hline\n",
       "\tC & 0.2133333 &      NaN  &       NaN &       NaN &       NaN &       NaN\\\\\n",
       "\tD1 & 0.2416667 &      NaN  &       NaN &       NaN &       NaN &       NaN\\\\\n",
       "\tD2 & 0.5333333 & 1.541667  & 0.1000000 & 0.0000000 &       NaN & 0.0000000\\\\\n",
       "\tE & 1.8895833 & 1.139394  & 4.9731884 & 5.3666667 & 0.0750000 & 1.3030864\\\\\n",
       "\tF & 2.2500000 & 0.875000  & 2.1644231 & 1.3139303 & 0.5671533 & 0.3083333\\\\\n",
       "\tG &       NaN &      NaN  & 0.5555556 & 0.4398148 & 0.2444444 & 0.0000000\\\\\n",
       "\\end{tabular}\n"
      ],
      "text/markdown": [
       "\n",
       "| <!--/--> | 0 | 1 | 2 | 3 | 4 | 5 | \n",
       "|---|---|---|---|---|---|\n",
       "| C | 0.2133333 |      NaN  |       NaN |       NaN |       NaN |       NaN | \n",
       "| D1 | 0.2416667 |      NaN  |       NaN |       NaN |       NaN |       NaN | \n",
       "| D2 | 0.5333333 | 1.541667  | 0.1000000 | 0.0000000 |       NaN | 0.0000000 | \n",
       "| E | 1.8895833 | 1.139394  | 4.9731884 | 5.3666667 | 0.0750000 | 1.3030864 | \n",
       "| F | 2.2500000 | 0.875000  | 2.1644231 | 1.3139303 | 0.5671533 | 0.3083333 | \n",
       "| G |       NaN |      NaN  | 0.5555556 | 0.4398148 | 0.2444444 | 0.0000000 | \n",
       "\n",
       "\n"
      ],
      "text/plain": [
       "   0         1        2         3         4         5        \n",
       "C  0.2133333      NaN       NaN       NaN       NaN       NaN\n",
       "D1 0.2416667      NaN       NaN       NaN       NaN       NaN\n",
       "D2 0.5333333 1.541667 0.1000000 0.0000000       NaN 0.0000000\n",
       "E  1.8895833 1.139394 4.9731884 5.3666667 0.0750000 1.3030864\n",
       "F  2.2500000 0.875000 2.1644231 1.3139303 0.5671533 0.3083333\n",
       "G        NaN      NaN 0.5555556 0.4398148 0.2444444 0.0000000"
      ]
     },
     "metadata": {},
     "output_type": "display_data"
    }
   ],
   "source": [
    "# Le nombre de larves en fonction du stade phénologique de l'inflorescence et de son état d'assechement.\n",
    "# Une ligne correspond à un stade phéno (C, D1, D2, E, F, G)\n",
    "# Une colonne correspond à un état d'assechement (0, 1, 2, 3, 4, 5)\n",
    "\n",
    "mat2"
   ]
  },
  {
   "cell_type": "markdown",
   "metadata": {},
   "source": [
    "## Fichier Donnees Floraison"
   ]
  },
  {
   "cell_type": "code",
   "execution_count": 36,
   "metadata": {},
   "outputs": [],
   "source": [
    "# Lecture du fichier données floraison\n",
    "setwd(\"C:/Users/saintcriq/Dropbox/Cécidomyie/Fichiers de données/Données brutes\")\n",
    "databis = read.table(file = \"donnees.floraison.csv\",header=TRUE,sep=\";\")"
   ]
  },
  {
   "cell_type": "markdown",
   "metadata": {},
   "source": [
    "### Fonction de récupération des données"
   ]
  },
  {
   "cell_type": "code",
   "execution_count": 37,
   "metadata": {},
   "outputs": [],
   "source": [
    "# La fonction suivante renvoie un dataframe et le met dans un fichier excel\n",
    "\n",
    "donnees_floraison = function (Bloc, Trait, Modalité, Nom) {\n",
    "    \n",
    "    # Arguments en entrée :\n",
    "        ## Bloc : Un entier 1 ou 2 pour désigner le bloc choisi\n",
    "        ## Trait : Un entier 0 ou 1. 0 si on veut désigner la parcelle en entier. 1 si on désigne une sous-parcelle/modalité\n",
    "        ## Modalité : Si Trait vaut1, Modalité est une chaine de caractère \"bache\", \"enh_haut\" ou \"enh_ras\"\n",
    "        ## Nom : Chaine de caractère pour choisir le nom du fichier excel sur lequel on écrit\n",
    "    \n",
    "    # Sortie : Un dataframe \n",
    "    \n",
    "    if (Trait==0)\n",
    "        data1 = databis[databis$Bloc==Bloc,]\n",
    "    else \n",
    "        data1 = databis[databis$Bloc==Bloc & databis$Traitm==Modalité,]\n",
    "    \n",
    "    # On ne garde que les lignes contenant des dates de naissance d'inflos (c'est à dire les lignes contenant une date de stade C)\n",
    "    dataAp = data1[data1$ApdateC!=\"\" & !is.na(data1$ApdateC),]\n",
    "    dataLat1 = data1[data1$Lat1dateC!=\"\" & !is.na(data1$Lat1dateC),]\n",
    "    dataLat2 = data1[data1$Lat2dateC!=\"\" & !is.na(data1$Lat2dateC),]\n",
    "    dataLat3 = data1[data1$Lat3dateC!=\"\" & !is.na(data1$Lat3dateC),]\n",
    "    dataLat4 = data1[data1$Lat4dateC!=\"\" & !is.na(data1$Lat4dateC),]\n",
    "    dataLat5 = data1[data1$Lat5dateC!=\"\" & !is.na(data1$Lat5dateC),]\n",
    "    dataLat6 = data1[data1$Lat6dateC!=\"\" & !is.na(data1$Lat6dateC),]\n",
    "    dataLat7 = data1[data1$Lat7dateC!=\"\" & !is.na(data1$Lat7dateC),]\n",
    "    dataLat8 = data1[data1$Lat8dateC!=\"\" & !is.na(data1$Lat8dateC),]\n",
    "    dataLat9 = data1[data1$Lat9dateC!=\"\" & !is.na(data1$Lat9dateC),]\n",
    "    \n",
    "    # On récupère ces dates \n",
    "    dateC_Ap   = table(factor(dataAp$ApdateC,     levels = unique(dataAp$ApdateC)))\n",
    "    dateC_Lat1 = table(factor(dataLat1$Lat1dateC, levels = unique(dataAp$ApdateC)))\n",
    "    dateC_Lat2 = table(factor(dataLat2$Lat2dateC, levels = unique(dataAp$ApdateC)))\n",
    "    dateC_Lat3 = table(factor(dataLat3$Lat3dateC, levels = unique(dataAp$ApdateC)))\n",
    "    dateC_Lat4 = table(factor(dataLat4$Lat4dateC, levels = unique(dataAp$ApdateC)))\n",
    "    dateC_Lat5 = table(factor(dataLat5$Lat5dateC, levels = unique(dataAp$ApdateC)))\n",
    "    dateC_Lat6 = table(factor(dataLat6$Lat6dateC, levels = unique(dataAp$ApdateC)))\n",
    "    dateC_Lat7 = table(factor(dataLat7$Lat7dateC, levels = unique(dataAp$ApdateC)))\n",
    "    dateC_Lat8 = table(factor(dataLat8$Lat8dateC, levels = unique(dataAp$ApdateC)))\n",
    "    dateC_Lat9 = table(factor(dataLat9$Lat9dateC, levels = unique(dataAp$ApdateC)))\n",
    "    \n",
    "    # On met dans un dataframe, le nombre de naissances par date toutes positions de l'inflo sur l'UC confondues\n",
    "    dateC = as.data.frame(dateC_Ap + dateC_Lat1 + dateC_Lat2 + dateC_Lat3 + dateC_Lat4 + dateC_Lat5 + dateC_Lat6 + dateC_Lat7 + dateC_Lat8 + dateC_Lat9)\n",
    "    \n",
    "    # On change les noms de variables pour que ce soit plus clair\n",
    "    names(dateC)[match(\"Var1\",names(dateC))] = \"date\"\n",
    "    names(dateC)[match(\"Freq\",names(dateC))] = \"nb.inflos\"\n",
    "\n",
    "    dateC = dateC[order(as.Date(dateC$date, '%d/%m/%Y')),]\n",
    "\n",
    "    # On crée un fichier contenant dateC\n",
    "    write.xlsx(dateC, paste0(\"C:/Users/saintcriq/Dropbox/Cécidomyie/Fichiers de données/Données ré organisées/Fichier données floraison/\",Nom,\".xls\"), sheetName=\"1\")\n",
    "    #setwd(\"C:/Users/saintcriq/Dropbox/Cécidomyie/Fichiers de données/Données ré organisées/Fichier données floraison\")\n",
    "    #write.csv(dateC,paste0(Nom,\".csv\"))\n",
    "    \n",
    "    return (dateC)\n",
    "    \n",
    "}"
   ]
  },
  {
   "cell_type": "markdown",
   "metadata": {},
   "source": [
    "### On récupère les données"
   ]
  },
  {
   "cell_type": "code",
   "execution_count": 38,
   "metadata": {},
   "outputs": [],
   "source": [
    "Bloc1_donnees_floraison = donnees_floraison(1, 0, \"Modalité\", \"Bloc1\")\n",
    "Bloc1_bache_donnees_floraison = donnees_floraison(1, 1, \"B\", \"Bloc1_bache\")\n",
    "Bloc1_enh_haut_donnees_floraison = donnees_floraison(1, 1, \"E\", \"Bloc1_enh_haut\")\n",
    "Bloc1_enh_ras_donnees_floraison = donnees_floraison(1, 1, \"Sn\", \"Bloc1_enh_ras\")\n",
    "Bloc2_donnees_floraison = donnees_floraison(2, 0, \"Modalité\", \"Bloc2\")\n",
    "Bloc2_bache_donnees_floraison = donnees_floraison(2, 1, \"B\", \"Bloc2_bache\")\n",
    "Bloc2_enh_haut_donnees_floraison = donnees_floraison(2, 1, \"E\", \"Bloc2_enh_haut\")\n",
    "Bloc2_enh_ras_donnees_floraison = donnees_floraison(2, 1, \"Sn\", \"Bloc2_enh_ras\")"
   ]
  },
  {
   "cell_type": "markdown",
   "metadata": {},
   "source": [
    "# INUTILE "
   ]
  },
  {
   "cell_type": "markdown",
   "metadata": {},
   "source": [
    "### LIEN ENTRE NOMBRE DE LARVES PIEGEES ET NOMBRE DE PIQURES  "
   ]
  },
  {
   "cell_type": "code",
   "execution_count": 32,
   "metadata": {
    "scrolled": false
   },
   "outputs": [
    {
     "name": "stdout",
     "output_type": "stream",
     "text": [
      "[1] 0.6255495\n",
      "[1] 0.91507\n"
     ]
    },
    {
     "data": {
      "image/png": "[encoded data removed]",
      "text/plain": [
       "plot without title"
      ]
     },
     "metadata": {},
     "output_type": "display_data"
    },
    {
     "name": "stdout",
     "output_type": "stream",
     "text": [
      "[1] 1.501588\n"
     ]
    },
    {
     "data": {
      "image/png": "[encoded data removed]",
      "text/plain": [
       "plot without title"
      ]
     },
     "metadata": {},
     "output_type": "display_data"
    },
    {
     "name": "stdout",
     "output_type": "stream",
     "text": [
      "[1] 2.065215\n"
     ]
    },
    {
     "data": {
      "image/png": "[encoded data removed]",
      "text/plain": [
       "plot without title"
      ]
     },
     "metadata": {},
     "output_type": "display_data"
    },
    {
     "data": {
      "image/png": "[encoded data removed]",
      "text/plain": [
       "plot without title"
      ]
     },
     "metadata": {},
     "output_type": "display_data"
    }
   ],
   "source": [
    "# On enlève les piqûres non observés\n",
    "data1_1 = data1[data1$nb.larves!='NA' & data1$nb.piqures!='NA',]\n",
    "data1_1 = data1_1[data1_1$nb.larves!='0' & data1_1$nb.piqures!='0',]\n",
    "\n",
    "data1_split = split(data1_1, list(data1_1$bloc,data1_1$trait,data1_1$arbre,data1_1$piege,data1_1$date))\n",
    "\n",
    "NbGroup = length(data1_split)\n",
    "\n",
    "mat4 = matrix(rep(0,3*4*NbGroup),3,4*NbGroup)\n",
    "stade_mat4 = c()\n",
    "cpt = 0\n",
    "\n",
    "for (i in 1:NbGroup) {\n",
    "    tmp = data.frame(data1_split[i])\n",
    "    colnames(tmp) = colnames(data1_0)\n",
    "    if (dim(tmp)[1]!=0) {\n",
    "        nb_etiq = length(unique(tmp$num.etiq))\n",
    "        nb_larve = tmp$nb.larves[1]\n",
    "        for (j in 1:nb_etiq) {\n",
    "            cpt = cpt + 1\n",
    "            mat4[1,cpt] = nb_larve\n",
    "            mat4[2,cpt] = tmp$nb.piqures[j]\n",
    "            mat4[3,cpt] = mat4[1,cpt]/mat4[2,cpt]\n",
    "            stade_mat4 = c(stade_mat4, as.character(tmp$stade[j]))\n",
    "        }\n",
    "    } \n",
    "}\n",
    "\n",
    "mat4 = mat4[,1:cpt]\n",
    "\n",
    "D2_ = which(stade_mat4=='D2')\n",
    "mat4_D2 = mat4[,D2_]\n",
    "print (mean(mat4_D2[3,]))\n",
    "plot(mat4_D2[1,],mat4_D2[2,])\n",
    "\n",
    "E_ = which(stade_mat4=='E')\n",
    "mat4_E = mat4[,E_]\n",
    "print (mean(mat4_E[3,]))\n",
    "plot(mat4_E[1,],mat4_E[2,])\n",
    "\n",
    "F_ = which(stade_mat4=='F')\n",
    "mat4_F = mat4[,F_]\n",
    "print (mean(mat4_F[3,]))\n",
    "plot(mat4_F[1,],mat4_F[2,])\n",
    "\n",
    "G_ = which(stade_mat4=='G')\n",
    "mat4_G = mat4[,G_]\n",
    "print (mean(mat4_G[3,]))\n",
    "plot(mat4_G[1,],mat4_G[2,])\n"
   ]
  },
  {
   "cell_type": "code",
   "execution_count": 33,
   "metadata": {},
   "outputs": [
    {
     "data": {
      "image/png": "[encoded data removed]",
      "text/plain": [
       "plot without title"
      ]
     },
     "metadata": {},
     "output_type": "display_data"
    }
   ],
   "source": [
    "# On enlève les piqûres non observés\n",
    "data1_1 = data1[data1$nb.larves!='NA' & data1$nb.piqures!='NA' & data1$etat.panicule!='NA' & data1$stade!='NA' & data1$stade!='V' & data1$stade!='Fruit',]\n",
    "\n",
    "data1_split = split(data1_1, list(data1_1$bloc,data1_1$trait,data1_1$arbre,data1_1$piege))\n",
    "\n",
    "# NbGroup est le nombre de groupe (stade phéno et état panicule)\n",
    "NbGroup = length(data1_split)\n",
    "\n",
    "mat3 = matrix(nrow=NbGroup*4, ncol=2)\n",
    "\n",
    "cpt = 0\n",
    "\n",
    "for (i in 1:NbGroup) {\n",
    "    tmp = data.frame(data1_split[i])\n",
    "    colnames(tmp) = colnames(data1_0)\n",
    "    if (dim(tmp)[1]!=0) {\n",
    "        nb_etiq = length(unique(tmp$num.etiq))\n",
    "        tmp_bis = split(tmp, list(tmp$num.etiq))\n",
    "        cpt_ = 0\n",
    "        for (j in 1:nb_etiq) {\n",
    "            a = data.frame(tmp_bis[j])\n",
    "            colnames(a) = colnames(data1_0)\n",
    "            if (dim(a)[1]!=0) {\n",
    "                mat3[cpt+j,1] = sum(as.numeric(as.character(a$nb.larves)))/nb_etiq\n",
    "                mat3[cpt+j,2] = as.numeric(as.character(a$nb.piqures[dim(a)[1]]))\n",
    "                cpt_ = cpt_+1\n",
    "            }\n",
    "            \n",
    "        }\n",
    "    cpt = cpt + cpt_\n",
    "    } \n",
    "    \n",
    "}\n",
    "\n",
    "mat3 = mat3[1:cpt,]\n",
    "x = mat3[,1]\n",
    "y = mat3[,2]\n",
    "xx = x[which(x!='NA' & x<50)]\n",
    "yy = y[which(x!='NA' & x<50)]\n",
    "plot(xx,yy)"
   ]
  },
  {
   "cell_type": "markdown",
   "metadata": {},
   "source": [
    "### NOMBRE DE PIQURES DANS LE TEMPS"
   ]
  },
  {
   "cell_type": "code",
   "execution_count": 34,
   "metadata": {},
   "outputs": [],
   "source": [
    "# On enlève les piqûres non observés\n",
    "data1_1 = data1[data1$nb.piqures!='NA' & data1$etat.panicule!='NA' & data1$stade!='NA' & data1$stade!='V' & data1$stade!='Fruit',]\n",
    "\n",
    "data1_split = split(data1_1, data1_1$date)\n",
    "\n",
    "NbGroup = length(data1_split)\n",
    "\n",
    "mat4 = matrix(nrow=NbGroup, ncol=1)\n",
    "\n",
    "for (i in 1:NbGroup) {\n",
    "    tmp = data.frame(data1_split[i])\n",
    "    colnames(tmp) = colnames(data1_0)\n",
    "    mat4[i,1] = mean(as.numeric(as.character(tmp$nb.piqures)))\n",
    "}"
   ]
  },
  {
   "cell_type": "code",
   "execution_count": 35,
   "metadata": {},
   "outputs": [
    {
     "data": {
      "image/png": "[encoded data removed]",
      "text/plain": [
       "plot without title"
      ]
     },
     "metadata": {},
     "output_type": "display_data"
    }
   ],
   "source": [
    "x = seq(11)\n",
    "model1 = lm(mat4~x)\n",
    "plot(mat4)\n",
    "abline(model1)\n",
    "x = c(1,3,5:11)\n",
    "model2 = lm(mat4[c(1,3,5:11)]~x)\n",
    "abline(model2,col='red')"
   ]
  },
  {
   "cell_type": "markdown",
   "metadata": {},
   "source": [
    "Ce graphique correspond au nombre de piqûres dans le temps. On voit bien que ce nombre augmente au cours du temps. On a fait une  régression linéaire pour avoir une allure mais, cette droite est contrariée par deux valeurs absurdes. Pas d'énormes valeurs dans les données, mais le problème est sûrement lié à une augmentation d'observation, moins de NA. En enlevant ces deux valeurs dans notre régression (droite rouge), on obtient une approximation."
   ]
  }
 ],
 "metadata": {
  "kernelspec": {
   "display_name": "R",
   "language": "R",
   "name": "ir"
  },
  "language_info": {
   "codemirror_mode": "r",
   "file_extension": ".r",
   "mimetype": "text/x-r-source",
   "name": "R",
   "pygments_lexer": "r",
   "version": "3.4.3"
  }
 },
 "nbformat": 4,
 "nbformat_minor": 2
}
