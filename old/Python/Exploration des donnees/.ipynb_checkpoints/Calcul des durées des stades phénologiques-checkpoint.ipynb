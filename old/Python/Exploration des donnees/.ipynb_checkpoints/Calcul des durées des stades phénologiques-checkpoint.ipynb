{
 "cells": [
  {
   "cell_type": "markdown",
   "metadata": {},
   "source": [
    "# Durée des stades phénologiques"
   ]
  },
  {
   "cell_type": "code",
   "execution_count": 1,
   "metadata": {},
   "outputs": [],
   "source": [
    "import numpy as np"
   ]
  },
  {
   "cell_type": "code",
   "execution_count": 2,
   "metadata": {},
   "outputs": [],
   "source": [
    "xx = np.linspace(18,29,12)"
   ]
  },
  {
   "cell_type": "code",
   "execution_count": 3,
   "metadata": {},
   "outputs": [],
   "source": [
    "# EQUATIONS DE DORALICE\n",
    "\n",
    "def stade_D_1 (x) :\n",
    "    y = -0.31*x + 11.25\n",
    "    return y\n",
    "\n",
    "def stade_E_1 (x) :\n",
    "    y = -0.22*x + 9.63\n",
    "    return y\n",
    "\n",
    "def stade_F_1 (x) :\n",
    "    y = -0.47*x + 16.02\n",
    "    return y\n",
    "\n",
    "def stade_G_1 (x) :\n",
    "    y = -0.45*x + 30.58\n",
    "    return y"
   ]
  },
  {
   "cell_type": "code",
   "execution_count": 4,
   "metadata": {},
   "outputs": [
    {
     "name": "stdout",
     "output_type": "stream",
     "text": [
      "[5.67 5.36 5.05 4.74 4.43 4.12 3.81 3.5  3.19 2.88 2.57 2.26]\n",
      "[5.67 5.45 5.23 5.01 4.79 4.57 4.35 4.13 3.91 3.69 3.47 3.25]\n",
      "[7.56 7.09 6.62 6.15 5.68 5.21 4.74 4.27 3.8  3.33 2.86 2.39]\n",
      "[22.48 22.03 21.58 21.13 20.68 20.23 19.78 19.33 18.88 18.43 17.98 17.53]\n"
     ]
    }
   ],
   "source": [
    "print (stade_D_1(xx))\n",
    "print (stade_E_1(xx))\n",
    "print (stade_F_1(xx))\n",
    "print (stade_G_1(xx))"
   ]
  },
  {
   "cell_type": "code",
   "execution_count": 27,
   "metadata": {},
   "outputs": [],
   "source": [
    "# MODELE TEMPS THERMIQUE D'ANNE SARAH\n",
    "\n",
    "def stade_D_E_F_2 (x) :\n",
    "    TTS = 0\n",
    "    yD = 0\n",
    "    while (TTS<70.56):\n",
    "        TTS = TTS + (x-11.10)\n",
    "        yD = yD+1\n",
    "    yE = 0\n",
    "    while (TTS<203.88):\n",
    "        TTS = TTS + (x-8.67)\n",
    "        yE = yE+1\n",
    "    yF = 0\n",
    "    while (TTS<434.30):\n",
    "        TTS = TTS + (x-15.11)\n",
    "        yF = yF+1    \n",
    "    return (yD,yE,yF)"
   ]
  },
  {
   "cell_type": "code",
   "execution_count": 28,
   "metadata": {},
   "outputs": [
    {
     "name": "stdout",
     "output_type": "stream",
     "text": [
      "[11.  9.  8.  8.  7.  6.  6.  6.  5.  5.  5.  4.]\n",
      "[14. 13. 12. 11. 10. 10.  9.  8.  8.  7.  7.  7.]\n",
      "[79. 59. 47. 38. 33. 28. 25. 23. 21. 20. 17. 16.]\n"
     ]
    }
   ],
   "source": [
    "stade_D = np.copy(xx)\n",
    "stade_E = np.copy(xx)\n",
    "stade_F = np.copy(xx)\n",
    "for i in range (np.size(xx)):\n",
    "    stade_D[i], stade_E[i], stade_F[i] = stade_D_E_F_2(xx[i])\n",
    "print (stade_D)\n",
    "print (stade_E)\n",
    "print (stade_F)"
   ]
  },
  {
   "cell_type": "code",
   "execution_count": 29,
   "metadata": {},
   "outputs": [
    {
     "data": {
      "text/plain": [
       "(7, 10, 33)"
      ]
     },
     "execution_count": 29,
     "metadata": {},
     "output_type": "execute_result"
    }
   ],
   "source": [
    "stade_D_E_F_2(22)"
   ]
  },
  {
   "cell_type": "code",
   "execution_count": null,
   "metadata": {},
   "outputs": [],
   "source": []
  }
 ],
 "metadata": {
  "kernelspec": {
   "display_name": "Python 2",
   "language": "python",
   "name": "python2"
  },
  "language_info": {
   "codemirror_mode": {
    "name": "ipython",
    "version": 2
   },
   "file_extension": ".py",
   "mimetype": "text/x-python",
   "name": "python",
   "nbconvert_exporter": "python",
   "pygments_lexer": "ipython2",
   "version": "2.7.15"
  }
 },
 "nbformat": 4,
 "nbformat_minor": 2
}
