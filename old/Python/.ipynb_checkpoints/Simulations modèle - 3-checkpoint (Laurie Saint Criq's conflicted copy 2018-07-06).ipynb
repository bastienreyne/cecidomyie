{
 "cells": [
  {
   "cell_type": "markdown",
   "metadata": {},
   "source": [
    "# Simulations "
   ]
  },
  {
   "cell_type": "markdown",
   "metadata": {},
   "source": [
    "Différences avec le fichier Simulations modèle - 2 :\n",
    "* On tire une loi de Poisson pour le nombre d'oeufs pondus\n",
    "* On tire une loi de Poisson pour la date de sortie de pupaison\n",
    "* On tire une loi de Poisson pour la durée de développement des larves\n",
    "* Le R est modifié, on prend la disponibilité en ressources au moment où l'adulte pond"
   ]
  },
  {
   "cell_type": "markdown",
   "metadata": {},
   "source": [
    "## Importation des librairies"
   ]
  },
  {
   "cell_type": "code",
   "execution_count": 1,
   "metadata": {},
   "outputs": [],
   "source": [
    "from datetime import date, timedelta\n",
    "from IPython.display import Image\n",
    "from itertools import *\n",
    "from pandas import * \n",
    "from scipy.interpolate import interp1d\n",
    "from scipy.optimize import least_squares\n",
    "from scipy.stats import norm\n",
    "import csv\n",
    "import matplotlib.pyplot as plt\n",
    "import numpy as np\n",
    "import os\n",
    "import random\n",
    "import scipy"
   ]
  },
  {
   "cell_type": "markdown",
   "metadata": {},
   "source": [
    "## Paramètres connus"
   ]
  },
  {
   "cell_type": "code",
   "execution_count": 2,
   "metadata": {},
   "outputs": [],
   "source": [
    "E = 150\n",
    "mu = 0.04\n",
    "d_l = 10\n",
    "d_p = 5\n",
    "beta = 1 #np.mean(np.array((1,1,1.07,0.76,0.84,1.83))/1.83) # = 0.592\n",
    "p_pup = (71.2+77)/2/100 # = 0.741\n",
    "k = 20\n",
    "T = 25"
   ]
  },
  {
   "cell_type": "markdown",
   "metadata": {},
   "source": [
    "## Fonctions"
   ]
  },
  {
   "cell_type": "code",
   "execution_count": 3,
   "metadata": {},
   "outputs": [],
   "source": [
    "def fichier (Nom, groupe, Sheet) :\n",
    "    \n",
    "    f = read_excel(Nom+'.xls', Sheet)\n",
    "    df = f.groupby(groupe).sum()\n",
    "    \n",
    "    return df"
   ]
  },
  {
   "cell_type": "code",
   "execution_count": 4,
   "metadata": {},
   "outputs": [],
   "source": [
    "def donnees (Nom, groupe, Sheet, un, deux, trois) :\n",
    "\n",
    "    liste = fichier (Nom, groupe, Sheet)\n",
    "    nb_larves = liste[un]\n",
    "    nb_inflo = liste[deux]\n",
    "    nb_inflo_morte = liste[trois]\n",
    "        \n",
    "    return nb_larves, nb_inflo, nb_inflo_morte"
   ]
  },
  {
   "cell_type": "code",
   "execution_count": 5,
   "metadata": {},
   "outputs": [],
   "source": [
    "def bloc (Nom, groupe, Sheet, un, deux, trois) :\n",
    "    \n",
    "    os.chdir(u\"C:/Users/saintcriq/Dropbox/Cécidomyie/Fichiers de données/Données ré organisées/Fichier piège\")\n",
    "    nb_larves, nb_inflo, nb_inflo_morte = donnees (Nom, groupe, Sheet, un, deux, trois)\n",
    "    \n",
    "    return nb_larves, nb_inflo, nb_inflo_morte"
   ]
  },
  {
   "cell_type": "code",
   "execution_count": 56,
   "metadata": {},
   "outputs": [],
   "source": [
    "def step (t, Nt, Lt, R_, NbAdultesEmergents, NbLarvesTroisiemeStade, lambda_, mu_MS_pl, k, RR=0) :\n",
    "    \n",
    "    if (Nt[-1] < It[t-1]):\n",
    "        R = 1\n",
    "    else : \n",
    "        R = k*It[t-1]/Nt[-1]\n",
    "\n",
    "    NbLarves = np.random.poisson(int(round(E*mu*Nt[-1]*R/2)))\n",
    "    \n",
    "    DureeDvpt = np.random.poisson(d_l,int(round(NbLarves)))\n",
    "\n",
    "    for i in DureeDvpt :\n",
    "        if (t+i<=TotJours) :\n",
    "            NbLarvesTroisiemeStade[int(t+i)] += 1\n",
    "    \n",
    "    NbLarvesPupaison = Lt[-1] * 0.5 * p_pup\n",
    "    \n",
    "    DureePup = np.random.poisson(d_p,int(round(NbLarvesPupaison)))\n",
    "\n",
    "    for i in DureePup :\n",
    "        if (t+i<=TotJours) :\n",
    "            NbAdultesEmergents[int(t+i)] += 1\n",
    "            \n",
    "    Nt_plus_1 = 150\n",
    "    if (t > d_p) :\n",
    "        Nt_plus_1 += NbAdultesEmergents[t]\n",
    "            \n",
    "    if (t>d_l) : \n",
    "        Lt_plus_1 = NbLarvesTroisiemeStade[t]\n",
    "    else :\n",
    "        Lt_plus_1 = 0\n",
    "    \n",
    "    Nt.append(Nt_plus_1)\n",
    "    Lt.append(Lt_plus_1)\n",
    "    R_.append(R)\n",
    "    \n",
    "    return Nt, Lt, R_, NbAdultesEmergents, NbLarvesTroisiemeStade"
   ]
  },
  {
   "cell_type": "code",
   "execution_count": 7,
   "metadata": {},
   "outputs": [],
   "source": [
    "def integrate (lambda_, mu_MS_pl, k, RR=0) :\n",
    "    \n",
    "    Nt = [150]\n",
    "    Lt = [0]\n",
    "    R_ = []\n",
    "    NbAdultesEmergents = np.zeros((TotJours+1))\n",
    "    NbLarvesTroisiemeStade = np.zeros((TotJours+1))\n",
    "    \n",
    "    for i in range (1,TotJours+1) :\n",
    "        Nt, Lt, R_, NbAdultesEmergents, NbLarvesTroisiemeStade = step (i, Nt, Lt, R_, NbAdultesEmergents, NbLarvesTroisiemeStade, lambda_, mu_MS_pl, k, RR)\n",
    "\n",
    "    return np.array(Lt), np.array(Nt), np.array(R_), NbAdultesEmergents, NbLarvesTroisiemeStade"
   ]
  },
  {
   "cell_type": "code",
   "execution_count": 8,
   "metadata": {},
   "outputs": [],
   "source": [
    "distvalues = []\n",
    "\n",
    "def objectif1_1 (params) :\n",
    "    global distvalues\n",
    "    val = distance1(integrate(*params)[0], nb_larves) + abs(sum(integrate(*params)[0])-sum(nb_larves))\n",
    "    distvalues.append(val)\n",
    "    return val\n",
    "\n",
    "def objectif1_2 (params) :\n",
    "    global distvalues\n",
    "    val = distance2(integrate(*params)[0], nb_larves) + abs(sum(integrate(*params)[0])-sum(nb_larves))\n",
    "    distvalues.append(val)\n",
    "    return val\n",
    "\n",
    "def objectif1_Inf (params) :\n",
    "    global distvalues\n",
    "    val = distanceInf1(integrate(*params)[0], nb_larves) #+ abs(sum(integrate(*params)[0])-sum(nb_larves))\n",
    "    distvalues.append(val)\n",
    "    return val"
   ]
  },
  {
   "cell_type": "code",
   "execution_count": 9,
   "metadata": {},
   "outputs": [],
   "source": [
    "def distance1 (Simu,Obs) :\n",
    "    return sum(abs(Simu-Obs))\n",
    "\n",
    "def distance2 (Simu,Obs) :\n",
    "    return np.sqrt(sum((Simu-Obs)**2))\n",
    "\n",
    "def distanceInf1 (Simu,Obs) :\n",
    "    return max(abs(Simu-Obs))\n",
    "\n",
    "def distanceInf2 (Simu1,Obs1,Simu2,Obs2) :\n",
    "    return max(max(abs(Simu1-Obs1)),max(abs(Simu2-Obs2)))"
   ]
  },
  {
   "cell_type": "code",
   "execution_count": 10,
   "metadata": {},
   "outputs": [],
   "source": [
    "def optimize1 (p0) :\n",
    "    res = least_squares(objectif1_1, p0, bounds=bounds, method='trf')\n",
    "    return res.x\n",
    "\n",
    "def optimize2 (p0) :\n",
    "    res = least_squares(objectif1_2, p0, bounds=bounds, method='trf')\n",
    "    return res.x\n",
    "\n",
    "def optimizeInf (p0) :\n",
    "    res = least_squares(objectif1_Inf, p0, bounds=bounds, method='trf')\n",
    "    return res.x"
   ]
  },
  {
   "cell_type": "code",
   "execution_count": 11,
   "metadata": {},
   "outputs": [],
   "source": [
    "listeJours = np.array(((18,7),(21,7),(25,7),(28,7),\n",
    "                       (1,8),(4,8),(8,8),(11,8),(15,8),(18,8),(22,8),(25,8),(29,8),\n",
    "                       (1,9),(5,9),(8,9),(12,9),(15,9),(19,9),(22,9),(26,9),(29,9),\n",
    "                       (3,10),(6,10)))\n",
    "NbJours = len(listeJours)\n",
    "def daynb (day, refday) :\n",
    "    return (date(2017,day[1], day[0]) - date(2017,refday[1], refday[0])).days\n",
    "xJours = list (map(lambda d : daynb(d,(18,7)), listeJours))\n",
    "TotJours = xJours[-1]\n",
    "xTotJours = np.linspace(0,TotJours,TotJours+1)"
   ]
  },
  {
   "cell_type": "code",
   "execution_count": 12,
   "metadata": {},
   "outputs": [],
   "source": [
    "# Fonction de visualisation des résultats de toutes les optimisations \n",
    "\n",
    "def visual_optimization_bis (optimize, p0) :\n",
    "    \n",
    "    global distvalues\n",
    "    \n",
    "    min_ = 99999999999999999999999\n",
    "    p0_ = list(product(*p0))\n",
    "    N = len(list(product(*p0)))\n",
    "    \n",
    "    for cpt in range (N):\n",
    "        \n",
    "        i  = p0_[cpt][0]\n",
    "        j  = p0_[cpt][1]\n",
    "        kk  = p0_[cpt][2]\n",
    "        distvalues = []\n",
    "        res = optimize((i,j,kk))\n",
    "        if (min(distvalues)<min_):\n",
    "            min_ = min(distvalues)\n",
    "            min_init = (i,j,kk)\n",
    "\n",
    "    distvalues = []\n",
    "    res = optimize((min_init[0], min_init[1], min_init[2]))\n",
    "    L_simu, N_simu, R_, NbAdultesEmergents, NbLarvesTroisiemeStade = integrate (res[0], res[1], res[2])\n",
    "    \n",
    "    plt.plot(Jours,L_simu,label=u\"CdF simulées\")\n",
    "    plt.plot(Jours,nb_larves,label=u\"CdF observées\")\n",
    "    plt.plot(Jours,N_simu,label=u\"Cecido simulées\")\n",
    "    plt.xticks (rotation=60)\n",
    "    plt.legend()\n",
    "    plt.show()\n",
    "    \n",
    "    plt.plot(Jours,L_simu,label=u\"CdF simulées\")\n",
    "    plt.plot(Jours,nb_larves,label=u\"CdF observées\")\n",
    "    plt.plot(Jours,It,label=u\"Inflos observées\")\n",
    "    plt.xticks(rotation=60)\n",
    "    plt.legend()\n",
    "    plt.show()\n",
    "    \n",
    "    plt.plot(Jours,np.cumsum(L_simu),label=u\"CdF simulées\")\n",
    "    plt.plot(Jours,np.cumsum(nb_larves),label=u\"CdF observées\")\n",
    "    plt.xticks(rotation=60)\n",
    "    plt.title(u\"Somme cumulée des larves piégées\")\n",
    "    plt.show()\n",
    "    \n",
    "    print (sum(L_simu),sum(nb_larves))\n",
    "    \n",
    "    plt.plot(distvalues)\n",
    "    plt.legend()\n",
    "    plt.title(\"Fonction objectif\")\n",
    "    plt.show()\n",
    "    \n",
    "    return min(distvalues), res, min_init, L_simu, N_simu, R_, NbAdultesEmergents, NbLarvesTroisiemeStade"
   ]
  },
  {
   "cell_type": "markdown",
   "metadata": {},
   "source": [
    "## BLOC 1 "
   ]
  },
  {
   "cell_type": "code",
   "execution_count": 13,
   "metadata": {},
   "outputs": [],
   "source": [
    "lambda_0 = np.arange(100,151,50)\n",
    "mu_MS_pl_0 = np.arange(0.0,1.1,0.5)\n",
    "k = np.arange(1,2.1,1)\n",
    "p0 = (lambda_0, mu_MS_pl_0, k)"
   ]
  },
  {
   "cell_type": "code",
   "execution_count": 14,
   "metadata": {},
   "outputs": [],
   "source": [
    "bounds = ([0, 0, 0], [np.inf, 1, np.inf])"
   ]
  },
  {
   "cell_type": "code",
   "execution_count": 15,
   "metadata": {},
   "outputs": [],
   "source": [
    "Bloc1_nb_larves, Bloc1_nb_inflo, Bloc1_nb_inflo_morte = bloc(\"Bloc1_jour\", \"date\", \"1\", 'larves', 'inflos_vivantes', 'inflos_mortes')"
   ]
  },
  {
   "cell_type": "code",
   "execution_count": 16,
   "metadata": {},
   "outputs": [],
   "source": [
    "l = fichier (\"Bloc1_jour\", \"date\", \"1\")\n",
    "Jours = l.index"
   ]
  },
  {
   "cell_type": "code",
   "execution_count": 57,
   "metadata": {},
   "outputs": [],
   "source": [
    "nb_larves = Bloc1_nb_larves\n",
    "It = Bloc1_nb_inflo\n",
    "nb_inflo_morte = Bloc1_nb_inflo_morte\n",
    "L_t_1, N_1, Bloc1_R, NbAdultesEmergents_1, NbLarvesTroisiemeStade_1 = integrate (150, 0.5, 1, RR=0)"
   ]
  },
  {
   "cell_type": "code",
   "execution_count": 58,
   "metadata": {},
   "outputs": [
    {
     "data": {
      "image/png": "[encoded data removed]",
      "text/plain": [
       "<matplotlib.figure.Figure at 0x106723f0>"
      ]
     },
     "metadata": {},
     "output_type": "display_data"
    },
    {
     "data": {
      "image/png": "[encoded data removed]",
      "text/plain": [
       "<matplotlib.figure.Figure at 0x10a8f090>"
      ]
     },
     "metadata": {},
     "output_type": "display_data"
    },
    {
     "data": {
      "image/png": "[encoded data removed]",
      "text/plain": [
       "<matplotlib.figure.Figure at 0x106726b0>"
      ]
     },
     "metadata": {},
     "output_type": "display_data"
    }
   ],
   "source": [
    "plt.plot(Jours,L_t_1,label=u\"CdF simulées\")\n",
    "plt.plot(Jours,nb_larves,label=u\"CdF observées\")\n",
    "plt.plot(Jours,N_1,label=u\"Cecido simulées\")\n",
    "plt.xticks (rotation=60)\n",
    "plt.legend()\n",
    "plt.show()\n",
    "\n",
    "plt.plot(Jours,L_t_1,label=u\"CdF simulées\")\n",
    "plt.plot(Jours,nb_larves,label=u\"CdF observées\")\n",
    "plt.plot(Jours,It,label=u\"Inflos observées\")\n",
    "plt.xticks (rotation=60)\n",
    "plt.legend()\n",
    "plt.show()\n",
    "    \n",
    "plt.plot(Jours,np.cumsum(L_t_1),label=u\"CdF simulées\")\n",
    "plt.plot(Jours,np.cumsum(nb_larves),label=u\"CdF observées\")\n",
    "plt.xticks(rotation=60)\n",
    "plt.title(u\"Somme cumulée des larves piégées\")\n",
    "plt.show()"
   ]
  },
  {
   "cell_type": "code",
   "execution_count": null,
   "metadata": {},
   "outputs": [],
   "source": [
    "nb_larves = Bloc1_nb_larves\n",
    "It = Bloc1_nb_inflo\n",
    "nb_inflo_morte = Bloc1_nb_inflo_morte\n",
    "\n",
    "min_distvalues_1, res_1, min_init_1, L_t_1, N_1, Bloc1_R, NbAdultesEmergents_1, NbLarvesTroisiemeStade_1 = visual_optimization_bis(optimize1, p0)\n",
    "print min_distvalues_1\n",
    "print res_1\n",
    "print min_init_1"
   ]
  },
  {
   "cell_type": "markdown",
   "metadata": {},
   "source": [
    "## BLOC 1 _ ENHERBEMENT HAUT"
   ]
  },
  {
   "cell_type": "code",
   "execution_count": null,
   "metadata": {},
   "outputs": [],
   "source": [
    "lambda_0 = np.arange(100,151,50)\n",
    "mu_MS_pl_0 = np.arange(0,0.6,0.5)\n",
    "k = np.arange(0,1.1,1)\n",
    "p0 = (lambda_0, mu_MS_pl_0, k)"
   ]
  },
  {
   "cell_type": "code",
   "execution_count": null,
   "metadata": {},
   "outputs": [],
   "source": [
    "bounds = ([0, 0, 0], [np.inf, 0.5, np.inf])"
   ]
  },
  {
   "cell_type": "code",
   "execution_count": null,
   "metadata": {},
   "outputs": [],
   "source": [
    "Bloc1_enh_haut_nb_larves, Bloc1_enh_haut_nb_inflo, Bloc1_enh_haut_nb_inflo_morte = bloc(\"Bloc1_enh_haut_jour\", \"date\", \"1\", 'larves', 'inflos_vivantes', 'inflos_mortes')"
   ]
  },
  {
   "cell_type": "code",
   "execution_count": null,
   "metadata": {
    "scrolled": false
   },
   "outputs": [],
   "source": [
    "nb_larves = Bloc1_enh_haut_nb_larves\n",
    "nb_inflo_morte = Bloc1_enh_haut_nb_inflo_morte\n",
    "It = Bloc1_enh_haut_nb_inflo\n",
    "\n",
    "min_distvalues_1_enh_haut, res_1_enh_haut, min_init_1_enh_haut, L_t_1_enh_haut, N_1_enh_haut, Bloc1_enh_haut_R, NbAdultesEmergents_1_enh_haut, NbLarvesTroisiemeStade_1_enh_haut = visual_optimization_bis(optimize1, p0)\n",
    "print min_distvalues_1_enh_haut\n",
    "print res_1_enh_haut\n",
    "print min_init_1_enh_haut"
   ]
  },
  {
   "cell_type": "markdown",
   "metadata": {},
   "source": [
    "## BLOC 1 _ ENHERBEMENT RAS"
   ]
  },
  {
   "cell_type": "code",
   "execution_count": null,
   "metadata": {},
   "outputs": [],
   "source": [
    "lambda_0 = np.arange(100,151,50)\n",
    "mu_MS_pl_0 = np.arange(0.5,1.1,0.5)\n",
    "k = np.arange(0.5,1.1,0.5)\n",
    "p0 = (lambda_0, mu_MS_pl_0, k)"
   ]
  },
  {
   "cell_type": "code",
   "execution_count": null,
   "metadata": {},
   "outputs": [],
   "source": [
    "bounds = ([0, 0.5, 0], [np.inf, 1, np.inf])"
   ]
  },
  {
   "cell_type": "code",
   "execution_count": null,
   "metadata": {},
   "outputs": [],
   "source": [
    "Bloc1_enh_ras_nb_larves, Bloc1_enh_ras_nb_inflo, Bloc1_enh_ras_nb_inflo_morte = bloc(\"Bloc1_enh_ras_jour\", \"date\", \"1\", 'larves', 'inflos_vivantes', 'inflos_mortes')"
   ]
  },
  {
   "cell_type": "code",
   "execution_count": null,
   "metadata": {
    "scrolled": false
   },
   "outputs": [],
   "source": [
    "nb_larves = Bloc1_enh_ras_nb_larves\n",
    "nb_inflo_morte = Bloc1_enh_ras_nb_inflo_morte\n",
    "It = Bloc1_enh_ras_nb_inflo\n",
    "\n",
    "plt.plot()\n",
    "\n",
    "min_distvalues_1_enh_ras, res_1_enh_ras, min_init_1_enh_ras, L_t_1_enh_ras, N_1_enh_ras, Bloc1_enh_ras_R, NbAdultesEmergents_1_enh_ras, NbLarvesTroisiemeStade_1_enh_ras = visual_optimization_bis(optimize1, p0)\n",
    "print min_distvalues_1_enh_ras\n",
    "print res_1_enh_ras\n",
    "print min_init_1_enh_ras"
   ]
  },
  {
   "cell_type": "markdown",
   "metadata": {},
   "source": [
    "## BLOC 2"
   ]
  },
  {
   "cell_type": "code",
   "execution_count": null,
   "metadata": {},
   "outputs": [],
   "source": [
    "lambda_0 = np.arange(100,151,50)\n",
    "mu_MS_pl_0 = np.arange(0.0,1.1,0.5)\n",
    "k = np.arange(0.5,1.1,0.5)\n",
    "p0 = (lambda_0, mu_MS_pl_0, k)"
   ]
  },
  {
   "cell_type": "code",
   "execution_count": null,
   "metadata": {},
   "outputs": [],
   "source": [
    "bounds = ([0, 0, 0], [np.inf, 1, np.inf])"
   ]
  },
  {
   "cell_type": "code",
   "execution_count": null,
   "metadata": {},
   "outputs": [],
   "source": [
    "Bloc2_nb_larves, Bloc2_nb_inflo, Bloc2_nb_inflo_morte = bloc(\"Bloc2_jour\", \"date\", \"1\", 'larves', 'inflos_vivantes', 'inflos_mortes')"
   ]
  },
  {
   "cell_type": "code",
   "execution_count": null,
   "metadata": {
    "scrolled": false
   },
   "outputs": [],
   "source": [
    "nb_larves = Bloc2_nb_larves\n",
    "nb_inflo_morte = Bloc2_nb_inflo_morte\n",
    "It = Bloc2_nb_inflo\n",
    "\n",
    "min_distvalues_2, res_2, min_init_2, L_t_2, N_2, Bloc2_R, NbAdultesEmergents_2, NbLarvesTroisiemeStade_2 = visual_optimization_bis(optimize1, p0)\n",
    "print min_distvalues_2\n",
    "print res_2\n",
    "print min_init_2"
   ]
  },
  {
   "cell_type": "markdown",
   "metadata": {},
   "source": [
    "## BLOC 2 _ ENHERBEMENT HAUT"
   ]
  },
  {
   "cell_type": "code",
   "execution_count": null,
   "metadata": {},
   "outputs": [],
   "source": [
    "lambda_0 = np.arange(100,151,50)\n",
    "mu_MS_pl_0 = np.arange(0,0.6,0.5)\n",
    "k = np.arange(0.5,1.1,0.5)\n",
    "p0 = (lambda_0, mu_MS_pl_0, k)"
   ]
  },
  {
   "cell_type": "code",
   "execution_count": null,
   "metadata": {},
   "outputs": [],
   "source": [
    "bounds = ([0, 0, 0], [np.inf, 0.5, np.inf])"
   ]
  },
  {
   "cell_type": "code",
   "execution_count": null,
   "metadata": {},
   "outputs": [],
   "source": [
    "Bloc2_enh_haut_nb_larves, Bloc2_enh_haut_nb_inflo, Bloc2_enh_haut_nb_inflo_morte = bloc(\"Bloc2_enh_haut_jour\", \"date\", \"1\", 'larves', 'inflos_vivantes', 'inflos_mortes')"
   ]
  },
  {
   "cell_type": "code",
   "execution_count": null,
   "metadata": {
    "scrolled": false
   },
   "outputs": [],
   "source": [
    "nb_larves = Bloc2_enh_haut_nb_larves\n",
    "nb_inflo_morte = Bloc2_enh_haut_nb_inflo_morte\n",
    "It = Bloc2_enh_haut_nb_inflo\n",
    "\n",
    "min_distvalues_2_enh_haut, res_2_enh_haut, min_init_2_enh_haut, L_t_2_enh_haut, N_2_enh_haut, Bloc2_enh_haut_R, NbAdultesEmergents_2_enh_haut, NbLarvesTroisiemeStade_2_enh_haut = visual_optimization_bis(optimize1, p0)\n",
    "print min_distvalues_2_enh_haut\n",
    "print res_2_enh_haut\n",
    "print min_init_2_enh_haut"
   ]
  },
  {
   "cell_type": "markdown",
   "metadata": {},
   "source": [
    "## BLOC 2 _ ENHERBEMENT RAS"
   ]
  },
  {
   "cell_type": "code",
   "execution_count": null,
   "metadata": {},
   "outputs": [],
   "source": [
    "lambda_0 = np.arange(100,151,50)\n",
    "mu_MS_pl_0 = np.arange(0.5,1.1,0.5)\n",
    "k = np.arange(0.5,1.1,0.5)\n",
    "p0 = (lambda_0, mu_MS_pl_0, k)"
   ]
  },
  {
   "cell_type": "code",
   "execution_count": null,
   "metadata": {},
   "outputs": [],
   "source": [
    "bounds = ([0, 0.5, 0], [np.inf, 1, np.inf])"
   ]
  },
  {
   "cell_type": "code",
   "execution_count": null,
   "metadata": {},
   "outputs": [],
   "source": [
    "Bloc2_enh_ras_nb_larves, Bloc2_enh_ras_nb_inflo, Bloc2_enh_ras_nb_inflo_morte = bloc(\"Bloc2_enh_ras_jour\", \"date\", \"1\", 'larves', 'inflos_vivantes', 'inflos_mortes')"
   ]
  },
  {
   "cell_type": "code",
   "execution_count": null,
   "metadata": {
    "scrolled": false
   },
   "outputs": [],
   "source": [
    "nb_larves = Bloc2_enh_ras_nb_larves\n",
    "nb_inflo_morte = Bloc2_enh_ras_nb_inflo_morte\n",
    "It = Bloc2_enh_ras_nb_inflo\n",
    "\n",
    "min_distvalues_2_enh_ras, res_2_enh_ras, min_init_2_enh_ras, L_t_2_enh_ras, N_2_enh_ras, Bloc2_enh_ras_R, NbAdultesEmergents_2_enh_ras, NbLarvesTroisiemeStade_2_enh_ras = visual_optimization_bis(optimize1, p0)\n",
    "print min_distvalues_2_enh_ras\n",
    "print res_2_enh_ras\n",
    "print min_init_2_enh_ras"
   ]
  },
  {
   "cell_type": "code",
   "execution_count": null,
   "metadata": {},
   "outputs": [],
   "source": []
  }
 ],
 "metadata": {
  "kernelspec": {
   "display_name": "Python 2",
   "language": "python",
   "name": "python2"
  },
  "language_info": {
   "codemirror_mode": {
    "name": "ipython",
    "version": 2
   },
   "file_extension": ".py",
   "mimetype": "text/x-python",
   "name": "python",
   "nbconvert_exporter": "python",
   "pygments_lexer": "ipython2",
   "version": "2.7.15"
  }
 },
 "nbformat": 4,
 "nbformat_minor": 2
}
