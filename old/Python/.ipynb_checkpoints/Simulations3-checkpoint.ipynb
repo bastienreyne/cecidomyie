{
 "cells": [
  {
   "cell_type": "markdown",
   "metadata": {},
   "source": [
    "# Simulations "
   ]
  },
  {
   "cell_type": "markdown",
   "metadata": {},
   "source": [
    "Dans ce fichier, nous avons les simulations avec R qui vaut : \n",
    "$$R =  \\begin{cases} 1  & \\text{ si } N_{t-d_l} < k \\times I_{t-1} \\\\  \\frac{k \\times I_{t-d_l}}{N_{t-d_l}} & \\text{ sinon. }  \\end{cases} $$\n",
    "\n",
    "On fixe $\\lambda = 150$, $\\mu_{MS}p_l = 0.5$ et on estime k.\n",
    "\n",
    "* On tire une loi de Poisson pour le nombre d'oeufs pondus\n",
    "* On tire une loi de Poisson pour la date de sortie de pupaison\n",
    "* On tire une loi de Poisson pour la durée de développement des larves\n",
    "* Le R est modifié, on prend la disponibilité en ressources au moment où l'adulte pond"
   ]
  },
  {
   "cell_type": "markdown",
   "metadata": {},
   "source": [
    "## Importation des librairies"
   ]
  },
  {
   "cell_type": "code",
   "execution_count": 18,
   "metadata": {},
   "outputs": [],
   "source": [
    "import matplotlib.pyplot as plt\n",
    "import numpy as np\n",
    "import os\n",
    "from zFonctionsGenerales import *\n",
    "from zFonctionsSimulation3 import *"
   ]
  },
  {
   "cell_type": "markdown",
   "metadata": {},
   "source": [
    "## BLOC 1 "
   ]
  },
  {
   "cell_type": "code",
   "execution_count": 14,
   "metadata": {},
   "outputs": [],
   "source": [
    "k = np.arange(1,2.1,1)\n",
    "p0 = k\n",
    "bounds = (0, np.inf)"
   ]
  },
  {
   "cell_type": "code",
   "execution_count": 15,
   "metadata": {},
   "outputs": [],
   "source": [
    "Bloc1_nb_larves, Bloc1_nb_inflo, Bloc1_nb_inflo_morte = bloc(\"Bloc1_jour\", \"date\", \"1\", 'larves', 'inflos_vivantes', 'inflos_mortes')"
   ]
  },
  {
   "cell_type": "code",
   "execution_count": 16,
   "metadata": {},
   "outputs": [],
   "source": [
    "Jours = Bloc1_nb_larves.index"
   ]
  },
  {
   "cell_type": "code",
   "execution_count": 19,
   "metadata": {},
   "outputs": [
    {
     "ename": "NameError",
     "evalue": "name 'visual_optimization' is not defined",
     "output_type": "error",
     "traceback": [
      "\u001b[1;31m---------------------------------------------------------------------------\u001b[0m",
      "\u001b[1;31mNameError\u001b[0m                                 Traceback (most recent call last)",
      "\u001b[1;32m<ipython-input-19-c9efe5740714>\u001b[0m in \u001b[0;36m<module>\u001b[1;34m()\u001b[0m\n\u001b[1;32m----> 1\u001b[1;33m \u001b[0mmin_distvalues_1\u001b[0m\u001b[1;33m,\u001b[0m \u001b[0mres_1\u001b[0m\u001b[1;33m,\u001b[0m \u001b[0mmin_init_1\u001b[0m\u001b[1;33m,\u001b[0m \u001b[0mL_t_1\u001b[0m\u001b[1;33m,\u001b[0m \u001b[0mN_1\u001b[0m\u001b[1;33m,\u001b[0m \u001b[0mBloc1_R\u001b[0m\u001b[1;33m,\u001b[0m \u001b[0mNbAdultesEmergents_1\u001b[0m\u001b[1;33m,\u001b[0m \u001b[0mNbLarvesTroisiemeStade_1\u001b[0m \u001b[1;33m=\u001b[0m \u001b[0mvisual_optimization\u001b[0m\u001b[1;33m(\u001b[0m\u001b[0moptimize1\u001b[0m\u001b[1;33m,\u001b[0m \u001b[0mp0\u001b[0m\u001b[1;33m,\u001b[0m \u001b[0mBloc1_nb_larves\u001b[0m\u001b[1;33m,\u001b[0m \u001b[0mBloc1_nb_inflo\u001b[0m\u001b[1;33m,\u001b[0m \u001b[0mbounds\u001b[0m\u001b[1;33m,\u001b[0m \u001b[0mJours\u001b[0m\u001b[1;33m)\u001b[0m\u001b[1;33m\u001b[0m\u001b[0m\n\u001b[0m\u001b[0;32m      2\u001b[0m \u001b[1;32mprint\u001b[0m \u001b[0mres_1\u001b[0m\u001b[1;33m\u001b[0m\u001b[0m\n\u001b[0;32m      3\u001b[0m \u001b[1;32mprint\u001b[0m \u001b[0mmin_init_1\u001b[0m\u001b[1;33m\u001b[0m\u001b[0m\n",
      "\u001b[1;31mNameError\u001b[0m: name 'visual_optimization' is not defined"
     ]
    }
   ],
   "source": [
    "min_distvalues_1, res_1, min_init_1, L_t_1, N_1, Bloc1_R, NbAdultesEmergents_1, NbLarvesTroisiemeStade_1 = visual_optimization(optimize1, p0, Bloc1_nb_larves, Bloc1_nb_inflo, bounds, Jours)\n",
    "print res_1\n",
    "print min_init_1"
   ]
  },
  {
   "cell_type": "markdown",
   "metadata": {},
   "source": [
    "## BLOC 1 _ ENHERBEMENT HAUT"
   ]
  },
  {
   "cell_type": "code",
   "execution_count": null,
   "metadata": {},
   "outputs": [],
   "source": [
    "k = np.arange(0,1.1,1)\n",
    "p0 = k"
   ]
  },
  {
   "cell_type": "code",
   "execution_count": null,
   "metadata": {},
   "outputs": [],
   "source": [
    "bounds = (0, np.inf)"
   ]
  },
  {
   "cell_type": "code",
   "execution_count": null,
   "metadata": {},
   "outputs": [],
   "source": [
    "Bloc1_enh_haut_nb_larves, Bloc1_enh_haut_nb_inflo, Bloc1_enh_haut_nb_inflo_morte = bloc(\"Bloc1_enh_haut_jour\", \"date\", \"1\", 'larves', 'inflos_vivantes', 'inflos_mortes')"
   ]
  },
  {
   "cell_type": "code",
   "execution_count": null,
   "metadata": {
    "scrolled": false
   },
   "outputs": [],
   "source": [
    "min_distvalues_1_enh_haut, res_1_enh_haut, min_init_1_enh_haut, L_t_1_enh_haut, N_1_enh_haut, Bloc1_enh_haut_R, NbAdultesEmergents_1_enh_haut, NbLarvesTroisiemeStade_1_enh_haut = visual_optimization(optimize1, p0, Bloc1_enh_haut_nb_larves, Bloc1_enh_haut_nb_inflo, bounds, Jours)\n",
    "print min_distvalues_1_enh_haut\n",
    "print res_1_enh_haut\n",
    "print min_init_1_enh_haut"
   ]
  },
  {
   "cell_type": "markdown",
   "metadata": {},
   "source": [
    "## BLOC 1 _ ENHERBEMENT RAS"
   ]
  },
  {
   "cell_type": "code",
   "execution_count": null,
   "metadata": {},
   "outputs": [],
   "source": [
    "k = np.arange(0.5,1.1,0.5)\n",
    "p0 = k"
   ]
  },
  {
   "cell_type": "code",
   "execution_count": null,
   "metadata": {},
   "outputs": [],
   "source": [
    "bounds = (0, np.inf)"
   ]
  },
  {
   "cell_type": "code",
   "execution_count": null,
   "metadata": {},
   "outputs": [],
   "source": [
    "Bloc1_enh_ras_nb_larves, Bloc1_enh_ras_nb_inflo, Bloc1_enh_ras_nb_inflo_morte = bloc(\"Bloc1_enh_ras_jour\", \"date\", \"1\", 'larves', 'inflos_vivantes', 'inflos_mortes')"
   ]
  },
  {
   "cell_type": "code",
   "execution_count": null,
   "metadata": {
    "scrolled": false
   },
   "outputs": [],
   "source": [
    "min_distvalues_1_enh_ras, res_1_enh_ras, min_init_1_enh_ras, L_t_1_enh_ras, N_1_enh_ras, Bloc1_enh_ras_R, NbAdultesEmergents_1_enh_ras, NbLarvesTroisiemeStade_1_enh_ras = visual_optimization(optimize1, p0, Bloc1_enh_ras_nb_larves, Bloc1_enh_ras_nb_inflo, bounds, Jours)\n",
    "print min_distvalues_1_enh_ras\n",
    "print res_1_enh_ras\n",
    "print min_init_1_enh_ras"
   ]
  },
  {
   "cell_type": "markdown",
   "metadata": {},
   "source": [
    "## BLOC 2"
   ]
  },
  {
   "cell_type": "code",
   "execution_count": null,
   "metadata": {},
   "outputs": [],
   "source": [
    "k = np.arange(0.5,1.1,0.5)\n",
    "p0 = k"
   ]
  },
  {
   "cell_type": "code",
   "execution_count": null,
   "metadata": {},
   "outputs": [],
   "source": [
    "bounds = (0, np.inf)"
   ]
  },
  {
   "cell_type": "code",
   "execution_count": null,
   "metadata": {},
   "outputs": [],
   "source": [
    "Bloc2_nb_larves, Bloc2_nb_inflo, Bloc2_nb_inflo_morte = bloc(\"Bloc2_jour\", \"date\", \"1\", 'larves', 'inflos_vivantes', 'inflos_mortes')"
   ]
  },
  {
   "cell_type": "code",
   "execution_count": null,
   "metadata": {
    "scrolled": false
   },
   "outputs": [],
   "source": [
    "min_distvalues_2, res_2, min_init_2, L_t_2, N_2, Bloc2_R, NbAdultesEmergents_2, NbLarvesTroisiemeStade_2 = visual_optimization(optimize1, p0, Bloc2_nb_larves, Bloc2_nb_inflo, bounds, Jours)\n",
    "print min_distvalues_2\n",
    "print res_2\n",
    "print min_init_2"
   ]
  },
  {
   "cell_type": "markdown",
   "metadata": {},
   "source": [
    "## BLOC 2 _ ENHERBEMENT HAUT"
   ]
  },
  {
   "cell_type": "code",
   "execution_count": null,
   "metadata": {},
   "outputs": [],
   "source": [
    "k = np.arange(0.5,1.1,0.5)\n",
    "p0 = k"
   ]
  },
  {
   "cell_type": "code",
   "execution_count": null,
   "metadata": {},
   "outputs": [],
   "source": [
    "bounds = (0, np.inf)"
   ]
  },
  {
   "cell_type": "code",
   "execution_count": null,
   "metadata": {},
   "outputs": [],
   "source": [
    "Bloc2_enh_haut_nb_larves, Bloc2_enh_haut_nb_inflo, Bloc2_enh_haut_nb_inflo_morte = bloc(\"Bloc2_enh_haut_jour\", \"date\", \"1\", 'larves', 'inflos_vivantes', 'inflos_mortes')"
   ]
  },
  {
   "cell_type": "code",
   "execution_count": null,
   "metadata": {
    "scrolled": false
   },
   "outputs": [],
   "source": [
    "min_distvalues_2_enh_haut, res_2_enh_haut, min_init_2_enh_haut, L_t_2_enh_haut, N_2_enh_haut, Bloc2_enh_haut_R, NbAdultesEmergents_2_enh_haut, NbLarvesTroisiemeStade_2_enh_haut = visual_optimization(optimize1, p0, Bloc2_enh_haut_nb_larves, Bloc2_enh_haut_nb_inflo, bounds, Jours)\n",
    "print min_distvalues_2_enh_haut\n",
    "print res_2_enh_haut\n",
    "print min_init_2_enh_haut"
   ]
  },
  {
   "cell_type": "markdown",
   "metadata": {},
   "source": [
    "## BLOC 2 _ ENHERBEMENT RAS"
   ]
  },
  {
   "cell_type": "code",
   "execution_count": null,
   "metadata": {},
   "outputs": [],
   "source": [
    "k = np.arange(0.5,1.1,0.5)\n",
    "p0 = k"
   ]
  },
  {
   "cell_type": "code",
   "execution_count": null,
   "metadata": {},
   "outputs": [],
   "source": [
    "bounds = (0, np.inf)"
   ]
  },
  {
   "cell_type": "code",
   "execution_count": null,
   "metadata": {},
   "outputs": [],
   "source": [
    "Bloc2_enh_ras_nb_larves, Bloc2_enh_ras_nb_inflo, Bloc2_enh_ras_nb_inflo_morte = bloc(\"Bloc2_enh_ras_jour\", \"date\", \"1\", 'larves', 'inflos_vivantes', 'inflos_mortes')"
   ]
  },
  {
   "cell_type": "code",
   "execution_count": null,
   "metadata": {
    "scrolled": false
   },
   "outputs": [],
   "source": [
    "min_distvalues_2_enh_ras, res_2_enh_ras, min_init_2_enh_ras, L_t_2_enh_ras, N_2_enh_ras, Bloc2_enh_ras_R, NbAdultesEmergents_2_enh_ras, NbLarvesTroisiemeStade_2_enh_ras = visual_optimization(optimize1, p0, Bloc2_enh_ras_nb_larves, Bloc2_enh_ras_nb_inflo, bounds, Jours)\n",
    "print min_distvalues_2_enh_ras\n",
    "print res_2_enh_ras\n",
    "print min_init_2_enh_ras"
   ]
  }
 ],
 "metadata": {
  "kernelspec": {
   "display_name": "Python 2",
   "language": "python",
   "name": "python2"
  },
  "language_info": {
   "codemirror_mode": {
    "name": "ipython",
    "version": 2
   },
   "file_extension": ".py",
   "mimetype": "text/x-python",
   "name": "python",
   "nbconvert_exporter": "python",
   "pygments_lexer": "ipython2",
   "version": "2.7.15"
  }
 },
 "nbformat": 4,
 "nbformat_minor": 2
}
