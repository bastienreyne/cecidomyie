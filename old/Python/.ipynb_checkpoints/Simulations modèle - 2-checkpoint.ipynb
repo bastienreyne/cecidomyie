{
 "cells": [
  {
   "cell_type": "markdown",
   "metadata": {},
   "source": [
    "# Simulations "
   ]
  },
  {
   "cell_type": "markdown",
   "metadata": {},
   "source": [
    "## Importation des librairies"
   ]
  },
  {
   "cell_type": "code",
   "execution_count": 1,
   "metadata": {},
   "outputs": [],
   "source": [
    "from datetime import date, timedelta\n",
    "from IPython.display import Image\n",
    "from itertools import *\n",
    "from pandas import * \n",
    "from scipy.interpolate import interp1d\n",
    "from scipy.optimize import least_squares\n",
    "from scipy.stats import norm\n",
    "import csv\n",
    "import matplotlib.pyplot as plt\n",
    "import numpy as np\n",
    "import os\n",
    "import random\n",
    "import scipy\n",
    "from SimulationsFonctions import *"
   ]
  },
  {
   "cell_type": "markdown",
   "metadata": {},
   "source": [
    "## Fonctions"
   ]
  },
  {
   "cell_type": "code",
   "execution_count": 8,
   "metadata": {},
   "outputs": [],
   "source": []
  },
  {
   "cell_type": "markdown",
   "metadata": {},
   "source": [
    "## BLOC 1 "
   ]
  },
  {
   "cell_type": "code",
   "execution_count": 3,
   "metadata": {},
   "outputs": [],
   "source": [
    "lambda_0 = np.arange(50,101,50)\n",
    "mu_MS_pl_0 = np.arange(0.5,1.1,0.5)\n",
    "k = np.arange(0,1,0.5)\n",
    "p0 = (lambda_0, mu_MS_pl_0, k)"
   ]
  },
  {
   "cell_type": "code",
   "execution_count": 4,
   "metadata": {},
   "outputs": [],
   "source": [
    "# Bornes pour les paramètres à estimer\n",
    "bounds = ([0, 0, 0], [np.inf, 1, np.inf])"
   ]
  },
  {
   "cell_type": "code",
   "execution_count": 5,
   "metadata": {},
   "outputs": [],
   "source": [
    "Bloc1_nb_larves, Bloc1_nb_inflo, Bloc1_nb_inflo_morte = bloc(\"Bloc1_jour\", \"date\", \"1\", 'larves', 'inflos_vivantes', 'inflos_mortes')"
   ]
  },
  {
   "cell_type": "code",
   "execution_count": 6,
   "metadata": {},
   "outputs": [],
   "source": [
    "Jours = Bloc1_nb_larves.index"
   ]
  },
  {
   "cell_type": "code",
   "execution_count": 9,
   "metadata": {},
   "outputs": [
    {
     "ename": "NameError",
     "evalue": "global name 'It' is not defined",
     "output_type": "error",
     "traceback": [
      "\u001b[1;31m---------------------------------------------------------------------------\u001b[0m",
      "\u001b[1;31mNameError\u001b[0m                                 Traceback (most recent call last)",
      "\u001b[1;32m<ipython-input-9-3df3b7d0d0c4>\u001b[0m in \u001b[0;36m<module>\u001b[1;34m()\u001b[0m\n\u001b[1;32m----> 1\u001b[1;33m \u001b[0mmin_distvalues_1\u001b[0m\u001b[1;33m,\u001b[0m \u001b[0mres_1\u001b[0m\u001b[1;33m,\u001b[0m \u001b[0mmin_init_1\u001b[0m\u001b[1;33m,\u001b[0m \u001b[0mL_t_1\u001b[0m \u001b[1;33m=\u001b[0m \u001b[0mvisual_optimization_bis\u001b[0m\u001b[1;33m(\u001b[0m\u001b[0moptimize1\u001b[0m\u001b[1;33m,\u001b[0m \u001b[0mp0\u001b[0m\u001b[1;33m,\u001b[0m \u001b[0mBloc1_nb_larves\u001b[0m\u001b[1;33m,\u001b[0m \u001b[0mBloc1_nb_inflo\u001b[0m\u001b[1;33m,\u001b[0m \u001b[0mbounds\u001b[0m\u001b[1;33m,\u001b[0m \u001b[0mJours\u001b[0m\u001b[1;33m,\u001b[0m \u001b[0mstep\u001b[0m\u001b[1;33m)\u001b[0m\u001b[1;33m\u001b[0m\u001b[0m\n\u001b[0m\u001b[0;32m      2\u001b[0m \u001b[1;32mprint\u001b[0m \u001b[0mmin_distvalues_1\u001b[0m\u001b[1;33m\u001b[0m\u001b[0m\n\u001b[0;32m      3\u001b[0m \u001b[1;32mprint\u001b[0m \u001b[0mres_1\u001b[0m\u001b[1;33m\u001b[0m\u001b[0m\n\u001b[0;32m      4\u001b[0m \u001b[1;32mprint\u001b[0m \u001b[0mmin_init_1\u001b[0m\u001b[1;33m\u001b[0m\u001b[0m\n\u001b[0;32m      5\u001b[0m \u001b[1;31m#min_distvalues_1, res_1, min_init_1, L_t_1 = visual_optimization_bis(optimize2, p0)\u001b[0m\u001b[1;33m\u001b[0m\u001b[1;33m\u001b[0m\u001b[0m\n",
      "\u001b[1;32mC:\\Users\\Laurie\\Dropbox\\Cecidomyie\\Python\\SimulationsFonctions.pyc\u001b[0m in \u001b[0;36mvisual_optimization_bis\u001b[1;34m(optimize, p0, nb_larves, It, bounds, Jours, step)\u001b[0m\n\u001b[0;32m    175\u001b[0m \u001b[1;33m\u001b[0m\u001b[0m\n\u001b[0;32m    176\u001b[0m         \u001b[0mdistvalues\u001b[0m \u001b[1;33m=\u001b[0m \u001b[1;33m[\u001b[0m\u001b[1;33m]\u001b[0m\u001b[1;33m\u001b[0m\u001b[0m\n\u001b[1;32m--> 177\u001b[1;33m         \u001b[0mres\u001b[0m \u001b[1;33m=\u001b[0m \u001b[0moptimize\u001b[0m\u001b[1;33m(\u001b[0m\u001b[1;33m(\u001b[0m\u001b[0mi\u001b[0m\u001b[1;33m,\u001b[0m\u001b[0mj\u001b[0m\u001b[1;33m,\u001b[0m\u001b[0mkk\u001b[0m\u001b[1;33m)\u001b[0m\u001b[1;33m,\u001b[0m \u001b[0mnb_larves\u001b[0m\u001b[1;33m,\u001b[0m \u001b[0mIt\u001b[0m\u001b[1;33m,\u001b[0m \u001b[0mbounds\u001b[0m\u001b[1;33m,\u001b[0m \u001b[0mstep\u001b[0m\u001b[1;33m)\u001b[0m\u001b[1;33m\u001b[0m\u001b[0m\n\u001b[0m\u001b[0;32m    178\u001b[0m         \u001b[1;32mif\u001b[0m \u001b[1;33m(\u001b[0m\u001b[0mmin\u001b[0m\u001b[1;33m(\u001b[0m\u001b[0mdistvalues\u001b[0m\u001b[1;33m)\u001b[0m\u001b[1;33m<\u001b[0m\u001b[0mmin_\u001b[0m\u001b[1;33m)\u001b[0m\u001b[1;33m:\u001b[0m\u001b[1;33m\u001b[0m\u001b[0m\n\u001b[0;32m    179\u001b[0m             \u001b[0mmin_\u001b[0m \u001b[1;33m=\u001b[0m \u001b[0mmin\u001b[0m\u001b[1;33m(\u001b[0m\u001b[0mdistvalues\u001b[0m\u001b[1;33m)\u001b[0m\u001b[1;33m\u001b[0m\u001b[0m\n",
      "\u001b[1;32mC:\\Users\\Laurie\\Dropbox\\Cecidomyie\\Python\\SimulationsFonctions.pyc\u001b[0m in \u001b[0;36moptimize1\u001b[1;34m(p0, nb_larves, It, bounds, step)\u001b[0m\n\u001b[0;32m    147\u001b[0m \u001b[1;33m\u001b[0m\u001b[0m\n\u001b[0;32m    148\u001b[0m \u001b[1;32mdef\u001b[0m \u001b[0moptimize1\u001b[0m \u001b[1;33m(\u001b[0m\u001b[0mp0\u001b[0m\u001b[1;33m,\u001b[0m \u001b[0mnb_larves\u001b[0m\u001b[1;33m,\u001b[0m \u001b[0mIt\u001b[0m\u001b[1;33m,\u001b[0m \u001b[0mbounds\u001b[0m\u001b[1;33m,\u001b[0m \u001b[0mstep\u001b[0m\u001b[1;33m)\u001b[0m \u001b[1;33m:\u001b[0m\u001b[1;33m\u001b[0m\u001b[0m\n\u001b[1;32m--> 149\u001b[1;33m     \u001b[0mres\u001b[0m \u001b[1;33m=\u001b[0m \u001b[0mleast_squares\u001b[0m\u001b[1;33m(\u001b[0m\u001b[0mobjectif1\u001b[0m\u001b[1;33m,\u001b[0m \u001b[0mp0\u001b[0m\u001b[1;33m,\u001b[0m \u001b[0mbounds\u001b[0m\u001b[1;33m=\u001b[0m\u001b[0mbounds\u001b[0m\u001b[1;33m,\u001b[0m \u001b[0mmethod\u001b[0m\u001b[1;33m=\u001b[0m\u001b[1;34m'trf'\u001b[0m\u001b[1;33m,\u001b[0m \u001b[0margs\u001b[0m\u001b[1;33m=\u001b[0m\u001b[1;33m(\u001b[0m\u001b[0mnb_larves\u001b[0m\u001b[1;33m,\u001b[0m \u001b[0mIt\u001b[0m\u001b[1;33m,\u001b[0m \u001b[0mstep\u001b[0m\u001b[1;33m)\u001b[0m\u001b[1;33m)\u001b[0m\u001b[1;33m\u001b[0m\u001b[0m\n\u001b[0m\u001b[0;32m    150\u001b[0m     \u001b[1;32mreturn\u001b[0m \u001b[0mres\u001b[0m\u001b[1;33m.\u001b[0m\u001b[0mx\u001b[0m\u001b[1;33m\u001b[0m\u001b[0m\n\u001b[0;32m    151\u001b[0m \u001b[1;33m\u001b[0m\u001b[0m\n",
      "\u001b[1;32mC:\\Users\\Laurie\\Anaconda2\\lib\\site-packages\\scipy\\optimize\\_lsq\\least_squares.pyc\u001b[0m in \u001b[0;36mleast_squares\u001b[1;34m(fun, x0, jac, bounds, method, ftol, xtol, gtol, x_scale, loss, f_scale, diff_step, tr_solver, tr_options, jac_sparsity, max_nfev, verbose, args, kwargs)\u001b[0m\n\u001b[0;32m    797\u001b[0m         \u001b[0mx0\u001b[0m \u001b[1;33m=\u001b[0m \u001b[0mmake_strictly_feasible\u001b[0m\u001b[1;33m(\u001b[0m\u001b[0mx0\u001b[0m\u001b[1;33m,\u001b[0m \u001b[0mlb\u001b[0m\u001b[1;33m,\u001b[0m \u001b[0mub\u001b[0m\u001b[1;33m)\u001b[0m\u001b[1;33m\u001b[0m\u001b[0m\n\u001b[0;32m    798\u001b[0m \u001b[1;33m\u001b[0m\u001b[0m\n\u001b[1;32m--> 799\u001b[1;33m     \u001b[0mf0\u001b[0m \u001b[1;33m=\u001b[0m \u001b[0mfun_wrapped\u001b[0m\u001b[1;33m(\u001b[0m\u001b[0mx0\u001b[0m\u001b[1;33m)\u001b[0m\u001b[1;33m\u001b[0m\u001b[0m\n\u001b[0m\u001b[0;32m    800\u001b[0m \u001b[1;33m\u001b[0m\u001b[0m\n\u001b[0;32m    801\u001b[0m     \u001b[1;32mif\u001b[0m \u001b[0mf0\u001b[0m\u001b[1;33m.\u001b[0m\u001b[0mndim\u001b[0m \u001b[1;33m!=\u001b[0m \u001b[1;36m1\u001b[0m\u001b[1;33m:\u001b[0m\u001b[1;33m\u001b[0m\u001b[0m\n",
      "\u001b[1;32mC:\\Users\\Laurie\\Anaconda2\\lib\\site-packages\\scipy\\optimize\\_lsq\\least_squares.pyc\u001b[0m in \u001b[0;36mfun_wrapped\u001b[1;34m(x)\u001b[0m\n\u001b[0;32m    792\u001b[0m \u001b[1;33m\u001b[0m\u001b[0m\n\u001b[0;32m    793\u001b[0m     \u001b[1;32mdef\u001b[0m \u001b[0mfun_wrapped\u001b[0m\u001b[1;33m(\u001b[0m\u001b[0mx\u001b[0m\u001b[1;33m)\u001b[0m\u001b[1;33m:\u001b[0m\u001b[1;33m\u001b[0m\u001b[0m\n\u001b[1;32m--> 794\u001b[1;33m         \u001b[1;32mreturn\u001b[0m \u001b[0mnp\u001b[0m\u001b[1;33m.\u001b[0m\u001b[0matleast_1d\u001b[0m\u001b[1;33m(\u001b[0m\u001b[0mfun\u001b[0m\u001b[1;33m(\u001b[0m\u001b[0mx\u001b[0m\u001b[1;33m,\u001b[0m \u001b[1;33m*\u001b[0m\u001b[0margs\u001b[0m\u001b[1;33m,\u001b[0m \u001b[1;33m**\u001b[0m\u001b[0mkwargs\u001b[0m\u001b[1;33m)\u001b[0m\u001b[1;33m)\u001b[0m\u001b[1;33m\u001b[0m\u001b[0m\n\u001b[0m\u001b[0;32m    795\u001b[0m \u001b[1;33m\u001b[0m\u001b[0m\n\u001b[0;32m    796\u001b[0m     \u001b[1;32mif\u001b[0m \u001b[0mmethod\u001b[0m \u001b[1;33m==\u001b[0m \u001b[1;34m'trf'\u001b[0m\u001b[1;33m:\u001b[0m\u001b[1;33m\u001b[0m\u001b[0m\n",
      "\u001b[1;32mC:\\Users\\Laurie\\Dropbox\\Cecidomyie\\Python\\SimulationsFonctions.pyc\u001b[0m in \u001b[0;36mobjectif1\u001b[1;34m(params, nb_larves, It, step)\u001b[0m\n\u001b[0;32m     87\u001b[0m \u001b[1;32mdef\u001b[0m \u001b[0mobjectif1\u001b[0m \u001b[1;33m(\u001b[0m\u001b[0mparams\u001b[0m\u001b[1;33m,\u001b[0m \u001b[0mnb_larves\u001b[0m\u001b[1;33m,\u001b[0m \u001b[0mIt\u001b[0m\u001b[1;33m,\u001b[0m \u001b[0mstep\u001b[0m\u001b[1;33m)\u001b[0m \u001b[1;33m:\u001b[0m\u001b[1;33m\u001b[0m\u001b[0m\n\u001b[0;32m     88\u001b[0m     \u001b[1;32mglobal\u001b[0m \u001b[0mdistvalues\u001b[0m\u001b[1;33m\u001b[0m\u001b[0m\n\u001b[1;32m---> 89\u001b[1;33m     \u001b[0mii\u001b[0m \u001b[1;33m=\u001b[0m \u001b[0mintegrate\u001b[0m\u001b[1;33m(\u001b[0m\u001b[0mparams\u001b[0m\u001b[1;33m[\u001b[0m\u001b[1;36m0\u001b[0m\u001b[1;33m]\u001b[0m\u001b[1;33m,\u001b[0m\u001b[0mparams\u001b[0m\u001b[1;33m[\u001b[0m\u001b[1;36m1\u001b[0m\u001b[1;33m]\u001b[0m\u001b[1;33m,\u001b[0m\u001b[0mparams\u001b[0m\u001b[1;33m[\u001b[0m\u001b[1;36m2\u001b[0m\u001b[1;33m]\u001b[0m\u001b[1;33m,\u001b[0m\u001b[0mIt\u001b[0m\u001b[1;33m,\u001b[0m\u001b[0mstep\u001b[0m\u001b[1;33m)\u001b[0m\u001b[1;33m[\u001b[0m\u001b[1;36m1\u001b[0m\u001b[1;33m]\u001b[0m\u001b[1;33m\u001b[0m\u001b[0m\n\u001b[0m\u001b[0;32m     90\u001b[0m     \u001b[0mval\u001b[0m \u001b[1;33m=\u001b[0m \u001b[0mdistance1\u001b[0m\u001b[1;33m(\u001b[0m\u001b[0mii\u001b[0m\u001b[1;33m,\u001b[0m \u001b[0mnb_larves\u001b[0m\u001b[1;33m)\u001b[0m\u001b[1;33m\u001b[0m\u001b[0m\n\u001b[0;32m     91\u001b[0m     \u001b[0mdistvalues\u001b[0m\u001b[1;33m.\u001b[0m\u001b[0mappend\u001b[0m\u001b[1;33m(\u001b[0m\u001b[0mval\u001b[0m\u001b[1;33m)\u001b[0m\u001b[1;33m\u001b[0m\u001b[0m\n",
      "\u001b[1;32mC:\\Users\\Laurie\\Dropbox\\Cecidomyie\\Python\\SimulationsFonctions.pyc\u001b[0m in \u001b[0;36mintegrate\u001b[1;34m(lambda_, mu_MS, pl, It, step, RR)\u001b[0m\n\u001b[0;32m     71\u001b[0m \u001b[1;33m\u001b[0m\u001b[0m\n\u001b[0;32m     72\u001b[0m     \u001b[1;32mfor\u001b[0m \u001b[0mi\u001b[0m \u001b[1;32min\u001b[0m \u001b[0mrange\u001b[0m \u001b[1;33m(\u001b[0m\u001b[1;36m1\u001b[0m\u001b[1;33m,\u001b[0m\u001b[0mTotJours\u001b[0m\u001b[1;33m+\u001b[0m\u001b[1;36m1\u001b[0m\u001b[1;33m)\u001b[0m \u001b[1;33m:\u001b[0m\u001b[1;33m\u001b[0m\u001b[0m\n\u001b[1;32m---> 73\u001b[1;33m         \u001b[0mNt\u001b[0m\u001b[1;33m,\u001b[0m \u001b[0mLt\u001b[0m\u001b[1;33m,\u001b[0m \u001b[0mLt_p\u001b[0m \u001b[1;33m=\u001b[0m \u001b[0mstep\u001b[0m \u001b[1;33m(\u001b[0m\u001b[0mi\u001b[0m\u001b[1;33m,\u001b[0m \u001b[0mNt\u001b[0m\u001b[1;33m,\u001b[0m \u001b[0mLt\u001b[0m\u001b[1;33m,\u001b[0m \u001b[0mLt_p\u001b[0m\u001b[1;33m,\u001b[0m \u001b[0mlambda_\u001b[0m\u001b[1;33m,\u001b[0m \u001b[0mmu_MS\u001b[0m\u001b[1;33m,\u001b[0m \u001b[0mpl\u001b[0m\u001b[1;33m,\u001b[0m \u001b[0mIt\u001b[0m\u001b[1;33m,\u001b[0m \u001b[0mRR\u001b[0m\u001b[1;33m)\u001b[0m\u001b[1;33m\u001b[0m\u001b[0m\n\u001b[0m\u001b[0;32m     74\u001b[0m \u001b[1;33m\u001b[0m\u001b[0m\n\u001b[0;32m     75\u001b[0m     \u001b[1;31m# A la fin de la boucle,\u001b[0m\u001b[1;33m\u001b[0m\u001b[1;33m\u001b[0m\u001b[0m\n",
      "\u001b[1;32m<ipython-input-8-63d5958d477a>\u001b[0m in \u001b[0;36mstep\u001b[1;34m(t, Nt, Lt, Lt_p, R_, lambda_, mu_MS_pl, k, RR)\u001b[0m\n\u001b[0;32m      8\u001b[0m         \u001b[0mR\u001b[0m \u001b[1;33m=\u001b[0m \u001b[1;36m1\u001b[0m\u001b[1;33m\u001b[0m\u001b[0m\n\u001b[0;32m      9\u001b[0m     \u001b[1;32melse\u001b[0m \u001b[1;33m:\u001b[0m\u001b[1;33m\u001b[0m\u001b[0m\n\u001b[1;32m---> 10\u001b[1;33m         \u001b[1;32mif\u001b[0m \u001b[1;33m(\u001b[0m\u001b[0mNt\u001b[0m\u001b[1;33m[\u001b[0m\u001b[0mt\u001b[0m\u001b[1;33m-\u001b[0m\u001b[1;36m1\u001b[0m\u001b[1;33m]\u001b[0m \u001b[1;33m<\u001b[0m \u001b[1;33m(\u001b[0m\u001b[0mIt\u001b[0m\u001b[1;33m[\u001b[0m\u001b[0mt\u001b[0m\u001b[1;33m-\u001b[0m\u001b[1;36m1\u001b[0m\u001b[1;33m]\u001b[0m\u001b[1;33m)\u001b[0m\u001b[1;33m)\u001b[0m\u001b[1;33m:\u001b[0m\u001b[1;33m\u001b[0m\u001b[0m\n\u001b[0m\u001b[0;32m     11\u001b[0m             \u001b[0mR\u001b[0m \u001b[1;33m=\u001b[0m \u001b[1;36m1\u001b[0m\u001b[1;33m\u001b[0m\u001b[0m\n\u001b[0;32m     12\u001b[0m         \u001b[1;32melse\u001b[0m \u001b[1;33m:\u001b[0m\u001b[1;33m\u001b[0m\u001b[0m\n",
      "\u001b[1;31mNameError\u001b[0m: global name 'It' is not defined"
     ]
    }
   ],
   "source": [
    "min_distvalues_1, res_1, min_init_1, L_t_1 = visual_optimization_bis(optimize1, p0, Bloc1_nb_larves, Bloc1_nb_inflo, bounds, Jours, step)\n",
    "print min_distvalues_1\n",
    "print res_1\n",
    "print min_init_1\n",
    "#min_distvalues_1, res_1, min_init_1, L_t_1 = visual_optimization_bis(optimize2, p0)\n",
    "#print min_distvalues_1\n",
    "#print res_1\n",
    "#print min_init_1\n",
    "#min_distvalues_1, res_1, min_init_1, L_t_1 = visual_optimization_bis(optimizeInf, p0)\n",
    "#print min_distvalues_1\n",
    "#print res_1\n",
    "#print min_init_1"
   ]
  },
  {
   "cell_type": "markdown",
   "metadata": {},
   "source": [
    "## BLOC 1 _ ENHERBEMENT HAUT"
   ]
  },
  {
   "cell_type": "code",
   "execution_count": null,
   "metadata": {},
   "outputs": [],
   "source": [
    "lambda_0 = np.arange(50,101,50)\n",
    "mu_MS_pl_0 = np.arange(0,0.6,0.5)\n",
    "k = np.arange(0,2,0.05)\n",
    "p0 = (lambda_0, mu_MS_pl_0, k)"
   ]
  },
  {
   "cell_type": "code",
   "execution_count": null,
   "metadata": {},
   "outputs": [],
   "source": [
    "# Bornes pour les paramètres à estimer\n",
    "bounds = ([0, 0, 0], [np.inf, 0.5, np.inf])"
   ]
  },
  {
   "cell_type": "code",
   "execution_count": null,
   "metadata": {},
   "outputs": [],
   "source": [
    "Bloc1_enh_haut_nb_larves, Bloc1_enh_haut_nb_inflo, Bloc1_enh_haut_nb_inflo_morte = bloc(\"Bloc1_enh_haut_jour\", \"date\", \"1\", 'larves', 'inflos_vivantes', 'inflos_mortes')"
   ]
  },
  {
   "cell_type": "code",
   "execution_count": null,
   "metadata": {
    "scrolled": false
   },
   "outputs": [],
   "source": [
    "min_distvalues_1_enh_haut, res_1_enh_haut, min_init_1_enh_haut, L_t_1_enh_haut = visual_optimization_bis(optimize1, p0, Bloc1_enh_haut_nb_larves, Bloc1_enh_haut_nb_inflo, bounds, Jours, step)\n",
    "print min_distvalues_1_enh_haut\n",
    "print res_1_enh_haut\n",
    "print min_init_1_enh_haut\n",
    "#min_distvalues_1_enh_haut, res_1_enh_haut, min_init_1_enh_haut, L_t_1_enh_haut = visual_optimization_bis(optimize2, p0)\n",
    "#print min_distvalues_1_enh_haut\n",
    "#print res_1_enh_haut\n",
    "#print min_init_1_enh_haut\n",
    "#min_distvalues_1_enh_haut, res_1_enh_haut, min_init_1_enh_haut, L_t_1_enh_haut = visual_optimization_bis(optimizeInf, p0)\n",
    "#print min_distvalues_1_enh_haut\n",
    "#print res_1_enh_haut\n",
    "#print min_init_1_enh_haut"
   ]
  },
  {
   "cell_type": "markdown",
   "metadata": {},
   "source": [
    "## BLOC 1 _ ENHERBEMENT RAS"
   ]
  },
  {
   "cell_type": "code",
   "execution_count": null,
   "metadata": {},
   "outputs": [],
   "source": [
    "lambda_0 = np.arange(50,101,50)\n",
    "mu_MS_pl_0 = np.arange(0.5,1.1,0.5)\n",
    "k = np.arange(0,2,0.05)\n",
    "p0 = (lambda_0, mu_MS_pl_0, k)"
   ]
  },
  {
   "cell_type": "code",
   "execution_count": null,
   "metadata": {},
   "outputs": [],
   "source": [
    "# Bornes pour les paramètres à estimer\n",
    "bounds = ([0, 0.5, 0], [np.inf, 1, np.inf])"
   ]
  },
  {
   "cell_type": "code",
   "execution_count": null,
   "metadata": {},
   "outputs": [],
   "source": [
    "Bloc1_enh_ras_nb_larves, Bloc1_enh_ras_nb_inflo, Bloc1_enh_ras_nb_inflo_morte = bloc(\"Bloc1_enh_ras_jour\", \"date\", \"1\", 'larves', 'inflos_vivantes', 'inflos_mortes')"
   ]
  },
  {
   "cell_type": "code",
   "execution_count": null,
   "metadata": {
    "scrolled": false
   },
   "outputs": [],
   "source": [
    "min_distvalues_1_enh_ras, res_1_enh_ras, min_init_1_enh_ras, L_t_1_enh_ras = visual_optimization_bis(optimize1, p0, Bloc1_enh_ras_nb_larves, Bloc1_enh_ras_nb_inflo, bounds, Jours, step)\n",
    "print min_distvalues_1_enh_ras\n",
    "print res_1_enh_ras\n",
    "print min_init_1_enh_ras\n",
    "#min_distvalues_1_enh_ras, res_1_enh_ras, min_init_1_enh_ras, L_t_1_enh_ras = visual_optimization_bis(optimize2, p0)\n",
    "#print min_distvalues_1_enh_ras\n",
    "#print res_1_enh_ras\n",
    "#print min_init_1_enh_ras\n",
    "#min_distvalues_1_enh_ras, res_1_enh_ras, min_init_1_enh_ras, L_t_1_enh_ras = visual_optimization_bis(optimizeInf, p0)\n",
    "#print min_distvalues_1_enh_ras\n",
    "#print res_1_enh_ras\n",
    "#print min_init_1_enh_ras"
   ]
  },
  {
   "cell_type": "markdown",
   "metadata": {},
   "source": [
    "## BLOC 2"
   ]
  },
  {
   "cell_type": "code",
   "execution_count": null,
   "metadata": {},
   "outputs": [],
   "source": [
    "lambda_0 = np.arange(50,101,50)\n",
    "mu_MS_pl_0 = np.arange(0.5,1.1,0.5)\n",
    "k = np.arange(0,2,0.05)\n",
    "p0 = (lambda_0, mu_MS_pl_0, k)"
   ]
  },
  {
   "cell_type": "code",
   "execution_count": null,
   "metadata": {},
   "outputs": [],
   "source": [
    "# Bornes pour les paramètres à estimer\n",
    "bounds = ([0, 0, 0], [np.inf, 1, np.inf])"
   ]
  },
  {
   "cell_type": "code",
   "execution_count": null,
   "metadata": {},
   "outputs": [],
   "source": [
    "Bloc2_nb_larves, Bloc2_nb_inflo, Bloc2_nb_inflo_morte = bloc(\"Bloc2_jour\", \"date\", \"1\", 'larves', 'inflos_vivantes', 'inflos_mortes')"
   ]
  },
  {
   "cell_type": "code",
   "execution_count": null,
   "metadata": {
    "scrolled": false
   },
   "outputs": [],
   "source": [
    "min_distvalues_2, res_2, min_init_2, L_t_2 = visual_optimization_bis(optimize1, p0, Bloc2_nb_larves, Bloc2_nb_inflo, bounds, Jours, step)\n",
    "print min_distvalues_2\n",
    "print res_2\n",
    "print min_init_2\n",
    "#min_distvalues_2, res_2, min_init_2, L_t_2 = visual_optimization_bis(optimize2, p0)\n",
    "#print min_distvalues_2\n",
    "#print res_2\n",
    "#print min_init_2\n",
    "#min_distvalues_2, res_2, min_init_2, L_t_2 = visual_optimization_bis(optimizeInf, p0)\n",
    "#print min_distvalues_2\n",
    "#print res_2\n",
    "#print min_init_2"
   ]
  },
  {
   "cell_type": "markdown",
   "metadata": {},
   "source": [
    "## BLOC 2 _ ENHERBEMENT HAUT"
   ]
  },
  {
   "cell_type": "code",
   "execution_count": null,
   "metadata": {},
   "outputs": [],
   "source": [
    "lambda_0 = np.arange(150,201,50)\n",
    "mu_MS_pl_0 = np.arange(0,0.6,0.5)\n",
    "k = np.arange(0,2,0.05)\n",
    "p0 = (lambda_0, mu_MS_pl_0, k)"
   ]
  },
  {
   "cell_type": "code",
   "execution_count": null,
   "metadata": {},
   "outputs": [],
   "source": [
    "# Bornes pour les paramètres à estimer\n",
    "bounds = ([0, 0, 0], [np.inf, 0.5, np.inf])"
   ]
  },
  {
   "cell_type": "code",
   "execution_count": null,
   "metadata": {},
   "outputs": [],
   "source": [
    "Bloc2_enh_haut_nb_larves, Bloc2_enh_haut_nb_inflo, Bloc2_enh_haut_nb_inflo_morte = bloc(\"Bloc2_enh_haut_jour\", \"date\", \"1\", 'larves', 'inflos_vivantes', 'inflos_mortes')"
   ]
  },
  {
   "cell_type": "code",
   "execution_count": null,
   "metadata": {
    "scrolled": false
   },
   "outputs": [],
   "source": [
    "min_distvalues_2_enh_haut, res_2_enh_haut, min_init_2_enh_haut, L_t_2_enh_haut = visual_optimization_bis(optimize1, p0, Bloc2_enh_haut_nb_larves, Bloc2_enh_haut_nb_inflo, bounds, Jours, step)\n",
    "print min_distvalues_2_enh_haut\n",
    "print res_2_enh_haut\n",
    "print min_init_2_enh_haut\n",
    "#min_distvalues_2_enh_haut, res_2_enh_haut, min_init_2_enh_haut, L_t_2_enh_haut = visual_optimization_bis(optimize2, p0)\n",
    "#print min_distvalues_2_enh_haut\n",
    "#print res_2_enh_haut\n",
    "#print min_init_2_enh_haut\n",
    "#min_distvalues_2_enh_haut, res_2_enh_haut, min_init_2_enh_haut, L_t_2_enh_haut = visual_optimization_bis(optimizeInf, p0)\n",
    "#print min_distvalues_2_enh_haut\n",
    "#print res_2_enh_haut\n",
    "#print min_init_2_enh_haut"
   ]
  },
  {
   "cell_type": "markdown",
   "metadata": {},
   "source": [
    "## BLOC 2 _ ENHERBEMENT RAS"
   ]
  },
  {
   "cell_type": "code",
   "execution_count": null,
   "metadata": {},
   "outputs": [],
   "source": [
    "lambda_0 = np.arange(150,201,1)\n",
    "mu_MS_pl_0 = np.arange(0.5,1.1,0.5)\n",
    "k = np.arange(0,2,0.05)\n",
    "p0 = (lambda_0, mu_MS_pl_0, k)"
   ]
  },
  {
   "cell_type": "code",
   "execution_count": null,
   "metadata": {},
   "outputs": [],
   "source": [
    "# Bornes pour les paramètres à estimer\n",
    "bounds = ([0, 0.5, 0], [np.inf, 1, np.inf])"
   ]
  },
  {
   "cell_type": "code",
   "execution_count": null,
   "metadata": {},
   "outputs": [],
   "source": [
    "Bloc2_enh_ras_nb_larves, Bloc2_enh_ras_nb_inflo, Bloc2_enh_ras_nb_inflo_morte = bloc(\"Bloc2_enh_ras_jour\", \"date\", \"1\", 'larves', 'inflos_vivantes', 'inflos_mortes')"
   ]
  },
  {
   "cell_type": "code",
   "execution_count": null,
   "metadata": {
    "scrolled": false
   },
   "outputs": [],
   "source": [
    "min_distvalues_2_enh_ras, res_2_enh_ras, min_init_2_enh_ras, L_t_2_enh_ras = visual_optimization_bis(optimize1, p0, Bloc2_enh_ras_nb_larves, Bloc2_enh_ras_nb_inflo, bounds, Jours, step)\n",
    "print min_distvalues_2_enh_ras\n",
    "print res_2_enh_ras\n",
    "print min_init_2_enh_ras\n",
    "#min_distvalues_2_enh_ras, res_2_enh_ras, min_init_2_enh_ras, L_t_2_enh_ras = visual_optimization_bis(optimize2, p0)\n",
    "#print min_distvalues_2_enh_ras\n",
    "#print res_2_enh_ras\n",
    "#print min_init_2_enh_ras\n",
    "#min_distvalues_2_enh_ras, res_2_enh_ras, min_init_2_enh_ras, L_t_2_enh_ras = visual_optimization_bis(optimizeInf, p0)\n",
    "#print min_distvalues_2_enh_ras\n",
    "#print res_2_enh_ras\n",
    "#print min_init_2_enh_ras"
   ]
  },
  {
   "cell_type": "code",
   "execution_count": null,
   "metadata": {},
   "outputs": [],
   "source": []
  }
 ],
 "metadata": {
  "kernelspec": {
   "display_name": "Python 2",
   "language": "python",
   "name": "python2"
  },
  "language_info": {
   "codemirror_mode": {
    "name": "ipython",
    "version": 2
   },
   "file_extension": ".py",
   "mimetype": "text/x-python",
   "name": "python",
   "nbconvert_exporter": "python",
   "pygments_lexer": "ipython2",
   "version": "2.7.15"
  }
 },
 "nbformat": 4,
 "nbformat_minor": 2
}
