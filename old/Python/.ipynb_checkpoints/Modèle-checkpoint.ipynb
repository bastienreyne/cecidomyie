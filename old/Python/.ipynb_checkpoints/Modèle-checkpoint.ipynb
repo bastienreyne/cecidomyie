{
 "cells": [
  {
   "cell_type": "markdown",
   "metadata": {},
   "source": [
    "# Modèle manguier-CdF"
   ]
  },
  {
   "cell_type": "markdown",
   "metadata": {},
   "source": [
    "## Partie CdF"
   ]
  },
  {
   "cell_type": "markdown",
   "metadata": {},
   "source": [
    "**Soit $N_t$ la population estimée d'adultes dans le verger à la date t.** Pour simuler la dynamique de cette population, on utilise l'équation suivante:\n",
    "\n",
    "$$N_t = \\lambda_t + L_{t-d_p} \\times \\mu_{MS} \\times p_l \\times p_{pup} \\times \\frac{1}{2}$$\n",
    "\n",
    "avec $\\mu_{MS} = \\mu^1_{MS} \\times \\mu^2_{MS}$ $p_{pup} = p_p \\times \\mu_p$\n",
    "\n",
    "* $\\lambda_t$ le nombre d'adultes entrant dans le verger à la date t. \n",
    "\n",
    "* $L_{t-d_p}$ le nombre de larves s'éjectant au sol à la date $t-d_p$\n",
    "\n",
    "* $d_p$ la durée de pupaison\n",
    "\n",
    "* $\\mu^1_{MS}$ la probabilité de survie de la larve de l’éjection au sol jusqu’à ce qu’elle rentre en terre selon la modalité du sol.\n",
    "\n",
    "* $p_p$ la probabilité pour une larve d'entrer en pupaison\n",
    "* $\\mu_p$ la probabilité pour une pupe de survivre jusqu'à la fin de la pupaison\n",
    "\n",
    "* $\\mu^2_{MS}$ la probabilité pour l’adulte de sortir du sol selon la modalité du sol.\n",
    "\n",
    "* $p_{l}$ est la probabilité pour l’adulte de rester dans le verger quand il sort du sol. \n",
    "\n",
    "* $d_p$ est la durée de pupaison.\n",
    "\n",
    "* Le sex ratio est de $\\frac{1}{2}$"
   ]
  },
  {
   "cell_type": "markdown",
   "metadata": {},
   "source": [
    "**Soit $L_t$ le nombre estimé de larves qui s'éjectent à la date t.**\n",
    "\n",
    "$$L_{t} = N_{t-d_l} \\times R_{t-d_l} \\times E \\times \\mu$$\n",
    "\n",
    "* $N_{t-d_l}$ le nombre d'adultes à la date $t-d_l$\n",
    "* $d_l$ est la durée de dévelopement des larves et des oeufs\n",
    "* $R_{t-d_l}$ la disponibilité en ressource (inflorescences) à la date $t-d_l$\n",
    "* $E$ est le nombre moyen d'oeufs pondus par une femelle\n",
    "* $\\mu$ est la probabilité de survie des oeufs jusqu'au troisième stade de larvaire"
   ]
  },
  {
   "cell_type": "markdown",
   "metadata": {},
   "source": [
    "On estime la disponibilité en ressource (inflorescence) par un coefficient $R$ estimé de la manière suivante:\n",
    "\n",
    "$$R_{t-d_l} =  \\begin{cases} 1  & \\text{ si } N_{t-d_l} < k \\times I_{t-d_l} \\\\  \\frac{k \\times I_{t-d_l}}{N_{t-d_l}} & \\text{ sinon. }  \\end{cases} $$\n",
    "\n",
    " * $k$ le nombre maximal d'adultes que peut supporter une inflorescence chaque jour\n"
   ]
  },
  {
   "cell_type": "markdown",
   "metadata": {},
   "source": [
    "**Soit $L^p_t$ est le nombre estimé de larves piégées à la date t.**\n",
    "\n",
    "$$L^p_t = L_t \\times \\beta$$ \n",
    "\n",
    "* $\\beta$ est un coefficient mesurant l'efficacité du piège."
   ]
  },
  {
   "cell_type": "markdown",
   "metadata": {},
   "source": [
    "## Partie inflorescences"
   ]
  },
  {
   "cell_type": "markdown",
   "metadata": {},
   "source": [
    "**Soit $I^d_t$ la population d'inflos à l'instant $t$ apparues le jour $d$.**\n",
    "\n",
    "$$I^d_{t} = \\begin{cases}\n",
    "I^+(d) & \\text{si } t = d \\\\\n",
    "I^d_d - \\lfloor\\frac{N^d_t}{N_{dead}}\\rfloor & \\text{si } d < t < d+T\\\\\n",
    "0 & \\text{sinon }\n",
    "\\end{cases}$$\n",
    "\n",
    " * $T$ la durée de vie d'une inflorescence\n",
    " * $N_{dead}$ le nombre d'adultes accumulés sur une inflorescence qui garantit sa mort\n",
    " * $N^d_t$ le nombre d'adultes accumulés sur les inflorescences apparues le jour $d$, depuis la date $d$ jusqu'à la date $t$\n",
    " \n",
    "**Soit $N_t^{pond}$ la population d'adultes qui pond à la date t**\n",
    "\n",
    "$$N_t^{pond} = N_t \\times R_t$$\n",
    "\n",
    "Ces adultes sont distribuées aléatoirement sur toutes les inflorescences vivantes à la date $t$. Les inflorescences sont groupées par date d'apparition.\n",
    "\n",
    "**Soit $N_t^{pond,d}$ la population d'adultes qui pond à la date t sur les inflorescences apparues à la date $d$**\n",
    "\n",
    "Alors, $N^d_t$ le nombre d'adultes accumulés sur les inflorescences apparues le jour $d$, depuis la date $d$ jusqu'à la date $t$ est définie ainsi : \n",
    "\n",
    "$$N^d_t = \\sum_{i=d}^{t} N_i^{pond,d}$$\n",
    "\n",
    "\n",
    "Soit $I_t$ le nombre estimé d'inflos dans le verger.\n",
    "\n",
    "$$I_t = \\sum_d I^d_t$$"
   ]
  },
  {
   "cell_type": "markdown",
   "metadata": {},
   "source": [
    "# ISABELLE ET FRED : EXPLICATIONS MODULE DEGAT\n",
    "\n",
    "Dans la partie précédente, le module dégât est décrit par des équations. Dans ce paragraphe, je vais expliquer mon intention au cas où les équations ne soient pas claires. \n",
    "\n",
    "ENTREE DU MODULE DEGAT :\n",
    "* $I^+$ le vecteur contenant le nombre d'inflos apparaissant à chaque date \n",
    "* $N$ le vecteur contenant le nombre d'adultes dans le verger à chaque date\n",
    "\n",
    "A chaque date $t$, on ne garde que les adultes qui peuvent pondre, c'est à dire, celles qui ont trouvé une ressource disponible. On ré utilise, la variable $R_t$ exprimant la disponibilité en ressource à la date $t$. Ainsi, le nombre de cécidomyies pondeuses à la date $t$ sont : $$N_t^{pond} = N_t \\times R_t$$\n",
    "\n",
    "Ces cécidomyies pondeuses sont distribuées aléatoirement sur les groupes d'inflorescences contenant des inflorescences vivantes à la date $t$. \n",
    "\n",
    "Le groupe d'inflorescences $d$ contient toutes les inflorescences apparues à la date $d$.\n",
    "\n",
    "On accumule des adultes sur chaque groupe d'inflorescences : $$N^d_t = \\sum_{i=d}^{t} N_i^{pond,d}$$\n",
    "\n",
    "* Si $N^d_t<N_{dead}$. Alors, aucune inflorescence du groupe $d$ ne meurt à la date $t$.\n",
    "* Si $N^d_t \\leq \\alpha N_{dead}$. Alors $\\alpha$ inflorescences du groupe $d$ meurt à la date $t$.\n",
    "\n",
    "$N_{dead}$ est le nombre d'adultes qui garantit la mort d'une inflorescence. "
   ]
  },
  {
   "cell_type": "code",
   "execution_count": null,
   "metadata": {},
   "outputs": [],
   "source": []
  },
  {
   "cell_type": "code",
   "execution_count": null,
   "metadata": {},
   "outputs": [],
   "source": []
  },
  {
   "cell_type": "code",
   "execution_count": null,
   "metadata": {},
   "outputs": [],
   "source": []
  }
 ],
 "metadata": {
  "kernelspec": {
   "display_name": "Python 2",
   "language": "python",
   "name": "python2"
  },
  "language_info": {
   "codemirror_mode": {
    "name": "ipython",
    "version": 2
   },
   "file_extension": ".py",
   "mimetype": "text/x-python",
   "name": "python",
   "nbconvert_exporter": "python",
   "pygments_lexer": "ipython2",
   "version": "2.7.15"
  }
 },
 "nbformat": 4,
 "nbformat_minor": 2
}
