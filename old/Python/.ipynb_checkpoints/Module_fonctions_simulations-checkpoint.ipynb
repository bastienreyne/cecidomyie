{
 "cells": [
  {
   "cell_type": "markdown",
   "metadata": {},
   "source": [
    "## Fonctions pour les fichiers Simulations"
   ]
  },
  {
   "cell_type": "markdown",
   "metadata": {},
   "source": [
    "* Pour importer toutes les librairies d'un coup"
   ]
  },
  {
   "cell_type": "code",
   "execution_count": null,
   "metadata": {},
   "outputs": [],
   "source": [
    "def imp_lib() :\n",
    "    from datetime import date, timedelta\n",
    "    from IPython.display import Image\n",
    "    from itertools import *\n",
    "    from pandas import * \n",
    "    from scipy.interpolate import interp1d\n",
    "    from scipy.optimize import least_squares\n",
    "    from scipy.stats import norm\n",
    "    import csv\n",
    "    import matplotlib.pyplot as plt\n",
    "    import numpy as np\n",
    "    import os\n",
    "    import random\n",
    "    import scipy"
   ]
  },
  {
   "cell_type": "markdown",
   "metadata": {},
   "source": [
    "* Pour déclarer les parametres connus "
   ]
  },
  {
   "cell_type": "code",
   "execution_count": null,
   "metadata": {},
   "outputs": [],
   "source": [
    "def param_connus():\n",
    "    E = 150\n",
    "    mu = 0.04\n",
    "    d_l = 10\n",
    "    d_p = 5\n",
    "    beta = 1 \n",
    "    p_pup = (71.2+77)/2/100 \n",
    "    return E, mu, d_l, d_p, beta, p_pup"
   ]
  },
  {
   "cell_type": "markdown",
   "metadata": {},
   "source": [
    "* Pour extraire d'un fichier \"Nom\" le nombre de larves, le nombre d'inflorescences vivantes et le nombre d'inflorescences mortes"
   ]
  },
  {
   "cell_type": "code",
   "execution_count": null,
   "metadata": {},
   "outputs": [],
   "source": [
    "def fichier (Nom) :\n",
    "    os.chdir(u\"../Fichiers de données/Données ré organisées/Fichier piège\")\n",
    "    f = read_excel(Nom+'.xls', \"1\")\n",
    "    liste = f.groupby(\"date\").sum()\n",
    "    nb_larves = liste[\"nb_larves\"]\n",
    "    nb_inflo = liste[\"nb_inflo\"]\n",
    "    nb_inflo_morte = liste[\"nb_inflo_morte\"]   \n",
    "    return nb_larves, nb_inflo, nb_inflo_morte"
   ]
  },
  {
   "cell_type": "markdown",
   "metadata": {},
   "source": [
    "* Cette fonction renvoie chaque variable du système au temps t suivant. "
   ]
  },
  {
   "cell_type": "code",
   "execution_count": null,
   "metadata": {},
   "outputs": [],
   "source": [
    "def step (t, Nt, Lt, Lt_p, lambda_, mu_MS, pl, RR=0) :\n",
    "     \n",
    "    if (t==1) : \n",
    "        R = 1\n",
    "    else :\n",
    "        if (Nt[-1] < (It[t-1])):\n",
    "            R = 1\n",
    "        else :\n",
    "            R = It[t-1]/Nt[-1]\n",
    "    \n",
    "    if (RR==1) :\n",
    "        print R\n",
    "\n",
    "    if (t <= d_l) :\n",
    "        Lt_plus_1 = 0\n",
    "    else : \n",
    "        Lt_plus_1 = Nt[-1-d_l] * R * E * mu / 2\n",
    "    \n",
    "    Lt_p_plus_1 = Lt_plus_1 * beta\n",
    "\n",
    "    Nt_plus_1 = lambda_\n",
    "    if (t > d_p) :\n",
    "        Nt_plus_1 +=  Lt[-1-d_p] * mu_MS * p_pup * pl \n",
    "    \n",
    "    #It_tmp = np.zeros((TotJours+1))\n",
    "    #It_tmp[t] = II[t]\n",
    "    #for i in range (max(t-T,0),t) :\n",
    "    #    It_tmp[i] = It_d[i]*(1-gamma*Nt[-1])\n",
    "    #It_d = It_tmp\n",
    "    #It_plus_1 = np.sum(It_d)\n",
    "    \n",
    "    Nt.append(Nt_plus_1)\n",
    "    #It.append(It_plus_1)\n",
    "    Lt.append(Lt_plus_1)\n",
    "    Lt_p.append(Lt_p_plus_1)\n",
    "    \n",
    "    return Nt, Lt, Lt_p"
   ]
  },
  {
   "cell_type": "markdown",
   "metadata": {},
   "source": [
    "* Cette fonction calcule toutes les variables du système au fil du temps."
   ]
  },
  {
   "cell_type": "code",
   "execution_count": null,
   "metadata": {},
   "outputs": [],
   "source": [
    "def integrate (lambda_, mu_MS, pl, RR=0) :\n",
    "    \n",
    "    Nt = [lambda_]\n",
    "    Lt = [0]\n",
    "    Lt_p = [0]\n",
    "    #It = [II[0]]\n",
    "    #It_d = (1/II[0])*np.ones((TotJours+1))\n",
    "    \n",
    "    for i in range (1,TotJours+1) :\n",
    "        Nt, Lt, Lt_p = step (i, Nt, Lt, Lt_p, lambda_, mu_MS, pl, RR)\n",
    "        \n",
    "    return np.array(Lt), np.array(Lt_p), np.array(Nt) "
   ]
  },
  {
   "cell_type": "markdown",
   "metadata": {},
   "source": [
    "* Fonctions distance"
   ]
  },
  {
   "cell_type": "code",
   "execution_count": null,
   "metadata": {},
   "outputs": [],
   "source": [
    "# Distance 1\n",
    "def distance1 (Simu,Obs) :\n",
    "    return sum(abs(Simu-Obs))\n",
    "\n",
    "# Distance euclidienne\n",
    "def distance2 (Simu,Obs) :\n",
    "    return np.sqrt(sum((Simu-Obs)**2))\n",
    "\n",
    "# Distance inf \n",
    "def distanceInf1 (Simu,Obs) :\n",
    "    return max(abs(Simu-Obs))\n",
    "\n",
    "def distanceInf2 (Simu1,Obs1,Simu2,Obs2) :\n",
    "    return max(max(abs(Simu1-Obs1)),max(abs(Simu2-Obs2)))"
   ]
  },
  {
   "cell_type": "markdown",
   "metadata": {},
   "source": [
    "* Fonctions objectif "
   ]
  },
  {
   "cell_type": "code",
   "execution_count": null,
   "metadata": {},
   "outputs": [],
   "source": [
    "def objectif1_1 (params) :\n",
    "    global distvalues\n",
    "    val = distance1(integrate(*params)[1], nb_larves) \n",
    "    distvalues.append(val)\n",
    "    return val\n",
    "\n",
    "def objectif1_2 (params) :\n",
    "    global distvalues\n",
    "    val = distance2(integrate(*params)[1], nb_larves) \n",
    "    distvalues.append(val)\n",
    "    return val\n",
    "\n",
    "def objectif1_Inf (params) :\n",
    "    global distvalues\n",
    "    val = distanceInf1(integrate(*params)[1], nb_larves) \n",
    "    distvalues.append(val)\n",
    "    return val\n",
    "\n",
    "def objectif2_1 (params) :\n",
    "    global distvalues\n",
    "    val = distance1(integrate(*params)[1], nb_larves) + abs(sum(integrate(*params)[1])-sum(nb_larves))\n",
    "    distvalues.append(val)\n",
    "    return val\n",
    "\n",
    "def objectif2_2 (params) :\n",
    "    global distvalues\n",
    "    val = distance2(integrate(*params)[1], nb_larves) + abs(sum(integrate(*params)[1])-sum(nb_larves))\n",
    "    distvalues.append(val)\n",
    "    return val\n",
    "\n",
    "def objectif2_Inf (params) :\n",
    "    global distvalues\n",
    "    val = distanceInf1(integrate(*params)[1], nb_larves) + abs(sum(integrate(*params)[1])-sum(nb_larves))\n",
    "    distvalues.append(val)\n",
    "    return val"
   ]
  },
  {
   "cell_type": "markdown",
   "metadata": {},
   "source": [
    "* Fonction d'optimisation"
   ]
  },
  {
   "cell_type": "code",
   "execution_count": null,
   "metadata": {},
   "outputs": [],
   "source": [
    "def optimize1_1 (p0) :\n",
    "    res = least_squares(objectif1_1, p0, bounds=bounds, method='trf')\n",
    "    return res.x\n",
    "\n",
    "def optimize1_2 (p0) :\n",
    "    res = least_squares(objectif1_2, p0, bounds=bounds, method='trf')\n",
    "    return res.x\n",
    "\n",
    "def optimize1_Inf (p0) :\n",
    "    res = least_squares(objectif1_Inf, p0, bounds=bounds, method='trf')\n",
    "    return res.x\n",
    "\n",
    "def optimize2_1 (p0) :\n",
    "    res = least_squares(objectif2_1, p0, bounds=bounds, method='trf')\n",
    "    return res.x\n",
    "\n",
    "def optimize2_2 (p0) :\n",
    "    res = least_squares(objectif2_2, p0, bounds=bounds, method='trf')\n",
    "    return res.x\n",
    "\n",
    "def optimize2_Inf (p0) :\n",
    "    res = least_squares(objectif2_Inf, p0, bounds=bounds, method='trf')\n",
    "    return res.x"
   ]
  },
  {
   "cell_type": "markdown",
   "metadata": {},
   "source": [
    "* Fonction de visualisation des résultats de toutes les optimisations "
   ]
  },
  {
   "cell_type": "code",
   "execution_count": null,
   "metadata": {},
   "outputs": [],
   "source": [
    "def visual_optimization_bis (optimize, p0, Jours) :\n",
    "\n",
    "    global distvalues\n",
    "    \n",
    "    min_ = 99999999999999999999999\n",
    "    p0_ = list(product(*p0))\n",
    "    N = len(list(product(*p0)))\n",
    "    \n",
    "    for cpt in range (N):\n",
    "        \n",
    "        i  = p0_[cpt][0]\n",
    "        j  = p0_[cpt][1]\n",
    "        kk = p0_[cpt][2]\n",
    "\n",
    "        distvalues = []\n",
    "        res = optimize((i,j,kk))\n",
    "        if (min(distvalues)<min_):\n",
    "            min_ = min(distvalues)\n",
    "            min_init = (i,j,kk)\n",
    "\n",
    "    distvalues = []\n",
    "    res = optimize((min_init[0], min_init[1], min_init[2]))\n",
    "    L_simu, L_t_simu, N_simu = integrate (res[0], res[1], res[2])\n",
    "    \n",
    "    plt.plot(Jours,L_t_simu,label=u\"Simulé\")\n",
    "    plt.plot(Jours,nb_larves,label=u\"Observé\")\n",
    "    plt.plot(Jours,N_simu,label=\"Cecido\")\n",
    "    plt.xticks (rotation=60)\n",
    "    plt.legend()\n",
    "    plt.title(u\"Nombre de cécidomyies au cours du temps dans le verger\")\n",
    "    plt.show()\n",
    "    \n",
    "    plt.plot(Jours,L_t_simu,label=u\"Simulé\")\n",
    "    plt.plot(Jours,nb_larves,label=u\"Observé\")\n",
    "    plt.plot(Jours,It,label=\"Inflos\")\n",
    "    plt.xticks (rotation=60)\n",
    "    plt.legend()\n",
    "    plt.title(u\"Nombre de cécidomyies au cours du temps dans le verger\")\n",
    "    plt.show()\n",
    "    \n",
    "    print (sum(L_t_simu),sum(nb_larves))\n",
    "    \n",
    "    plt.plot(np.log(distvalues))\n",
    "    plt.legend()\n",
    "    plt.title(\"Fonction objectif\")\n",
    "    plt.show()\n",
    "    \n",
    "    return min(distvalues), res, min_init, L_t_simu"
   ]
  }
 ],
 "metadata": {
  "kernelspec": {
   "display_name": "Python 2",
   "language": "python",
   "name": "python2"
  },
  "language_info": {
   "codemirror_mode": {
    "name": "ipython",
    "version": 2
   },
   "file_extension": ".py",
   "mimetype": "text/x-python",
   "name": "python",
   "nbconvert_exporter": "python",
   "pygments_lexer": "ipython2",
   "version": "2.7.15"
  }
 },
 "nbformat": 4,
 "nbformat_minor": 2
}
