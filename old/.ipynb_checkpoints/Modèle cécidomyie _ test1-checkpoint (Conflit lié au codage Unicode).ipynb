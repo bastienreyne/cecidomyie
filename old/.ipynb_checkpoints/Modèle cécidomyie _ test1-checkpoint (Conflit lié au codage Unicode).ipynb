{
 "cells": [
  {
   "cell_type": "markdown",
   "metadata": {},
   "source": [
    "# Modèle cécidomyie _ test1"
   ]
  },
  {
   "cell_type": "markdown",
   "metadata": {},
   "source": [
    "Suite à la réunion du 21/03/2018 avec Isabelle et Fred B, nous avons établi des équations permettant de définir le modèle cécidomyie sans la composante spatiale. Ici, je vais coder ce nouveau petit modèle afin d'avoir une idée des valeurs de paramètres que l'on cherche. "
   ]
  },
  {
   "cell_type": "markdown",
   "metadata": {},
   "source": [
    "### Loi de dévelopement du système\n",
    "\n",
    "\n",
    "Soit $N_t$ la population estimée d'adultes dans le verger.\n",
    "\n",
    "$\\frac{dN}{dt} = \\lambda + L_{t-d_p} \\times \\mu_{MS} \\times p_{pup} \\times p_{l} - \\alpha * N$.\n",
    "\n",
    "avec $\\alpha$ le taux de mortalité égal à 1 et $\\mu_{MS} = \\mu^1_{MS} \\times \\mu^2_{MS}$.\n",
    " \n",
    "Soit $L_t$ est le nombre estimé de larves qui s'éjectent à la date t.\n",
    "\n",
    "$L_t = N_{t-d_l} \\times R \\times E \\times \\mu    $. \n",
    "\n",
    "Soit $L^p_t$ est le nombre estimé de larves piégées à la date t.\n",
    "\n",
    "$L^p_t = L_t \\times \\beta$. \n",
    "\n",
    "Soit $I_t$ le nombre estimé d'inflos dans le verger.\n",
    "\n",
    "$\\frac{dI_t}{dt} = - I_{t-1} \\times \\gamma \\times N_t + I^+$\n",
    "\n",
    "On estime la disponibilité en ressource (inflorescence) par un coefficient $R$ estimé de la manière suivante:\n",
    "\n",
    "$R = ( 1 -  \\frac{N_t}{k \\times I_t})$ si $N_t < k \\times I_t$, 0 sinon. \n",
    "\n",
    "Ca sert à ne pas compter les larves si elles ne peuvent pas se poser sur une inflo (i.e. s'il n'y a pas de ressources dans le verger)\n",
    "\n"
   ]
  },
  {
   "cell_type": "markdown",
   "metadata": {},
   "source": [
    "On utilise les différences finies sur l'équation suivante : $\\frac{dI_t}{dt} = - I_{t-1} \\times \\gamma \\times N_t + I^+$\n",
    "\n",
    "Ce qui donne : $\\frac{I_t - I_{t-1}}{\\Delta t} \\approx- I_{t-1} \\times \\gamma \\times N_t + I^+$\n",
    "\n",
    "Enfin : $I_t \\approx I_{t-1}(1 - \\gamma \\times N_t) + I^+$ car $\\Delta t = 1$ (On suppose qu'il y a une semaine entre chaque relevé)"
   ]
  },
  {
   "cell_type": "code",
   "execution_count": 27,
   "metadata": {},
   "outputs": [
    {
     "ename": "SyntaxError",
     "evalue": "invalid syntax (<ipython-input-27-d0368e57df17>, line 4)",
     "output_type": "error",
     "traceback": [
      "\u001b[0;36m  File \u001b[0;32m\"<ipython-input-27-d0368e57df17>\"\u001b[0;36m, line \u001b[0;32m4\u001b[0m\n\u001b[0;31m    It_plus_1 = ...\u001b[0m\n\u001b[0m                ^\u001b[0m\n\u001b[0;31mSyntaxError\u001b[0m\u001b[0;31m:\u001b[0m invalid syntax\n"
     ]
    }
   ],
   "source": [
    "def step(t, Ns, Is, lambda_, mu, pl):\n",
    "    R = alpha_0 * Ns[-1] / Is[-1]\n",
    "    Nt_plus_1 = lambda_ * R * E * mu * p_pup * pl\n",
    "    It_plus_1 = ...\n",
    "    Ns.append(Nt_plus_1)\n",
    "    Is.append(It_plus_1)\n",
    "    return Ns,Is\n",
    "\n",
    "def integrate(lambda_t, E, d_s, d_p, p_pup, II):\n",
    "    Ns = [0]\n",
    "    Is = [II(0)]\n",
    "    for i in xrange(0,T):\n",
    "        Ns,Is = integrator(i, Ns,Is, ...)\n",
    "    return Ns, Is\n"
   ]
  },
  {
   "cell_type": "markdown",
   "metadata": {},
   "source": [
    "#### Liste des paramètres connus\n",
    "\n",
    "$\\bar{L_t}$ est le nombre observé de larves piégées à la date t\n",
    "\n",
    "$E$ est le nombre maximal d'oeufs pondus par une femelle.\n",
    "\n",
    "$I^+$ est le nombre d'apparition d'inflos. En première approximation, suit une loi gaussienne sur la période de floraison.\n",
    "\n",
    "$d_l$ est la durée de dévelopement des larves et des oeufs. Entre 7 et 12 jours.\n",
    "\n",
    "$d_p$ est la durée de pupaison. Entre 4 et 6 jours.\n",
    "\n",
    "$\\beta$ est l'efficacité du piège. \n",
    "\n",
    "$p_{pup}$ est la probabilité d'entrer en pupaison\n"
   ]
  },
  {
   "cell_type": "code",
   "execution_count": 28,
   "metadata": {},
   "outputs": [
    {
     "name": "stdout",
     "output_type": "stream",
     "text": [
      "0.04652806079999999\n",
      "0.741\n"
     ]
    }
   ],
   "source": [
    "E = 150\n",
    "mu = 0.04\n",
    "d_l = 10\n",
    "d_p = 5\n",
    "beta = np.mean(np.array((0.002779957,0.067648562,-0.268880160,-0.173529546,0.604621491)))\n",
    "p_pup = (71.2+77)/2/100\n",
    "\n",
    "def II(t, t0, tmax, maxI):\n",
    "    from scipy.stats import norm\n",
    "    return norm.pdf(t-t0,(tmax-t0)/2,(tmax-t0)/2) * maxI\n",
    "    \n",
    "print beta\n",
    "print p_pup"
   ]
  },
  {
   "cell_type": "code",
   "execution_count": 29,
   "metadata": {},
   "outputs": [
    {
     "name": "stdout",
     "output_type": "stream",
     "text": [
      "13.29807601338109\n",
      "999.9852863810615\n"
     ]
    },
    {
     "data": {
      "image/png": "[encoded data removed]",
      "text/plain": [
       "<matplotlib.figure.Figure at 0x10e2bd910>"
      ]
     },
     "metadata": {},
     "output_type": "display_data"
    }
   ],
   "source": [
    "from matplotlib.pyplot import *\n",
    "from numpy import cumsum\n",
    "\n",
    "nbpoints = 60\n",
    "print II(nbpoints/2, 0, nbpoints, 1000)\n",
    "print sum(map(lambda t : II(t, 0, nbpoints, 1000), range(-100,nbpoints+100)))\n",
    "plot(range(-100, nbpoints+100), map(lambda t : II(t, 0, nbpoints, 1000), range(-100,nbpoints+100)))\n",
    "show()"
   ]
  },
  {
   "cell_type": "markdown",
   "metadata": {},
   "source": [
    "#### Liste des paramètres recherchés\n",
    "\n",
    "$\\lambda_t$ est le nombre d'adultes entrant dans le verger à la date t. Pour l'instant c'est un nombre constant au cours du temps.\n",
    "\n",
    "$\\mu^1_{MS}$ est la probabilité de survie de la larve de l’éjection au sol jusqu’à qu’elle rentre en terre selon la modalité du sol\n",
    "\n",
    "$\\mu^2_{MS}$ est la probabilité pour l’adulte de sortir du sol selon la modalité du sol\n",
    "\n",
    "$p_{l}$ est la probabilité pour l’adulte de rester dans le verger quand il sort du sol selon la modalité du sol\n",
    "\n",
    "$\\gamma$ est le taux de dégradation des inflos "
   ]
  },
  {
   "cell_type": "code",
   "execution_count": null,
   "metadata": {},
   "outputs": [],
   "source": []
  },
  {
   "cell_type": "markdown",
   "metadata": {},
   "source": [
    "### Optimization du système\n",
    "\n",
    "Fonction objectif : $\\sum ||L_t - \\bar{L_t}||$\n"
   ]
  },
  {
   "cell_type": "code",
   "execution_count": 1,
   "metadata": {},
   "outputs": [],
   "source": [
    "from scipy.optimize import least_squares\n",
    "import numpy as np\n",
    "import csv\n",
    "import random"
   ]
  },
  {
   "cell_type": "code",
   "execution_count": 1,
   "metadata": {},
   "outputs": [
    {
     "ename": "IOError",
     "evalue": "[Errno 2] No such file or directory: 'Bloc1_nb.larves.csv'",
     "output_type": "error",
     "traceback": [
      "\u001b[0;31m---------------------------------------------------------------------------\u001b[0m",
      "\u001b[0;31mIOError\u001b[0m                                   Traceback (most recent call last)",
      "\u001b[0;32m<ipython-input-1-e8ef83ce7c17>\u001b[0m in \u001b[0;36m<module>\u001b[0;34m()\u001b[0m\n\u001b[0;32m----> 1\u001b[0;31m \u001b[0mf1\u001b[0m \u001b[0;34m=\u001b[0m \u001b[0mopen\u001b[0m\u001b[0;34m(\u001b[0m\u001b[0;34m'Bloc1_nb.larves.csv'\u001b[0m\u001b[0;34m,\u001b[0m \u001b[0;34m'r'\u001b[0m\u001b[0;34m)\u001b[0m\u001b[0;34m\u001b[0m\u001b[0m\n\u001b[0m\u001b[1;32m      2\u001b[0m \u001b[0mtest1\u001b[0m \u001b[0;34m=\u001b[0m \u001b[0mcsv\u001b[0m\u001b[0;34m.\u001b[0m\u001b[0mreader\u001b[0m\u001b[0;34m(\u001b[0m\u001b[0mf1\u001b[0m\u001b[0;34m)\u001b[0m\u001b[0;34m\u001b[0m\u001b[0m\n\u001b[1;32m      3\u001b[0m \u001b[0mliste1\u001b[0m \u001b[0;34m=\u001b[0m \u001b[0;34m[\u001b[0m\u001b[0;34m]\u001b[0m\u001b[0;34m\u001b[0m\u001b[0m\n\u001b[1;32m      4\u001b[0m \u001b[0;32mfor\u001b[0m \u001b[0mrow\u001b[0m \u001b[0;32min\u001b[0m \u001b[0mtest1\u001b[0m\u001b[0;34m:\u001b[0m\u001b[0;34m\u001b[0m\u001b[0m\n\u001b[1;32m      5\u001b[0m     \u001b[0mliste1\u001b[0m\u001b[0;34m.\u001b[0m\u001b[0mappend\u001b[0m\u001b[0;34m(\u001b[0m\u001b[0mrow\u001b[0m\u001b[0;34m)\u001b[0m\u001b[0;34m\u001b[0m\u001b[0m\n",
      "\u001b[0;31mIOError\u001b[0m: [Errno 2] No such file or directory: 'Bloc1_nb.larves.csv'"
     ]
    }
   ],
   "source": [
    "f1 = open('Bloc1_nb.larves.csv', 'r')\n",
    "test1 = csv.reader(f1)\n",
    "liste1 = []\n",
    "for row in test1:\n",
    "    liste1.append(row)\n",
    "f1.close()\n",
    "\n",
    "f2 = open('Bloc1_nb.inflo.piege.csv', 'r')\n",
    "test2 = csv.reader(f2)\n",
    "liste2 = []\n",
    "for row in test2:\n",
    "    liste2.append(row)\n",
    "f2.close()"
   ]
  },
  {
   "cell_type": "code",
   "execution_count": 24,
   "metadata": {},
   "outputs": [],
   "source": [
    "M1 = np.zeros(len(liste1))\n",
    "M1[1] = liste1[1][2]\n",
    "for i in range (1,len(liste1)):\n",
    "    M1[i] = liste1[i][2]\n",
    "    \n",
    "M2 = np.zeros(len(liste2))\n",
    "M2[1] = liste2[1][2]\n",
    "for i in range (1,len(liste2)):\n",
    "    M2[i] = liste2[i][2]\n",
    "\n",
    "L_obs = M1\n"
   ]
  },
  {
   "cell_type": "code",
   "execution_count": 114,
   "metadata": {},
   "outputs": [],
   "source": []
  },
  {
   "cell_type": "code",
   "execution_count": 115,
   "metadata": {},
   "outputs": [],
   "source": [
    "\n",
    "\n",
    "def distance(Ns,Nobs):\n",
    "    return Ns-Nobs\n",
    "\n",
    "def objectif(params):\n",
    "    return distance(integrate(*params), Nobs)\n",
    "\n",
    "def optimize(p0):\n",
    "    res = least_squares(objectif, p0)\n",
    "    return res.x"
   ]
  }
 ],
 "metadata": {
  "kernelspec": {
   "display_name": "Python 2",
   "language": "python",
   "name": "python2"
  },
  "language_info": {
   "codemirror_mode": {
    "name": "ipython",
    "version": 2
   },
   "file_extension": ".py",
   "mimetype": "text/x-python",
   "name": "python",
   "nbconvert_exporter": "python",
   "pygments_lexer": "ipython2",
   "version": "2.7.14"
  }
 },
 "nbformat": 4,
 "nbformat_minor": 2
}
