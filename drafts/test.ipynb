{
 "cells": [
  {
   "cell_type": "markdown",
   "metadata": {},
   "source": [
    "# Objectif\n",
    "\n",
    "Ce document présente la mise en forme des données brutes du fichier $\\texttt{piege0.xlsx}$. L'objectif est d'obtenir pour une parcelle donnée (bloc, sous-bloc) et pour chaque date :\n",
    "\n",
    "* le nombre de larves s'éjectant de l'arbre ;\n",
    "* le nombre d'inflorescences vivantes ;\n",
    "* le nombre d'inflorescences mortes ;\n",
    "* le rapport larves / inflorescences vivantes.\n",
    "\n",
    "Les variables des données brutes utilisées sont :\n",
    "\n",
    "* $\\texttt{bloc}$ : le bloc dans lequel l'observation a été effectuée ;\n",
    "* $\\texttt{trait}$ : la modalité de couverture du sol ;\n",
    "* $\\texttt{arbre}$ : l'identifiant de l'arbre sur lequel l'observation a été effectuée ;\n",
    "* $\\texttt{piege}$ : l'identifiant du piège relatif aux observations ; \n",
    "* $\\texttt{date}$ : la date de l'observation ;\n",
    "* $\\texttt{nb.larves}$ : le nombre de larves présentes dans le piège ;\n",
    "* $\\texttt{nb.inflos.piege}$ ; le nombre d'inflorescences présentes au-dessus du piège ;\n",
    "* $\\texttt{nb.inflos}$ : le nombre d'inflorescences sur l'arbre sur lequel l'observation a été effectuée ;\n",
    "* $\\texttt{nb.inflos.mortes}$ : le nombre d'inflorescences mortes sur l'arbre sur lequel l'observation a été effectuée.\n",
    "\n",
    "Si l'on suppose que pour une parcelle considérée et une date fixée il y a $n$ arbres et $n_p$ arbres observés (*i.e* qui ont un piège en dessous), alors le nombre de larves s'éjectant du manguier est\n",
    "$$\\frac{n}{n_p}\\left(\\sum_{j=1}^{n_p}\\mbox{\\texttt{nb.larves}}_j\\times\\frac{\\mbox{\\texttt{nb.inflos}}_j }{\\mbox{\\texttt{nb.inflos.piege}}_j } \\right), $$ où \\texttt{nb.larves}$_j$, \\texttt{nb.inflos}$_j$ et \\texttt{nb.inflos.piege}$_j$ correspondent respectivement au nombres de larves contenus dans les pièges, au nombre d'inflorescences de l'arbre et au nombre d'inflorescences au-dessus des pièges pour le $j$^ème^ arbre de l'échantillon.\n",
    "\n",
    "De manière similaire on définit le nombre d'inflorescences vivantes, pour une parcelle et une date donnée, par\n",
    "$$ \\frac{n}{n_p}\\left(\\sum_{j=1}^{n_p} \\mbox{\\texttt{nb.inflos}}_j \\right), $$\n",
    "et le nombre d'inflorescences mortes par \n",
    "$$\\frac{n}{n_p}\\left(\\sum_{j=1}^{n_p} \\mbox{\\texttt{nb.inflos.mortes}}_j \\right).$$\n",
    "\n",
    "# Réalisation\n",
    "\n",
    "## Chargement des librairies"
   ]
  },
  {
   "cell_type": "code",
   "execution_count": 1,
   "metadata": {},
   "outputs": [
    {
     "name": "stderr",
     "output_type": "stream",
     "text": [
      "── Attaching packages ─────────────────────────────────────── tidyverse 1.2.1 ──\n",
      "✔ ggplot2 3.1.0       ✔ purrr   0.3.0  \n",
      "✔ tibble  2.0.1       ✔ dplyr   0.8.0.1\n",
      "✔ tidyr   0.8.2       ✔ stringr 1.4.0  \n",
      "✔ readr   1.3.1       ✔ forcats 0.4.0  \n",
      "── Conflicts ────────────────────────────────────────── tidyverse_conflicts() ──\n",
      "✖ dplyr::filter() masks stats::filter()\n",
      "✖ dplyr::lag()    masks stats::lag()\n",
      "\n",
      "Attaching package: ‘lubridate’\n",
      "\n",
      "The following object is masked from ‘package:base’:\n",
      "\n",
      "    date\n",
      "\n",
      "\n",
      "Attaching package: ‘magrittr’\n",
      "\n",
      "The following object is masked from ‘package:purrr’:\n",
      "\n",
      "    set_names\n",
      "\n",
      "The following object is masked from ‘package:tidyr’:\n",
      "\n",
      "    extract\n",
      "\n"
     ]
    }
   ],
   "source": [
    "library(tidyverse) ## Pour nettoyer les données\n",
    "library(readxl) ## Pour lire le fichier excel\n",
    "library(lubridate) ## Pour gérer les dates\n",
    "library(magrittr)"
   ]
  },
  {
   "cell_type": "markdown",
   "metadata": {},
   "source": [
    "## Importation du fichier\n",
    "\n",
    "On importe le fichier dans \\texttt{R}. Les arbres 19 et 36 du bloc 2 ont été enlevés car, contrairement aux autres, leurs relevés n'ont commencé qu'en septembre. Si cela entraîne une perte d'information, cela a l'avantage de permettre d'avoir le même nombre d'arbre par bloc/sous-bloc (à savoir 30 par bloc, 10 pour chaque modalité de couverture du sol)."
   ]
  },
  {
   "cell_type": "code",
   "execution_count": 2,
   "metadata": {},
   "outputs": [],
   "source": [
    "piege <- read_excel(\"/home/bastien/Stage/Moi/piege0.xlsx\", sheet = 3)\n",
    "\n",
    "## suppression arbre 19\n",
    "piege <- piege[-which(piege$bloc==2 & piege$trait=='enh.ras' & piege$arbre==19),]\n",
    " ## suppression arbre 36\n",
    "piege <- piege[-which(piege$bloc==2 & piege$trait=='enh.ras' & piege$arbre==36),]"
   ]
  },
  {
   "cell_type": "markdown",
   "metadata": {},
   "source": [
    "## Arrangement des données\n",
    "\n",
    "On attribue le type de données à chacune des variables, on supprime celles qui ne sont pas nécéssaires et enfin on ordonne les individus par date puis par modalité de couverture du sol et enfin par l'identifiant de l'arbre."
   ]
  },
  {
   "cell_type": "code",
   "execution_count": 3,
   "metadata": {},
   "outputs": [
    {
     "name": "stderr",
     "output_type": "stream",
     "text": [
      "Warning message:\n",
      "“NAs introduits lors de la conversion automatique”Warning message:\n",
      "“NAs introduits lors de la conversion automatique”Warning message:\n",
      "“NAs introduits lors de la conversion automatique”Warning message:\n",
      "“NAs introduits lors de la conversion automatique”Warning message:\n",
      "“NAs introduits lors de la conversion automatique”"
     ]
    }
   ],
   "source": [
    "piege %<>% mutate_at(vars(starts_with(\"nb.\")),list(as.numeric))\n",
    "piege %<>% mutate_at(c(\"piege\", \"trait\"), list(as.factor))\n",
    "piege %<>% mutate_at(\"date\", list(as.Date))\n",
    "piege %<>% select(-c(observations, nb.larves.estima, larve))\n",
    "piege %<>% arrange(arbre) %>% arrange(trait) %>% arrange(date)"
   ]
  },
  {
   "cell_type": "markdown",
   "metadata": {},
   "source": [
    "## Premier bloc\n",
    "\n",
    "Par souci de simplicité, on traite d'abord les données du premier bloc"
   ]
  },
  {
   "cell_type": "code",
   "execution_count": 4,
   "metadata": {},
   "outputs": [],
   "source": [
    "piege2 <- piege %>% filter(bloc==2)\n",
    "piege %<>% filter(bloc==1)"
   ]
  },
  {
   "cell_type": "markdown",
   "metadata": {},
   "source": [
    "### Correction d'erreurs et gestion des valeurs manquantes\n",
    "\n",
    "Il y a deux individus pour lesquels le piège n'est pas le bon (B au lieu de A). On corrige."
   ]
  },
  {
   "cell_type": "code",
   "execution_count": 5,
   "metadata": {},
   "outputs": [],
   "source": [
    "bad_ind <- which(piege$piege==\"B\")[which(which(piege$piege==\"B\") %% 2 == 1)]\n",
    "piege[bad_ind,]$piege <- \"A\""
   ]
  },
  {
   "cell_type": "markdown",
   "metadata": {},
   "source": [
    "Certaines valeurs manquantes sont présentes. Lorsque le nombre d'inflorescences au-dessus du piège est nul et que le nombre de larves dans le piège est manquant, on le fixe à 0. Dans les autres cas, la valeur manquante a été remplacée par la moyenne des autres valeurs dans le même bloc à la même date et avec la même modalité de couverture du sol."
   ]
  },
  {
   "cell_type": "code",
   "execution_count": 6,
   "metadata": {},
   "outputs": [],
   "source": [
    "piege[which(is.na(piege$nb.larves) & piege$nb.inflo.piege == 0), ]$nb.larves <- 0\n",
    "piege[which(is.na(piege$nb.inflo.piege)), ]$nb.inflo.piege <- 2.25\n",
    "piege[which(is.na(piege$nb.inflo)), ]$nb.inflo <- 26.55\n",
    "piege[which(is.na(piege$nb.larves) & piege$trait == \"bache\"), ]$nb.larves <- 2.57\n",
    "piege[which(is.na(piege$nb.larves) & piege$trait == \"enh.haut\"), ]$nb.larves <- 1.5\n",
    "piege[which(is.na(piege$nb.larves) & piege$trait == \"enh.ras\"), ]$nb.larves <- 2.63"
   ]
  },
  {
   "cell_type": "markdown",
   "metadata": {},
   "source": [
    "### Gestion des pièges\n",
    "\n",
    "Pour gérer les pièges, on sépare en deux le jeux de données. La première partie correspond aux observations réalisées avant le 17 août 2017 (soit avant la pose du deuxième piège) et la seconde correspond aux observations effectuées après ladite date."
   ]
  },
  {
   "cell_type": "code",
   "execution_count": 7,
   "metadata": {},
   "outputs": [],
   "source": [
    "piegeA <- piege %>% filter(date < \"2017-08-17\")\n",
    "piegeAB <- piege %>% filter(date > \"2017-08-17\")"
   ]
  },
  {
   "cell_type": "markdown",
   "metadata": {},
   "source": [
    "### Fonction\n",
    "\n",
    "La fonction suivante renvoie un fichier \\texttt{csv} contenant les informations voulues pour le bloc 1."
   ]
  },
  {
   "cell_type": "code",
   "execution_count": 8,
   "metadata": {},
   "outputs": [],
   "source": [
    "estimation_piege_bloc1 <- function(modalite = NULL){\n",
    "    ## Renvoie un fichier .csv contenant les estimations du nombre de larves dans\n",
    "    ## la parcelle, le nombre d'inflorescences vivante dans la parcelle, le nombre\n",
    "    ## d'inflorescences mortes et le rapport de larves/inflo_vivantes. Les estimations\n",
    "    ## sont données pour chaque date.\n",
    "    \n",
    "    ## Argument : modalité prend \"bache\", \"enh.ras\" ou \"enh.haut\".\n",
    "    ## Par défaut NULL renvoie pour le bloc entier\n",
    "    \n",
    "    if (!is.null(modalite)){\n",
    "        piegeA %<>% filter(trait==modalite)\n",
    "        piegeAB %<>% filter(trait==modalite)\n",
    "    }\n",
    "    \n",
    "    ### Initialisation data\n",
    "    nb.arbre.bloc <- 153\n",
    "    nb.arbre.bache <- 45\n",
    "    nb.arbre.ras <- 49\n",
    "    nb.arbre.haut <- 59\n",
    "    larves <- rep(NA, 20)\n",
    "    inflos_vivantes <- rep(NA, 20)\n",
    "    inflos_mortes <- rep(NA, 20)\n",
    "    larves_inflos <- rep(NA, 20)\n",
    "    \n",
    "    ### Avant 2017-08-17 (un seul piège)\n",
    "    \n",
    "    ## Création d'une variable calculant pour chaque observation \n",
    "    ## nb.larves * nb.inflo / nb.inflo.piege\n",
    "    ## qui est égale à 0 si nb.inflo.piege = 0\n",
    "    piegeA %<>% mutate(larves.arbre = nb.larves * nb.inflo / nb.inflo.piege)\n",
    "    piegeA$larves.arbre[which(is.na(piegeA$larves.arbre) |\n",
    "                                  is.infinite(piegeA$larves.arbre))] <- 0\n",
    "    \n",
    "    ## Dates de relevés avant la pose du second piège\n",
    "    dateA <- unique(piegeA$date)\n",
    "    \n",
    "    ## Calcule pour chaque date les valeurs voulues\n",
    "    for (day in 1:length(dateA)){\n",
    "        aux <- piegeA %>% filter(date==dateA[day])\n",
    "        larves[day] <- sum(aux$larves.arbre)\n",
    "        inflos_vivantes[day] <- sum(aux$nb.inflo)\n",
    "        inflos_mortes[day] <- sum(aux$nb.inflo.morte)\n",
    "    }\n",
    "    \n",
    "    ### Après 2017-08-17 (deux pièges)\n",
    "    \n",
    "    ## Dates de relevés après la pose du second piège\n",
    "    dateAB <- unique(piegeAB$date)\n",
    "    \n",
    "    ## Séparation des données selon le piège\n",
    "    piegeAB_A <- piegeAB %>% filter(piege==\"A\")\n",
    "    piegeAB_B <- piegeAB %>% filter(piege==\"B\")\n",
    "    \n",
    "    ## Addition des nb.larves et nb.inflos.piege des pièges A et B pour chaque arbre\n",
    "    piegeAB_A %<>% bind_cols(nb.larves_B = piegeAB_B$nb.larves, \n",
    "                             nb.inflo.piege_B = piegeAB_B$nb.inflo.piege)\n",
    "    piegeAB_A %<>% mutate(nb.larvesAB = nb.larves+nb.larves_B,\n",
    "                          nb.inflo.piegeAB = nb.inflo.piege+nb.inflo.piege_B) %>%\n",
    "        mutate(larves.arbre = nb.larvesAB * nb.inflo / nb.inflo.piegeAB)\n",
    "    piegeAB_A$larves.arbre[which(is.na(piegeAB_A$larves.arbre) |\n",
    "                                     is.infinite(piegeAB_A$larves.arbre))] <- 0\n",
    "    \n",
    "    ## Calcule pour chaque date les valeurs voulues\n",
    "    for (day in 1:length(dateAB)){\n",
    "        aux <- piegeAB_A %>% filter(date==dateAB[day])\n",
    "        \n",
    "        larves[day+length(dateA)] <- sum(aux$larves.arbre)\n",
    "        inflos_vivantes[day+length(dateA)] <- sum(aux$nb.inflo)\n",
    "        inflos_mortes[day+length(dateA)] <- sum(aux$nb.inflo.morte)\n",
    "    }\n",
    "    \n",
    "    ### Calcul du coeficient n / n_p en fonction de la modalité de couverture du sol\n",
    "    arbre.piege <- dim(piegeA %>% filter(date==\"2017-07-18\"))[1]\n",
    "    if (is.null(modalite)){\n",
    "        coef <- nb.arbre.bloc/arbre.piege \n",
    "    } else {\n",
    "        if (modalite == \"bache\")\n",
    "            coef <- nb.arbre.bache/arbre.piege\n",
    "        if (modalite == \"enh.ras\")\n",
    "            coef <- nb.arbre.ras/arbre.piege\n",
    "        if (modalite == \"enh.haut\")\n",
    "            coef <- nb.arbre.haut/arbre.piege\n",
    "    }\n",
    "    \n",
    "    ### Résultats\n",
    "    larves <- coef * larves\n",
    "    inflos_vivantes <- coef * inflos_vivantes\n",
    "    inflos_mortes <- coef * inflos_mortes\n",
    "    larves_inflos <- larves / inflos_vivantes\n",
    "    \n",
    "    df <- as_tibble(cbind(date = c(dateA, dateAB), larves = larves,\n",
    "                          inflos_vivantes = inflos_vivantes, inflos_mortes,\n",
    "                          larves_inflos = larves_inflos))\n",
    "    df$date <- as_date(df$date)\n",
    "    \n",
    "    write.csv2(df, paste0(\"Bloc1_\",modalite,\".csv\"))\n",
    "    return(df)\n",
    "}"
   ]
  },
  {
   "cell_type": "markdown",
   "metadata": {},
   "source": [
    "## Second bloc\n",
    "\n",
    "Le raisonnement est entièrement analogue à celui du bloc 1."
   ]
  },
  {
   "cell_type": "code",
   "execution_count": 9,
   "metadata": {},
   "outputs": [],
   "source": [
    "bad_ind <- which(piege2$piege==\"B\")[which(which(piege2$piege==\"B\") %% 2 == 1)]\n",
    "piege2[bad_ind,]$piege <- \"A\"\n",
    "\n",
    "piege2[which(is.na(piege2$nb.inflo.piege)), ]$nb.inflo.piege <- 0.84\n",
    "piege2[which(is.na(piege2$nb.larves) & piege2$nb.inflo.piege == 0), ]$nb.larves <- 0\n",
    "piege2[which(is.na(piege2$nb.larves)), ]$nb.larves <- 0\n",
    "\n",
    "piege2A <- piege2 %>% filter(date < \"2017-08-17\")\n",
    "piege2AB <- piege2 %>% filter(date > \"2017-08-17\")\n",
    "\n",
    "estimation_piege_bloc2 <- function(modalite = NULL){\n",
    "    ## Renvoie un fichier .csv contenant les estimations du nombre de larves dans\n",
    "    ## la parcelle, le nombre d'inflorescences vivante dans la parcelle, le nombre\n",
    "    ## d'inflorescences mortes et le rapport de larves/inflo_vivantes. Les estimations\n",
    "    ## sont données pour chaque date.\n",
    "    \n",
    "    ## Argument : modalité prend \"bache\", \"enh.ras\" ou \"enh.haut\". \n",
    "    ## Par défaut NULL renvoie pour le bloc entier\n",
    "    \n",
    "    if (!is.null(modalite)){\n",
    "        piege2A %<>% filter(trait==modalite)\n",
    "        piege2AB %<>% filter(trait==modalite)\n",
    "    }\n",
    "    \n",
    "    ### Initialisation data\n",
    "    nb.arbre.bloc <- 150\n",
    "    nb.arbre.bache <- 51\n",
    "    nb.arbre.ras <- 53\n",
    "    nb.arbre.haut <- 46\n",
    "    larves <- rep(NA, 20)\n",
    "    inflos_vivantes <- rep(NA, 20)\n",
    "    inflos_mortes <- rep(NA, 20)\n",
    "    larves_inflos <- rep(NA, 20)\n",
    "    \n",
    "    ### Avant 2017-08-17 (un seul piège)\n",
    "    \n",
    "    ## Création d'une variable calculant pour chaque observation\n",
    "    ## nb.larves * nb.inflo / nb.inflo.piege\n",
    "    ## qui est égale à 0 si nb.inflo.piege = 0\n",
    "    piege2A %<>% mutate(larves.arbre = nb.larves * nb.inflo / nb.inflo.piege)\n",
    "    piege2A$larves.arbre[which(is.na(piege2A$larves.arbre) |\n",
    "                                   is.infinite(piege2A$larves.arbre))] <- 0\n",
    "    \n",
    "    ## Dates de relevés avant la pose du second piège\n",
    "    dateA <- unique(piege2A$date)\n",
    "    \n",
    "    ## Calcule pour chaque date les valeurs voulues\n",
    "    for (day in 1:length(dateA)){\n",
    "        aux <- piege2A %>% filter(date==dateA[day])\n",
    "        larves[day] <- sum(aux$larves.arbre)\n",
    "        inflos_vivantes[day] <- sum(aux$nb.inflo)\n",
    "        inflos_mortes[day] <- sum(aux$nb.inflo.morte)\n",
    "    }\n",
    "    \n",
    "    ### Après 2017-08-17 (deux pièges)\n",
    "    \n",
    "    ## Dates de relevés après la pose du second piège\n",
    "    dateAB <- unique(piege2AB$date)\n",
    "    \n",
    "    ## Séparation des données selon le piège\n",
    "    piegeAB_A <- piege2AB %>% filter(piege==\"A\")\n",
    "    piegeAB_B <- piege2AB %>% filter(piege==\"B\")\n",
    "    \n",
    "    ## Addition des nb.larves et nb.inflos.piege des pièges A et B pour chaque arbre\n",
    "    piegeAB_A %<>% bind_cols(nb.larves_B = piegeAB_B$nb.larves,\n",
    "                             nb.inflo.piege_B = piegeAB_B$nb.inflo.piege)\n",
    "    piegeAB_A %<>% mutate(nb.larvesAB = nb.larves+nb.larves_B,\n",
    "                          nb.inflo.piegeAB = nb.inflo.piege+nb.inflo.piege_B) %>%\n",
    "              mutate(larves.arbre = nb.larvesAB * nb.inflo / nb.inflo.piegeAB)\n",
    "    piegeAB_A$larves.arbre[which(is.na(piegeAB_A$larves.arbre) |\n",
    "                                     is.infinite(piegeAB_A$larves.arbre))] <- 0\n",
    "    \n",
    "    ## Calcule pour chaque date les valeurs voulues\n",
    "    for (day in 1:length(dateAB)){\n",
    "        aux <- piegeAB_A %>% filter(date==dateAB[day])\n",
    "        \n",
    "        larves[day+length(dateA)] <- sum(aux$larves.arbre)\n",
    "        inflos_vivantes[day+length(dateA)] <- sum(aux$nb.inflo)\n",
    "        inflos_mortes[day+length(dateA)] <- sum(aux$nb.inflo.morte)\n",
    "    }\n",
    "    \n",
    "    ### Calcul du coeficient n / n_p en fonction de la modalité de couverture du sol\n",
    "    arbre.piege <- dim(piege2A %>% filter(date==\"2017-07-18\"))[1]\n",
    "    if (is.null(modalite)){\n",
    "        coef <- nb.arbre.bloc/arbre.piege \n",
    "    } else {\n",
    "        if (modalite == \"bache\")\n",
    "            coef <- nb.arbre.bache/arbre.piege\n",
    "        if (modalite == \"enh.ras\")\n",
    "            coef <- nb.arbre.ras/arbre.piege\n",
    "        if (modalite == \"enh.haut\")\n",
    "            coef <- nb.arbre.haut/arbre.piege\n",
    "    }\n",
    "    \n",
    "    ### Résultats\n",
    "    larves <- coef * larves\n",
    "    inflos_vivantes <- coef * inflos_vivantes\n",
    "    inflos_mortes <- coef * inflos_mortes\n",
    "    larves_inflos <- larves / inflos_vivantes\n",
    "    \n",
    "    df <- as_tibble(cbind(date = c(dateA, dateAB), larves = larves,\n",
    "                          inflos_vivantes = inflos_vivantes, \n",
    "                          inflos_mortes, larves_inflos = larves_inflos))\n",
    "    df$date <- as_date(df$date)\n",
    "    \n",
    "    write.csv2(df, paste0(\"Bloc_\",modalite,\".csv\"))\n",
    "    return(df)\n",
    "}"
   ]
  },
  {
   "cell_type": "markdown",
   "metadata": {},
   "source": [
    "# Différence avec Laurie\n",
    "\n",
    "Il y a quelques différences avec le travail de Laurie : \n",
    "\n",
    "* la suppression de l'arbre 36 du bloc 2 ;\n",
    "* les données manquantes n'ont pas étés supprimés mais remplacés par la moyenne des individus ayant les même caractéristiques. Les données manquantes étant peu nombreuses, cela ne change pas grand chose ;\n",
    "* les dates selectionnées sont ici les dates de relevés ;\n",
    "* des différences de valeurs pour certaines modalités/variables dans le bloc 2."
   ]
  },
  {
   "cell_type": "code",
   "execution_count": null,
   "metadata": {},
   "outputs": [],
   "source": []
  }
 ],
 "metadata": {
  "kernelspec": {
   "display_name": "R",
   "language": "R",
   "name": "ir"
  },
  "language_info": {
   "codemirror_mode": "r",
   "file_extension": ".r",
   "mimetype": "text/x-r-source",
   "name": "R",
   "pygments_lexer": "r",
   "version": "3.5.2"
  }
 },
 "nbformat": 4,
 "nbformat_minor": 2
}
